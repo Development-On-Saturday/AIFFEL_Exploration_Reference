{
 "cells": [
  {
   "cell_type": "code",
   "execution_count": 1,
   "metadata": {},
   "outputs": [],
   "source": [
    "# 라이브러리 import\n",
    "# 파이썬 기본 라이브러리를 가장 위에 쓰는 것을 추천\n",
    "import os\n",
    "\n",
    "import numpy as np\n",
    "import matplotlib.pyplot as plt\n",
    "from PIL import Image\n",
    "import glob\n",
    "\n",
    "from tensorflow import keras\n",
    "import tensorflow as tf"
   ]
  },
  {
   "cell_type": "code",
   "execution_count": 2,
   "metadata": {},
   "outputs": [],
   "source": [
    "# seed 고정\n",
    "tf.random.set_seed(123)\n",
    "np.random.seed(123)"
   ]
  },
  {
   "cell_type": "code",
   "execution_count": 3,
   "metadata": {},
   "outputs": [],
   "source": [
    "# 데이터 load함수\n",
    "def load_data(img_path, is_train=True):\n",
    "    # train 인지 test인지 구분\n",
    "    if is_train:\n",
    "        number_of_data=len(glob.glob('./data/train/*/*/*'))   # 가위바위보 이미지 개수 총합에 주의하세요.\n",
    "        img_path += '/train/*' \n",
    "    else:\n",
    "        number_of_data=len(glob.glob('./data/test/*/*/*'))\n",
    "        img_path += '/test/*'\n",
    "    # 가위 : 0, 바위 : 1, 보 : 2\n",
    "    img_size=28\n",
    "    color=3\n",
    "    #이미지 데이터와 라벨(가위 : 0, 바위 : 1, 보 : 2) 데이터를 담을 행렬(matrix) 영역을 생성합니다.\n",
    "    # 데이터 shape => (데이터 수, 너비, 높이, 채널)\n",
    "    imgs=np.zeros(number_of_data*img_size*img_size*color,dtype=np.int32).reshape(number_of_data,img_size,img_size,color)\n",
    "    labels=np.zeros(number_of_data,dtype=np.int32)\n",
    "    \n",
    "    #  이미지 resize\n",
    "    # 원본 이미지를 보존하고 싶어요\n",
    "    def image_resize(file):\n",
    "        image = Image.open(file)\n",
    "        image = image.resize((img_size, img_size), Image.ANTIALIAS)\n",
    "        img = np.array(image,dtype=np.int32)\n",
    "        return img\n",
    "    \n",
    "    idx=0\n",
    "    for file in glob.iglob(img_path+'/scissor/*.jpg'):\n",
    "        # 저는 굳이 데이터를 축소해서 저장하고 싶지 않습니다\n",
    "        img = image_resize(file)\n",
    "        imgs[idx,:,:,:]=img    # 데이터 영역에 이미지 행렬을 복사\n",
    "        labels[idx]=0   # 가위 : 0\n",
    "        idx=idx+1\n",
    "    for file in glob.iglob(img_path+'/rock/*.jpg'):\n",
    "        img = image_resize(file)\n",
    "        imgs[idx,:,:,:]=img    # 데이터 영역에 이미지 행렬을 복사\n",
    "        labels[idx]=1   # 바위 : 1\n",
    "        idx=idx+1       \n",
    "\n",
    "    for file in glob.iglob(img_path+'/paper/*.jpg'):\n",
    "        img = image_resize(file)\n",
    "        imgs[idx,:,:,:]=img    # 데이터 영역에 이미지 행렬을 복사\n",
    "        labels[idx]=2   # 보 : 2\n",
    "        idx=idx+1\n",
    "        \n",
    "    if is_train==True:    \n",
    "        print(\"학습 데이터(x_train)의 이미지 개수는\",idx,\"입니다.\")\n",
    "    else:\n",
    "        print(\"테스트 데이터(x_test)의 이미지 개수는\",idx,\"입니다.\")\n",
    "    return imgs, labels"
   ]
  },
  {
   "cell_type": "code",
   "execution_count": 4,
   "metadata": {},
   "outputs": [],
   "source": [
    "image_path = os.getcwd()+\"/data/\""
   ]
  },
  {
   "cell_type": "code",
   "execution_count": 5,
   "metadata": {},
   "outputs": [
    {
     "name": "stdout",
     "output_type": "stream",
     "text": [
      "학습 데이터(x_train)의 이미지 개수는 3600 입니다.\n"
     ]
    }
   ],
   "source": [
    "x_train, y_train = load_data(image_path, is_train=True)\n",
    "x_train_norm = x_train/255.0   # 입력은 0~1 사이의 값으로 정규화"
   ]
  },
  {
   "cell_type": "code",
   "execution_count": 6,
   "metadata": {},
   "outputs": [
    {
     "name": "stdout",
     "output_type": "stream",
     "text": [
      "x_train shape: (3600, 28, 28, 3)\n",
      "y_train shape: (3600,)\n"
     ]
    }
   ],
   "source": [
    "# 저는  f-string을 더 좋아합니다\n",
    "print(f\"x_train shape: {x_train.shape}\")\n",
    "print(f\"y_train shape: {y_train.shape}\")"
   ]
  },
  {
   "cell_type": "code",
   "execution_count": 7,
   "metadata": {},
   "outputs": [
    {
     "name": "stdout",
     "output_type": "stream",
     "text": [
      "라벨 :  0\n"
     ]
    },
    {
     "data": {
      "image/png": "[encoded data removed]",
      "text/plain": [
       "<Figure size 432x288 with 1 Axes>"
      ]
     },
     "metadata": {
      "needs_background": "light"
     },
     "output_type": "display_data"
    }
   ],
   "source": [
    "# Data 확인\n",
    "plt.imshow(x_train[0])\n",
    "print(\"라벨 : \", y_train[0])"
   ]
  },
  {
   "cell_type": "code",
   "execution_count": 8,
   "metadata": {},
   "outputs": [],
   "source": [
    "# Model \n",
    "# layer도 추가하고 dropout도 추가를 해봤습니다.\n",
    "# 층을 더 깊게 쌓는다고해서 성능이 더 좋아지는 것은 아닙니다\n",
    "model=keras.models.Sequential([\n",
    "    keras.layers.Conv2D(64, (3,3), activation='relu', input_shape=(28,28,3)),\n",
    "    keras.layers.MaxPool2D(2,2),\n",
    "    keras.layers.Dropout(0.2),\n",
    "    keras.layers.Conv2D(32, (3,3), activation='relu'),\n",
    "    keras.layers.MaxPooling2D((2,2)),\n",
    "    keras.layers.Flatten(),\n",
    "    keras.layers.Dropout(0.2),\n",
    "    keras.layers.Dense(32, activation='relu'),\n",
    "    keras.layers.Dropout(0.2),\n",
    "    keras.layers.Dense(3, activation='softmax'),\n",
    "])\n"
   ]
  },
  {
   "cell_type": "code",
   "execution_count": 9,
   "metadata": {},
   "outputs": [
    {
     "name": "stdout",
     "output_type": "stream",
     "text": [
      "Epoch 1/100\n",
      "79/79 - 1s - loss: 4.8070 - accuracy: 0.4675 - val_loss: 1.3637 - val_accuracy: 9.2593e-04\n",
      "Epoch 2/100\n",
      "79/79 - 1s - loss: 0.9604 - accuracy: 0.5202 - val_loss: 2.2483 - val_accuracy: 0.0000e+00\n",
      "Epoch 3/100\n",
      "79/79 - 1s - loss: 0.8875 - accuracy: 0.5472 - val_loss: 2.0113 - val_accuracy: 0.0000e+00\n",
      "Epoch 4/100\n",
      "79/79 - 1s - loss: 0.8513 - accuracy: 0.5865 - val_loss: 2.3089 - val_accuracy: 0.0000e+00\n",
      "Epoch 5/100\n",
      "79/79 - 1s - loss: 0.7799 - accuracy: 0.6452 - val_loss: 2.0345 - val_accuracy: 0.0000e+00\n",
      "Epoch 6/100\n",
      "79/79 - 1s - loss: 0.7341 - accuracy: 0.6754 - val_loss: 2.7620 - val_accuracy: 0.0000e+00\n",
      "Epoch 7/100\n",
      "79/79 - 1s - loss: 0.6844 - accuracy: 0.7067 - val_loss: 2.7961 - val_accuracy: 0.0000e+00\n",
      "Epoch 8/100\n",
      "79/79 - 1s - loss: 0.6160 - accuracy: 0.7365 - val_loss: 2.3764 - val_accuracy: 0.0000e+00\n",
      "Epoch 9/100\n",
      "79/79 - 1s - loss: 0.5974 - accuracy: 0.7440 - val_loss: 2.3185 - val_accuracy: 0.0019\n",
      "Epoch 10/100\n",
      "79/79 - 1s - loss: 0.5638 - accuracy: 0.7679 - val_loss: 2.5174 - val_accuracy: 0.0019\n",
      "Epoch 11/100\n",
      "79/79 - 1s - loss: 0.5234 - accuracy: 0.7917 - val_loss: 2.5168 - val_accuracy: 0.0083\n",
      "Epoch 12/100\n",
      "79/79 - 1s - loss: 0.5035 - accuracy: 0.8004 - val_loss: 2.5844 - val_accuracy: 0.0241\n"
     ]
    },
    {
     "data": {
      "text/plain": [
       "<tensorflow.python.keras.callbacks.History at 0x7f001c2ae990>"
      ]
     },
     "execution_count": 9,
     "metadata": {},
     "output_type": "execute_result"
    }
   ],
   "source": [
    "model.compile(optimizer=keras.optimizers.Adam(),\n",
    "              loss ='sparse_categorical_crossentropy',\n",
    "              metrics=['accuracy']\n",
    "             )\n",
    "# early_stopping은 monitor를 기준으로  patience 동안만큼 나아지지 않으면 epoch을 더 돌지말고 멈추게 만드는 callback입니다.\n",
    "#  val_loss가 11번동안 나아지지 않으면 학습을 멈추는 것입니다.\n",
    "early_stopping = keras.callbacks.EarlyStopping(monitor=\"val_loss\", patience=11)\n",
    "# shuffle은 데이터를 섞어줍니다\n",
    "# callback은 위에서 만든 callback을 넣어줍니다\n",
    "# validation_split은 비율만큼 validation set으로 사용합니다\n",
    "model.fit(x_train, y_train,verbose=2, epochs=100, batch_size=32, shuffle=True,callbacks=[early_stopping] ,validation_split=0.3)"
   ]
  },
  {
   "cell_type": "code",
   "execution_count": 12,
   "metadata": {},
   "outputs": [
    {
     "name": "stdout",
     "output_type": "stream",
     "text": [
      "테스트 데이터(x_test)의 이미지 개수는 600 입니다.\n",
      "x_test shape: (600, 28, 28, 3)\n",
      "y_test shape: (600,)\n"
     ]
    }
   ],
   "source": [
    "# Test dataset 불러오기\n",
    "(x_test, y_test)=load_data(image_path,False)\n",
    "x_test_norm = x_test/255.0   # 입력은 0~1 사이의 값으로 정규화\n",
    "print(f\"x_test shape: {x_test.shape}\")\n",
    "print(f\"y_test shape: {y_test.shape}\")"
   ]
  },
  {
   "cell_type": "code",
   "execution_count": 13,
   "metadata": {},
   "outputs": [
    {
     "name": "stdout",
     "output_type": "stream",
     "text": [
      "19/19 - 0s - loss: 1.1191 - accuracy: 0.3333\n"
     ]
    }
   ],
   "source": [
    "# 처참한 성능이네요... ㄷㄷ\n",
    "test_loss, test_accuracy = model.evaluate(x_test_norm, y_test, verbose=2)"
   ]
  }
 ],
 "metadata": {
  "kernelspec": {
   "display_name": "aiffel",
   "language": "python",
   "name": "aiffel"
  },
  "language_info": {
   "codemirror_mode": {
    "name": "ipython",
    "version": 3
   },
   "file_extension": ".py",
   "mimetype": "text/x-python",
   "name": "python",
   "nbconvert_exporter": "python",
   "pygments_lexer": "ipython3",
   "version": "3.7.9"
  }
 },
 "nbformat": 4,
 "nbformat_minor": 4
}
