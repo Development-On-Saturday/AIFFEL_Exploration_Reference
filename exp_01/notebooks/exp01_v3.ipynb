{
 "cells": [
  {
   "cell_type": "code",
   "execution_count": 90,
   "metadata": {},
   "outputs": [],
   "source": [
    "import os\n",
    "from glob import glob\n",
    "from PIL import Image\n",
    "import numpy as np\n",
    "\n",
    "import tensorflow as tf\n",
    "import tensorflow.keras as keras\n",
    "\n",
    "from sklearn.model_selection import train_test_split"
   ]
  },
  {
   "cell_type": "code",
   "execution_count": 17,
   "metadata": {},
   "outputs": [],
   "source": [
    "train_path = glob(os.path.join(os.getenv(\"HOME\"), \"data/rock_scissor_paper/train/*/*/*\"))\n",
    "test_path = glob(os.path.join(os.getenv(\"HOME\"), \"data/rock_scissor_paper/test/*/*/*\"))"
   ]
  },
  {
   "cell_type": "code",
   "execution_count": 32,
   "metadata": {},
   "outputs": [
    {
     "name": "stdout",
     "output_type": "stream",
     "text": [
      "Total image size : 4317\n"
     ]
    }
   ],
   "source": [
    "data_size = len(train_path) + len(test_path)\n",
    "print(f\"Total image size : {data_size}\")"
   ]
  },
  {
   "cell_type": "code",
   "execution_count": 65,
   "metadata": {},
   "outputs": [],
   "source": [
    "def resize_img(img, img_size, color):\n",
    "    new_img = np.reshape(img, (img_size,img_size, color))\n",
    "    return new_img"
   ]
  },
  {
   "cell_type": "code",
   "execution_count": 81,
   "metadata": {},
   "outputs": [],
   "source": [
    "def load_data(img_path, num_data):\n",
    "    #불러올 폴더 내에 존재하는 데이터 정보\n",
    "    number_of_data = num_data\n",
    "    img_size = 28\n",
    "    color = 3\n",
    "    \n",
    "    imgs = np.zeros(number_of_data*img_size*img_size*color, dtype=np.int32).reshape(number_of_data, img_size, img_size, color)\n",
    "    labels = np.zeros(number_of_data, dtype = np.int32)\n",
    "    \n",
    "    idx=0\n",
    "    for file in glob(img_path+'*/*/scissor/*'):\n",
    "        img = np.array(Image.open(file),dtype=np.int32)\n",
    "        img = resize_img(img, img_size, color)\n",
    "        imgs[idx,:,:,:]=img   # 데이터 영역에 이미지 행렬을 복사\n",
    "        labels[idx]=0   # 가위 : 0\n",
    "        idx=idx+1\n",
    "    \n",
    "    for file in glob(img_path+'*/*/rock/*'):\n",
    "        img = np.array(Image.open(file),dtype=np.int32)\n",
    "        img = resize_img(img, img_size, color)\n",
    "        imgs[idx,:,:,:]=img    # 데이터 영역에 이미지 행렬을 복사\n",
    "        labels[idx]=1   # 바위 : 1\n",
    "        idx=idx+1\n",
    "    \n",
    "    for file in glob(img_path+'*/*/paper/*'):\n",
    "        img = np.array(Image.open(file),dtype=np.int32)\n",
    "        img = resize_img(img, img_size, color)\n",
    "        imgs[idx,:,:,:]=img    # 데이터 영역에 이미지 행렬을 복사\n",
    "        labels[idx]=2   # 보 : 2\n",
    "        idx = idx+1\n",
    "\n",
    "    return imgs, labels"
   ]
  },
  {
   "cell_type": "code",
   "execution_count": 82,
   "metadata": {},
   "outputs": [],
   "source": [
    "data_dir = os.getenv(\"HOME\")+\"/data/rock_scissor_paper/\"\n",
    "(img, label) = load_data(data_dir, data_size)"
   ]
  },
  {
   "cell_type": "code",
   "execution_count": 83,
   "metadata": {},
   "outputs": [
    {
     "data": {
      "text/plain": [
       "Text(0.5, 1.0, '2')"
      ]
     },
     "execution_count": 83,
     "metadata": {},
     "output_type": "execute_result"
    },
    {
     "data": {
      "image/png": "[encoded data removed]",
      "text/plain": [
       "<Figure size 432x288 with 1 Axes>"
      ]
     },
     "metadata": {
      "needs_background": "light"
     },
     "output_type": "display_data"
    }
   ],
   "source": [
    "import matplotlib.pyplot as plt\n",
    "\n",
    "plt.imshow(img[4300])\n",
    "plt.title(label[4300], loc='center')"
   ]
  },
  {
   "cell_type": "code",
   "execution_count": 84,
   "metadata": {},
   "outputs": [],
   "source": [
    "img = img/255.0"
   ]
  },
  {
   "cell_type": "code",
   "execution_count": 87,
   "metadata": {},
   "outputs": [
    {
     "data": {
      "text/plain": [
       "(1.0, 0.0)"
      ]
     },
     "execution_count": 87,
     "metadata": {},
     "output_type": "execute_result"
    }
   ],
   "source": [
    "np.max(img), np.min(img)"
   ]
  },
  {
   "cell_type": "code",
   "execution_count": 94,
   "metadata": {},
   "outputs": [],
   "source": [
    "x_train, x_test, y_train, y_test = train_test_split(img, label, test_size=0.1, shuffle=True)"
   ]
  },
  {
   "cell_type": "code",
   "execution_count": 95,
   "metadata": {},
   "outputs": [
    {
     "name": "stdout",
     "output_type": "stream",
     "text": [
      "x_train shape: (3885, 28, 28, 3)\n",
      "y_train shape: (3885,)\n"
     ]
    }
   ],
   "source": [
    "#학습 데이터의 사이즈를 확인한다.\n",
    "print(\"x_train shape: {}\".format(x_train.shape))\n",
    "print(\"y_train shape: {}\".format(y_train.shape))"
   ]
  },
  {
   "cell_type": "code",
   "execution_count": 96,
   "metadata": {},
   "outputs": [
    {
     "name": "stdout",
     "output_type": "stream",
     "text": [
      "x_test shape: (432, 28, 28, 3)\n",
      "y_test shape: (432,)\n"
     ]
    }
   ],
   "source": [
    "#test data의 shape을 확인한다.\n",
    "print(\"x_test shape: {}\".format(x_test.shape))\n",
    "print(\"y_test shape: {}\".format(y_test.shape))"
   ]
  },
  {
   "cell_type": "code",
   "execution_count": 97,
   "metadata": {
    "scrolled": true
   },
   "outputs": [
    {
     "name": "stdout",
     "output_type": "stream",
     "text": [
      "Model: \"sequential_2\"\n",
      "_________________________________________________________________\n",
      "Layer (type)                 Output Shape              Param #   \n",
      "=================================================================\n",
      "conv2d_4 (Conv2D)            (None, 26, 26, 64)        1792      \n",
      "_________________________________________________________________\n",
      "max_pooling2d_4 (MaxPooling2 (None, 13, 13, 64)        0         \n",
      "_________________________________________________________________\n",
      "conv2d_5 (Conv2D)            (None, 11, 11, 64)        36928     \n",
      "_________________________________________________________________\n",
      "max_pooling2d_5 (MaxPooling2 (None, 5, 5, 64)          0         \n",
      "_________________________________________________________________\n",
      "flatten_2 (Flatten)          (None, 1600)              0         \n",
      "_________________________________________________________________\n",
      "dense_2 (Dense)              (None, 3)                 4803      \n",
      "=================================================================\n",
      "Total params: 43,523\n",
      "Trainable params: 43,523\n",
      "Non-trainable params: 0\n",
      "_________________________________________________________________\n"
     ]
    }
   ],
   "source": [
    "model=keras.models.Sequential()\n",
    "model.add(keras.layers.Conv2D(64, (3,3), activation='relu', input_shape=(28,28,3), activity_regularizer=tf.keras.regularizers.l2(0.01)))\n",
    "model.add(keras.layers.MaxPool2D(2,2))\n",
    "model.add(keras.layers.Conv2D(64, (3,3), activation='relu',activity_regularizer=tf.keras.regularizers.l2(0.01)))\n",
    "model.add(keras.layers.MaxPooling2D((2,2)))\n",
    "model.add(keras.layers.Flatten())\n",
    "model.add(keras.layers.Dense(3, activation='softmax'))\n",
    "model.summary()"
   ]
  },
  {
   "cell_type": "code",
   "execution_count": 98,
   "metadata": {},
   "outputs": [
    {
     "name": "stdout",
     "output_type": "stream",
     "text": [
      "NO\n",
      "Physical devices cannot be modified after being initialized\n"
     ]
    }
   ],
   "source": [
    "gpus = tf.config.experimental.list_physical_devices('GPU')\n",
    "if gpus:\n",
    "    try:\n",
    "        # Currently, memory growth needs to be the same across GPUs\n",
    "        for gpu in gpus:\n",
    "            tf.config.experimental.set_memory_growth(gpu, True)\n",
    "        logical_gpus = tf.config.experimental.list_logical_devices('GPU')\n",
    "        print(len(gpus), \"Physical GPUs,\", len(logical_gpus), \"Logical GPUs\")\n",
    "    except RuntimeError as e:\n",
    "        # Memory growth must be set before GPUs have been initialized\n",
    "        print(\"NO\")\n",
    "        print(e)"
   ]
  },
  {
   "cell_type": "code",
   "execution_count": 99,
   "metadata": {},
   "outputs": [
    {
     "data": {
      "text/plain": [
       "[PhysicalDevice(name='/physical_device:GPU:0', device_type='GPU')]"
      ]
     },
     "execution_count": 99,
     "metadata": {},
     "output_type": "execute_result"
    }
   ],
   "source": [
    "tf.config.experimental.list_physical_devices('GPU')"
   ]
  },
  {
   "cell_type": "code",
   "execution_count": 100,
   "metadata": {},
   "outputs": [
    {
     "name": "stdout",
     "output_type": "stream",
     "text": [
      "Epoch 1/10\n",
      "110/110 [==============================] - 5s 41ms/step - loss: 2.1886 - accuracy: 0.3830 - val_loss: 1.1498 - val_accuracy: 0.4961\n",
      "Epoch 2/10\n",
      "110/110 [==============================] - 0s 2ms/step - loss: 1.1080 - accuracy: 0.5506 - val_loss: 1.0842 - val_accuracy: 0.5835\n",
      "Epoch 3/10\n",
      "110/110 [==============================] - 0s 2ms/step - loss: 1.0579 - accuracy: 0.6053 - val_loss: 1.0180 - val_accuracy: 0.6504\n",
      "Epoch 4/10\n",
      "110/110 [==============================] - 0s 2ms/step - loss: 0.9662 - accuracy: 0.6931 - val_loss: 0.9002 - val_accuracy: 0.7481\n",
      "Epoch 5/10\n",
      "110/110 [==============================] - 0s 2ms/step - loss: 0.8482 - accuracy: 0.7666 - val_loss: 0.7909 - val_accuracy: 0.7892\n",
      "Epoch 6/10\n",
      "110/110 [==============================] - 0s 2ms/step - loss: 0.7455 - accuracy: 0.8118 - val_loss: 0.7175 - val_accuracy: 0.8021\n",
      "Epoch 7/10\n",
      "110/110 [==============================] - 0s 2ms/step - loss: 0.6582 - accuracy: 0.8412 - val_loss: 0.6305 - val_accuracy: 0.8380\n",
      "Epoch 8/10\n",
      "110/110 [==============================] - 0s 2ms/step - loss: 0.6002 - accuracy: 0.8541 - val_loss: 0.5878 - val_accuracy: 0.8483\n",
      "Epoch 9/10\n",
      "110/110 [==============================] - 0s 2ms/step - loss: 0.5541 - accuracy: 0.8633 - val_loss: 0.5356 - val_accuracy: 0.8535\n",
      "Epoch 10/10\n",
      "110/110 [==============================] - 0s 2ms/step - loss: 0.5155 - accuracy: 0.8773 - val_loss: 0.5026 - val_accuracy: 0.8638\n"
     ]
    },
    {
     "data": {
      "text/plain": [
       "<tensorflow.python.keras.callbacks.History at 0x7f52908a6e50>"
      ]
     },
     "execution_count": 100,
     "metadata": {},
     "output_type": "execute_result"
    }
   ],
   "source": [
    "model.compile(optimizer = tf.keras.optimizers.Adam(learning_rate=0.0003), loss = 'sparse_categorical_crossentropy', metrics=['accuracy'])\n",
    "model.fit(x_train, y_train, epochs = 10, batch_size = 32, validation_split = 0.1)"
   ]
  },
  {
   "cell_type": "code",
   "execution_count": 101,
   "metadata": {
    "scrolled": true
   },
   "outputs": [
    {
     "name": "stdout",
     "output_type": "stream",
     "text": [
      "14/14 - 1s - loss: 0.5104 - accuracy: 0.8750\n",
      "test_loss: 0.5103816390037537 \n",
      "test_accuracy: 0.875\n"
     ]
    }
   ],
   "source": [
    "test_loss, test_accuracy = model.evaluate(x_test, y_test, verbose=2)\n",
    "print(\"test_loss: {} \".format(test_loss))\n",
    "print(\"test_accuracy: {}\".format(test_accuracy))"
   ]
  },
  {
   "cell_type": "code",
   "execution_count": 102,
   "metadata": {},
   "outputs": [
    {
     "name": "stdout",
     "output_type": "stream",
     "text": [
      "432\n",
      "[0 1 0 1 1 2 2 1 1 1 1 0 2 1 2 0 0 0 1 2 1 2 1 1 1 2 1 0 1 1 1 0 2 2 1 1 0\n",
      " 1 0 1 1 0 1 0 1 1 1 1 1 2 1 1 2 2 2 1 0 0 1 0 1 1 0 2 1 2 2 1 1 0 1 1 0 1\n",
      " 1 1 1 0 1 2 2 1 1 1 1 1 1 2 0 0 1 2 0 1 2 2 0 2 0 1 0 2 1 0 2 2 0 1 2 0 1\n",
      " 2 2 2 0 1 0 1 0 1 1 1 1 2 1 2 1 0 0 0 2 0 1 2 2 2 1 1 1 2 2 2 0 2 2 1 1 1\n",
      " 2 0 2 0 1 0 0 1 0 2 1 0 1 0 1 1 1 1 0 0 0 2 1 0 0 2 0 2 1 2 1 1 1 1 1 2 1\n",
      " 2 2 1 2 0 1 1 1 2 1 2 1 2 0 1 0 1 0 1 0 0 2 1 2 0 2 1 1 2 0 1 1 2 2 0 2 2\n",
      " 1 2 0 0 0 1 1 1 2 2 0 0 1 2 1 0 0 2 1 0 0 1 2 2 1 1 1 2 0 1 1 1 2 2 0 0 1\n",
      " 2 2 2 0 0 1 1 0 2 1 1 1 2 1 1 2 2 1 2 2 0 1 2 0 2 0 2 2 1 2 0 1 2 2 0 0 1\n",
      " 1 1 2 0 1 1 0 2 1 2 0 1 1 0 2 2 0 0 1 0 1 0 0 0 0 0 1 0 2 0 0 0 0 2 0 1 2\n",
      " 1 2 1 1 1 1 0 2 1 2 2 2 1 0 0 1 0 0 0 1 0 1 2 0 0 0 1 1 2 1 0 1 0 1 2 0 1\n",
      " 0 2 1 0 1 0 0 2 1 0 1 1 1 0 2 0 0 2 1 0 2 1 2 1 0 0 1 0 2 2 0 0 2 2 2 1 0\n",
      " 1 1 0 0 2 2 1 2 1 2 2 1 1 2 0 1 1 1 1 2 1 1 0 2 1]\n"
     ]
    }
   ],
   "source": [
    "predicted_result = model.predict(x_test)  # model이 추론한 확률값. \n",
    "predicted_labels = np.argmax(predicted_result, axis=1)\n",
    "print(len(predicted_labels))\n",
    "print(predicted_labels)"
   ]
  },
  {
   "cell_type": "code",
   "execution_count": null,
   "metadata": {},
   "outputs": [],
   "source": []
  }
 ],
 "metadata": {
  "kernelspec": {
   "display_name": "aiffel",
   "language": "python",
   "name": "aiffel"
  },
  "language_info": {
   "codemirror_mode": {
    "name": "ipython",
    "version": 3
   },
   "file_extension": ".py",
   "mimetype": "text/x-python",
   "name": "python",
   "nbconvert_exporter": "python",
   "pygments_lexer": "ipython3",
   "version": "3.7.9"
  }
 },
 "nbformat": 4,
 "nbformat_minor": 4
}
