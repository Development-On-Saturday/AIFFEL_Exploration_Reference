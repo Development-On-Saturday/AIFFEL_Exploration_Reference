{
 "cells": [
  {
   "cell_type": "markdown",
   "metadata": {},
   "source": [
    "# 1번 노드 인공지능과 가위바위보하기 클래스로 코딩해보기"
   ]
  },
  {
   "cell_type": "code",
   "execution_count": 2,
   "metadata": {},
   "outputs": [],
   "source": [
    "# 라이브러리 import 부터\n",
    "import os \n",
    "\n",
    "import numpy as np \n",
    "import matplotlib.pyplot as plt\n",
    "import glob\n",
    "from PIL import Image\n",
    "\n",
    "import tensorflow as tf \n",
    "from tensorflow import keras "
   ]
  },
  {
   "cell_type": "code",
   "execution_count": 3,
   "metadata": {},
   "outputs": [],
   "source": [
    "# seed 고정\n",
    "tf.random.set_seed(123)\n",
    "np.random.seed(123)"
   ]
  },
  {
   "cell_type": "markdown",
   "metadata": {},
   "source": [
    "## 가위바위보 분류기 클래스\n",
    "* 가위바위보 클래스의 구조\n",
    "    * 속성 : 데이터 경로\n",
    "    * 기능 : 데이터 로드 + 데이터 전처리, 데이터 확인을 위한 시각화, 분류기 모델만들기, 분류기 모델 학습, 분류기 모델 테스트"
   ]
  },
  {
   "cell_type": "markdown",
   "metadata": {},
   "source": [
    "## 데이터 경로 구조\n",
    "* data -> train or test -> merged_data -> 가위 or 바위 or 보 -> 이미지 파일들"
   ]
  },
  {
   "cell_type": "code",
   "execution_count": 26,
   "metadata": {},
   "outputs": [],
   "source": [
    "class RSPClassifier(object):\n",
    "    # 데이터의 경로를 인스턴스 변수로 받아준다\n",
    "    def __init__(self, data_path, image_size):\n",
    "        self.data_path = data_path\n",
    "        self.image_size = image_size\n",
    "        \n",
    "    # 데이터를 불러오려면 무엇이 필요할까? -> 데이터 경로, 트레인 데이터인지? 테스트 데이터인지? \n",
    "    # resize를 몇 으로 할지?\n",
    "    def data_load(self, is_train=True):\n",
    "        # train 인지 test 인지 구분\n",
    "        if is_train:\n",
    "            # 데이터의 수\n",
    "            number_of_data = len(glob.glob(\"./data/train/*/*/*\"))\n",
    "            # 데이터 경로\n",
    "            self.data_path += \"/train/*\"\n",
    "        else:\n",
    "            number_of_data = len(glob.glob(\"./data/train/*/*/*\"))\n",
    "            self.data_path += \"/test/*\"\n",
    "        \n",
    "        # 가위바위보 0,1,2\n",
    "        image_size = self.image_size\n",
    "        color = 3\n",
    "        imgs =np.zeros(number_of_data*image_size*image_size*color,dtype=np.int32).reshape(number_of_data,image_size,image_size,color)\n",
    "        labels = np.zeros(number_of_data, dtype=np.int32)\n",
    "        \n",
    "        idx = 0\n",
    "        for file in glob.iglob(self.data_path+\"/scissor/*.jpg\"):\n",
    "            img = self.image_resize(file)\n",
    "            imgs[idx,:,:,:] = img\n",
    "            labels[idx] = 0\n",
    "            idx += 1\n",
    "            \n",
    "        for file in glob.iglob(self.data_path+\"/rock/*.jpg\"):\n",
    "            img = self.image_resize(file)\n",
    "            imgs[idx,:,:,:] = img\n",
    "            labels[idx] = 1\n",
    "            idx += 1\n",
    "        \n",
    "        for file in glob.iglob(self.data_path+\"/paper/*.jpg\"):\n",
    "            img = self.image_resize(file)\n",
    "            imgs[idx,:,:,:] = img\n",
    "            labels[idx] = 2\n",
    "            idx += 1\n",
    "        \n",
    "        if is_train==True:    \n",
    "            print(\"학습 데이터(x_train)의 이미지 개수는\",idx,\"입니다.\")\n",
    "        else:\n",
    "            print(\"테스트 데이터(x_test)의 이미지 개수는\",idx,\"입니다.\")\n",
    "        return imgs, labels\n",
    "        \n",
    "    # 이미지 리사이즈\n",
    "    def image_resize(self, file):\n",
    "        image = Image.open(file)\n",
    "        image = image.resize((self.image_size, self.image_size), Image.ANTIALIAS)\n",
    "        img = np.array(image, dtype=np.int32)\n",
    "        return img\n",
    "    \n",
    "    def data_standarization(self, data):\n",
    "        return data / 255.0\n",
    "    \n",
    "    def one_image_show(self, x, y):\n",
    "        plt.figure(figsize=(8,8))\n",
    "        # 축없애기\n",
    "        plt.axis(\"off\")\n",
    "        plt.title(f\"라벨 : {y}\")\n",
    "        plt.imshow(x)\n",
    "    \n",
    "    def make_model(self, x_train, y_train):\n",
    "        model=keras.models.Sequential([\n",
    "            keras.layers.Conv2D(64, (3,3), activation='relu', input_shape=(28,28,3)),\n",
    "            keras.layers.MaxPool2D(2,2),\n",
    "            keras.layers.Dropout(0.2),\n",
    "            keras.layers.Conv2D(32, (3,3), activation='relu'),\n",
    "            keras.layers.MaxPooling2D((2,2)),\n",
    "            keras.layers.Flatten(),\n",
    "            keras.layers.Dropout(0.2),\n",
    "            keras.layers.Dense(32, activation='relu'),\n",
    "            keras.layers.Dropout(0.2),\n",
    "            keras.layers.Dense(3, activation='softmax'),\n",
    "        ])\n",
    "        model.compile(optimizer=keras.optimizers.Adam(),\n",
    "              loss ='sparse_categorical_crossentropy',\n",
    "              metrics=['accuracy']\n",
    "             )\n",
    "        early_stopping = keras.callbacks.EarlyStopping(monitor=\"val_loss\", patience=11)\n",
    "        model.fit(x_train, y_train,verbose=2, epochs=100, batch_size=32, shuffle=True,callbacks=[early_stopping] ,validation_split=0.3)\n",
    "        return model "
   ]
  },
  {
   "cell_type": "markdown",
   "metadata": {},
   "source": [
    "# 위에 만들 클래스를 활용한다면"
   ]
  },
  {
   "cell_type": "code",
   "execution_count": 27,
   "metadata": {},
   "outputs": [],
   "source": [
    "rsp_clf =RSPClassifier(\"./data/\",28)"
   ]
  },
  {
   "cell_type": "code",
   "execution_count": 28,
   "metadata": {},
   "outputs": [
    {
     "name": "stdout",
     "output_type": "stream",
     "text": [
      "학습 데이터(x_train)의 이미지 개수는 3600 입니다.\n"
     ]
    }
   ],
   "source": [
    "x_train, y_train = rsp_clf.data_load()"
   ]
  },
  {
   "cell_type": "code",
   "execution_count": 29,
   "metadata": {},
   "outputs": [],
   "source": [
    "x_train = rsp_clf.data_standarization(x_train)"
   ]
  },
  {
   "cell_type": "code",
   "execution_count": 30,
   "metadata": {
    "collapsed": true
   },
   "outputs": [
    {
     "data": {
      "image/png": "[encoded data removed]",
      "text/plain": [
       "<Figure size 576x576 with 1 Axes>"
      ]
     },
     "metadata": {
      "needs_background": "light"
     },
     "output_type": "display_data"
    }
   ],
   "source": [
    "rsp_clf.one_image_show(x_train[0], y_train[0])"
   ]
  },
  {
   "cell_type": "code",
   "execution_count": 32,
   "metadata": {
    "scrolled": true
   },
   "outputs": [
    {
     "name": "stdout",
     "output_type": "stream",
     "text": [
      "Epoch 1/100\n",
      "79/79 - 4s - loss: 0.8553 - accuracy: 0.5464 - val_loss: 2.7980 - val_accuracy: 0.0000e+00\n",
      "Epoch 2/100\n",
      "79/79 - 0s - loss: 0.7511 - accuracy: 0.6599 - val_loss: 2.5285 - val_accuracy: 0.0000e+00\n",
      "Epoch 3/100\n",
      "79/79 - 0s - loss: 0.6246 - accuracy: 0.7516 - val_loss: 3.0236 - val_accuracy: 0.0000e+00\n",
      "Epoch 4/100\n",
      "79/79 - 0s - loss: 0.5341 - accuracy: 0.7996 - val_loss: 2.9966 - val_accuracy: 0.0000e+00\n",
      "Epoch 5/100\n",
      "79/79 - 0s - loss: 0.4548 - accuracy: 0.8349 - val_loss: 2.4892 - val_accuracy: 0.0000e+00\n",
      "Epoch 6/100\n",
      "79/79 - 0s - loss: 0.4188 - accuracy: 0.8496 - val_loss: 2.6300 - val_accuracy: 0.0000e+00\n",
      "Epoch 7/100\n",
      "79/79 - 0s - loss: 0.3722 - accuracy: 0.8647 - val_loss: 2.7475 - val_accuracy: 0.0380\n",
      "Epoch 8/100\n",
      "79/79 - 0s - loss: 0.3251 - accuracy: 0.8762 - val_loss: 2.4115 - val_accuracy: 0.0481\n",
      "Epoch 9/100\n",
      "79/79 - 0s - loss: 0.2997 - accuracy: 0.8929 - val_loss: 2.3391 - val_accuracy: 0.0528\n",
      "Epoch 10/100\n",
      "79/79 - 0s - loss: 0.2869 - accuracy: 0.8964 - val_loss: 2.2986 - val_accuracy: 0.1370\n",
      "Epoch 11/100\n",
      "79/79 - 0s - loss: 0.2468 - accuracy: 0.9056 - val_loss: 1.8245 - val_accuracy: 0.1852\n",
      "Epoch 12/100\n",
      "79/79 - 0s - loss: 0.2328 - accuracy: 0.9171 - val_loss: 1.8205 - val_accuracy: 0.2454\n",
      "Epoch 13/100\n",
      "79/79 - 0s - loss: 0.2098 - accuracy: 0.9266 - val_loss: 2.4675 - val_accuracy: 0.1796\n",
      "Epoch 14/100\n",
      "79/79 - 0s - loss: 0.1793 - accuracy: 0.9377 - val_loss: 2.1751 - val_accuracy: 0.2231\n",
      "Epoch 15/100\n",
      "79/79 - 0s - loss: 0.1795 - accuracy: 0.9389 - val_loss: 1.7334 - val_accuracy: 0.3769\n",
      "Epoch 16/100\n",
      "79/79 - 0s - loss: 0.1687 - accuracy: 0.9417 - val_loss: 1.8625 - val_accuracy: 0.3611\n",
      "Epoch 17/100\n",
      "79/79 - 0s - loss: 0.1675 - accuracy: 0.9373 - val_loss: 1.4595 - val_accuracy: 0.4741\n",
      "Epoch 18/100\n",
      "79/79 - 0s - loss: 0.1351 - accuracy: 0.9520 - val_loss: 1.9443 - val_accuracy: 0.3991\n",
      "Epoch 19/100\n",
      "79/79 - 0s - loss: 0.1314 - accuracy: 0.9563 - val_loss: 2.3389 - val_accuracy: 0.3435\n",
      "Epoch 20/100\n",
      "79/79 - 0s - loss: 0.1204 - accuracy: 0.9556 - val_loss: 1.7476 - val_accuracy: 0.4481\n",
      "Epoch 21/100\n",
      "79/79 - 0s - loss: 0.1118 - accuracy: 0.9631 - val_loss: 1.8817 - val_accuracy: 0.4787\n",
      "Epoch 22/100\n",
      "79/79 - 0s - loss: 0.1107 - accuracy: 0.9675 - val_loss: 1.9007 - val_accuracy: 0.4944\n",
      "Epoch 23/100\n",
      "79/79 - 0s - loss: 0.0982 - accuracy: 0.9694 - val_loss: 1.7205 - val_accuracy: 0.5167\n",
      "Epoch 24/100\n",
      "79/79 - 0s - loss: 0.0872 - accuracy: 0.9722 - val_loss: 2.1318 - val_accuracy: 0.4537\n",
      "Epoch 25/100\n",
      "79/79 - 0s - loss: 0.0884 - accuracy: 0.9710 - val_loss: 2.0395 - val_accuracy: 0.4778\n",
      "Epoch 26/100\n",
      "79/79 - 0s - loss: 0.0798 - accuracy: 0.9734 - val_loss: 2.2040 - val_accuracy: 0.4667\n",
      "Epoch 27/100\n",
      "79/79 - 0s - loss: 0.0884 - accuracy: 0.9706 - val_loss: 1.8615 - val_accuracy: 0.5370\n",
      "Epoch 28/100\n",
      "79/79 - 0s - loss: 0.0678 - accuracy: 0.9770 - val_loss: 2.3122 - val_accuracy: 0.4889\n"
     ]
    }
   ],
   "source": [
    "model = rsp_clf.make_model(x_train, y_train)"
   ]
  }
 ],
 "metadata": {
  "kernelspec": {
   "display_name": "aiffel",
   "language": "python",
   "name": "aiffel"
  },
  "language_info": {
   "codemirror_mode": {
    "name": "ipython",
    "version": 3
   },
   "file_extension": ".py",
   "mimetype": "text/x-python",
   "name": "python",
   "nbconvert_exporter": "python",
   "pygments_lexer": "ipython3",
   "version": "3.7.9"
  }
 },
 "nbformat": 4,
 "nbformat_minor": 4
}
