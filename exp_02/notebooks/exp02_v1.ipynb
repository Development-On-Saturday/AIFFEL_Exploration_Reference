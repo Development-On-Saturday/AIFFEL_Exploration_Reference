{
 "cells": [
  {
   "cell_type": "code",
   "execution_count": 1,
   "metadata": {},
   "outputs": [],
   "source": [
    "# 라이브러리\n",
    "# 데이터세트\n",
    "from sklearn.datasets import load_breast_cancer, load_digits, load_wine\n",
    "\n",
    "#모델\n",
    "from sklearn.tree import DecisionTreeClassifier\n",
    "from sklearn.ensemble import RandomForestClassifier\n",
    "from sklearn.svm import SVC\n",
    "from sklearn.linear_model import SGDClassifier\n",
    "from sklearn.linear_model import LogisticRegression\n",
    "\n",
    "import numpy as np\n",
    "import matplotlib.pyplot as plt\n",
    "from sklearn.model_selection import train_test_split\n",
    "\n",
    "# Metric\n",
    "from sklearn.metrics import accuracy_score, precision_score ,recall_score, f1_score, confusion_matrix, classification_report"
   ]
  },
  {
   "cell_type": "markdown",
   "metadata": {},
   "source": [
    "# 데이터 불러오기"
   ]
  },
  {
   "cell_type": "code",
   "execution_count": 2,
   "metadata": {},
   "outputs": [],
   "source": [
    "data = load_digits()\n",
    "X = data.data\n",
    "y = data.target"
   ]
  },
  {
   "cell_type": "code",
   "execution_count": 3,
   "metadata": {},
   "outputs": [
    {
     "data": {
      "text/plain": [
       "<matplotlib.image.AxesImage at 0x7f6f732ace50>"
      ]
     },
     "execution_count": 3,
     "metadata": {},
     "output_type": "execute_result"
    },
    {
     "data": {
      "image/png": "[encoded data removed]",
      "text/plain": [
       "<Figure size 432x288 with 1 Axes>"
      ]
     },
     "metadata": {
      "needs_background": "light"
     },
     "output_type": "display_data"
    }
   ],
   "source": [
    "# 이미지 확인\n",
    "plt.imshow(data.images[0], cmap=\"gray\")"
   ]
  },
  {
   "cell_type": "code",
   "execution_count": 4,
   "metadata": {
    "scrolled": true
   },
   "outputs": [
    {
     "name": "stdout",
     "output_type": "stream",
     "text": [
      ".. _digits_dataset:\n",
      "\n",
      "Optical recognition of handwritten digits dataset\n",
      "--------------------------------------------------\n",
      "\n",
      "**Data Set Characteristics:**\n",
      "\n",
      "    :Number of Instances: 5620\n",
      "    :Number of Attributes: 64\n",
      "    :Attribute Information: 8x8 image of integer pixels in the range 0..16.\n",
      "    :Missing Attribute Values: None\n",
      "    :Creator: E. Alpaydin (alpaydin '@' boun.edu.tr)\n",
      "    :Date: July; 1998\n",
      "\n",
      "This is a copy of the test set of the UCI ML hand-written digits datasets\n",
      "https://archive.ics.uci.edu/ml/datasets/Optical+Recognition+of+Handwritten+Digits\n",
      "\n",
      "The data set contains images of hand-written digits: 10 classes where\n",
      "each class refers to a digit.\n",
      "\n",
      "Preprocessing programs made available by NIST were used to extract\n",
      "normalized bitmaps of handwritten digits from a preprinted form. From a\n",
      "total of 43 people, 30 contributed to the training set and different 13\n",
      "to the test set. 32x32 bitmaps are divided into nonoverlapping blocks of\n",
      "4x4 and the number of on pixels are counted in each block. This generates\n",
      "an input matrix of 8x8 where each element is an integer in the range\n",
      "0..16. This reduces dimensionality and gives invariance to small\n",
      "distortions.\n",
      "\n",
      "For info on NIST preprocessing routines, see M. D. Garris, J. L. Blue, G.\n",
      "T. Candela, D. L. Dimmick, J. Geist, P. J. Grother, S. A. Janet, and C.\n",
      "L. Wilson, NIST Form-Based Handprint Recognition System, NISTIR 5469,\n",
      "1994.\n",
      "\n",
      ".. topic:: References\n",
      "\n",
      "  - C. Kaynak (1995) Methods of Combining Multiple Classifiers and Their\n",
      "    Applications to Handwritten Digit Recognition, MSc Thesis, Institute of\n",
      "    Graduate Studies in Science and Engineering, Bogazici University.\n",
      "  - E. Alpaydin, C. Kaynak (1998) Cascading Classifiers, Kybernetika.\n",
      "  - Ken Tang and Ponnuthurai N. Suganthan and Xi Yao and A. Kai Qin.\n",
      "    Linear dimensionalityreduction using relevance weighted LDA. School of\n",
      "    Electrical and Electronic Engineering Nanyang Technological University.\n",
      "    2005.\n",
      "  - Claudio Gentile. A New Approximate Maximal Margin Classification\n",
      "    Algorithm. NIPS. 2000.\n"
     ]
    }
   ],
   "source": [
    "# 데이터 설명\n",
    "print(data.DESCR)"
   ]
  },
  {
   "cell_type": "code",
   "execution_count": 5,
   "metadata": {},
   "outputs": [],
   "source": [
    "# model 나누기\n",
    "X_train, X_test, y_train, y_test = train_test_split(X,\n",
    "                                                   y,\n",
    "                                                   stratify=y,\n",
    "                                                   random_state=1234,\n",
    "                                                   test_size=0.2)"
   ]
  },
  {
   "cell_type": "code",
   "execution_count": 6,
   "metadata": {},
   "outputs": [],
   "source": [
    "# 모델 학습 및 테스트\n",
    "rf = RandomForestClassifier(random_state=1234)\n",
    "rf.fit(X_train, y_train)\n",
    "# 예측값\n",
    "y_pred = rf.predict(X_test)\n",
    "\n",
    "# metric\n",
    "acc = accuracy_score(y_test, y_pred)\n",
    "precision = precision_score(y_test, y_pred, average='macro')\n",
    "recall = recall_score(y_test, y_pred, average='macro')\n",
    "f1_score = f1_score(y_test, y_pred, average='macro')\n",
    "cf_matrix = confusion_matrix(y_test, y_pred)\n",
    "report = classification_report(y_test, y_pred)"
   ]
  },
  {
   "cell_type": "code",
   "execution_count": 7,
   "metadata": {},
   "outputs": [
    {
     "name": "stdout",
     "output_type": "stream",
     "text": [
      "accuracy : 0.9833333333333333\n",
      "precision : 0.9835972850678733\n",
      "recall : 0.9832496782496782\n",
      "f1_score : 0.9833173986186432\n",
      "confusion_matrix :\n",
      " [[36  0  0  0  0  0  0  0  0  0]\n",
      " [ 0 36  0  0  0  0  0  0  0  0]\n",
      " [ 0  0 35  0  0  0  0  0  0  0]\n",
      " [ 0  0  0 37  0  0  0  0  0  0]\n",
      " [ 0  0  0  0 35  0  0  0  1  0]\n",
      " [ 0  0  0  0  0 36  0  0  0  1]\n",
      " [ 0  0  0  0  0  0 36  0  0  0]\n",
      " [ 0  0  0  0  0  0  0 36  0  0]\n",
      " [ 0  0  0  0  1  0  0  0 33  1]\n",
      " [ 0  0  0  2  0  0  0  0  0 34]]\n",
      "classification_report :\n",
      "               precision    recall  f1-score   support\n",
      "\n",
      "           0       1.00      1.00      1.00        36\n",
      "           1       1.00      1.00      1.00        36\n",
      "           2       1.00      1.00      1.00        35\n",
      "           3       0.95      1.00      0.97        37\n",
      "           4       0.97      0.97      0.97        36\n",
      "           5       1.00      0.97      0.99        37\n",
      "           6       1.00      1.00      1.00        36\n",
      "           7       1.00      1.00      1.00        36\n",
      "           8       0.97      0.94      0.96        35\n",
      "           9       0.94      0.94      0.94        36\n",
      "\n",
      "    accuracy                           0.98       360\n",
      "   macro avg       0.98      0.98      0.98       360\n",
      "weighted avg       0.98      0.98      0.98       360\n",
      "\n"
     ]
    }
   ],
   "source": [
    "print(f\"accuracy : {acc}\")\n",
    "print(f\"precision : {precision}\")\n",
    "print(f\"recall : {recall}\")\n",
    "print(f\"f1_score : {f1_score}\")\n",
    "print(f\"confusion_matrix :\\n {cf_matrix}\")\n",
    "print(f\"classification_report :\\n {report}\")"
   ]
  },
  {
   "cell_type": "code",
   "execution_count": 8,
   "metadata": {},
   "outputs": [],
   "source": [
    "# DeepML풀잎 시간에 다뤄본 K-Fold를 사용해서 학습해보기\n",
    "# 마침 작은 데이터셋\n",
    "from sklearn.model_selection import KFold\n",
    "\n",
    "# 몇개의 Fold를 만들것인가?\n",
    "kfold = KFold(n_splits=5, random_state=1234, shuffle=True)"
   ]
  },
  {
   "cell_type": "code",
   "execution_count": 9,
   "metadata": {},
   "outputs": [
    {
     "name": "stdout",
     "output_type": "stream",
     "text": [
      "1-Fold accuracy : 0.96875\n",
      "1-Fold precision : 0.9650362273592015\n",
      "1-Fold recall : 0.9669683908045977\n",
      "\n",
      "2-Fold accuracy : 0.9722222222222222\n",
      "2-Fold precision : 0.9739802955665026\n",
      "2-Fold recall : 0.9737025177887247\n",
      "\n",
      "3-Fold accuracy : 0.9721254355400697\n",
      "3-Fold precision : 0.9699898249898251\n",
      "3-Fold recall : 0.972779902814966\n",
      "\n",
      "4-Fold accuracy : 0.975609756097561\n",
      "4-Fold precision : 0.9754994452978325\n",
      "4-Fold recall : 0.9762881794131795\n",
      "\n",
      "5-Fold accuracy : 0.9442508710801394\n",
      "5-Fold precision : 0.9485204511800257\n",
      "5-Fold recall : 0.9466380568356374\n",
      "\n"
     ]
    }
   ],
   "source": [
    "acc_list = []\n",
    "precision_list = []\n",
    "recall_list = []\n",
    "model_list = []\n",
    "\n",
    "for i, (train, valid) in enumerate(kfold.split(X_train)):\n",
    "    # train, valid 에 들어가는 값은 인덱스 값\n",
    "    x_trn = X_train[train]\n",
    "    x_val = X_train[valid]\n",
    "    \n",
    "    y_trn = y_train[train]\n",
    "    y_val = y_train[valid]\n",
    "    \n",
    "    # model 불러오기\n",
    "    rf = RandomForestClassifier(random_state=1234)\n",
    "    rf.fit(x_trn, y_trn)\n",
    "    \n",
    "    # 예측\n",
    "    y_pred = rf.predict(x_val)\n",
    "    \n",
    "    # metric\n",
    "    acc = accuracy_score(y_val, y_pred)\n",
    "    precision = precision_score(y_val, y_pred, average='macro')\n",
    "    recall = recall_score(y_val, y_pred, average='macro')\n",
    "    \n",
    "    # metric을 저장\n",
    "    acc_list.append(acc)\n",
    "    precision_list.append(precision)\n",
    "    recall_list.append(recall)\n",
    "    # model 저장\n",
    "    model_list.append(rf)\n",
    "    print(f\"{i+1}-Fold accuracy : {acc}\")\n",
    "    print(f\"{i+1}-Fold precision : {precision}\")\n",
    "    print(f\"{i+1}-Fold recall : {recall}\")\n",
    "    print()"
   ]
  },
  {
   "cell_type": "code",
   "execution_count": 10,
   "metadata": {},
   "outputs": [
    {
     "name": "stdout",
     "output_type": "stream",
     "text": [
      "0.9861111111111112\n",
      "0.9866092466092466\n",
      "0.9861861861861863\n"
     ]
    }
   ],
   "source": [
    "# fold별 테스트값 확인\n",
    "test = model_list[0].predict(X_test)\n",
    "print(accuracy_score(y_test, test))\n",
    "print(precision_score(y_test, test, average=\"macro\"))\n",
    "print(recall_score(y_test, test, average=\"macro\"))"
   ]
  },
  {
   "cell_type": "code",
   "execution_count": 11,
   "metadata": {},
   "outputs": [
    {
     "name": "stdout",
     "output_type": "stream",
     "text": [
      "0.975\n",
      "0.9759923196765301\n",
      "0.97498712998713\n"
     ]
    }
   ],
   "source": [
    "test = model_list[1].predict(X_test)\n",
    "print(accuracy_score(y_test, test))\n",
    "print(precision_score(y_test, test, average=\"macro\"))\n",
    "print(recall_score(y_test, test, average=\"macro\"))"
   ]
  },
  {
   "cell_type": "code",
   "execution_count": 12,
   "metadata": {},
   "outputs": [
    {
     "name": "stdout",
     "output_type": "stream",
     "text": [
      "0.975\n",
      "0.975748374432585\n",
      "0.9749120549120548\n"
     ]
    }
   ],
   "source": [
    "test = model_list[2].predict(X_test)\n",
    "print(accuracy_score(y_test, test))\n",
    "print(precision_score(y_test, test, average=\"macro\"))\n",
    "print(recall_score(y_test, test, average=\"macro\"))"
   ]
  },
  {
   "cell_type": "code",
   "execution_count": 13,
   "metadata": {},
   "outputs": [
    {
     "name": "stdout",
     "output_type": "stream",
     "text": [
      "0.9833333333333333\n",
      "0.9836253923096028\n",
      "0.9832496782496782\n"
     ]
    }
   ],
   "source": [
    "test = model_list[3].predict(X_test)\n",
    "print(accuracy_score(y_test, test))\n",
    "print(precision_score(y_test, test, average=\"macro\"))\n",
    "print(recall_score(y_test, test, average=\"macro\"))"
   ]
  },
  {
   "cell_type": "code",
   "execution_count": 14,
   "metadata": {},
   "outputs": [
    {
     "name": "stdout",
     "output_type": "stream",
     "text": [
      "0.9777777777777777\n",
      "0.978078078078078\n",
      "0.9777649077649077\n"
     ]
    }
   ],
   "source": [
    "test = model_list[4].predict(X_test)\n",
    "print(accuracy_score(y_test, test))\n",
    "print(precision_score(y_test, test, average=\"macro\"))\n",
    "print(recall_score(y_test, test, average=\"macro\"))"
   ]
  }
 ],
 "metadata": {
  "kernelspec": {
   "display_name": "aiffel",
   "language": "python",
   "name": "aiffel"
  },
  "language_info": {
   "codemirror_mode": {
    "name": "ipython",
    "version": 3
   },
   "file_extension": ".py",
   "mimetype": "text/x-python",
   "name": "python",
   "nbconvert_exporter": "python",
   "pygments_lexer": "ipython3",
   "version": "3.7.9"
  }
 },
 "nbformat": 4,
 "nbformat_minor": 4
}
