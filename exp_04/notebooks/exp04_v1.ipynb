{
 "cells": [
  {
   "cell_type": "code",
   "execution_count": 1,
   "metadata": {},
   "outputs": [],
   "source": [
    "import os\n",
    "import re\n",
    "import warnings\n",
    "from collections import Counter\n",
    "from urllib import request\n",
    "\n",
    "import numpy as np \n",
    "import pandas as pd\n",
    "import matplotlib.pyplot as plt\n",
    "\n",
    "from konlpy.tag import Mecab\n",
    "from konlpy.tag import Okt\n",
    "from gensim.models import Word2Vec\n",
    "from gensim.models.keyedvectors import Word2VecKeyedVectors\n",
    "\n",
    "import tensorflow as tf\n",
    "from tensorflow import keras\n",
    "from tensorflow.keras.preprocessing.text import Tokenizer\n",
    "from tensorflow.keras.preprocessing.sequence import pad_sequences\n",
    "from tensorflow.keras.models import load_model\n",
    "from tensorflow.keras.initializers import Constant"
   ]
  },
  {
   "cell_type": "code",
   "execution_count": 2,
   "metadata": {},
   "outputs": [],
   "source": [
    "# settings\n",
    "warnings.filterwarnings(\"ignore\")\n",
    "tf.random.set_seed(123)\n",
    "plt.style.use(\"fivethirtyeight\")"
   ]
  },
  {
   "cell_type": "code",
   "execution_count": 3,
   "metadata": {},
   "outputs": [
    {
     "data": {
      "text/html": [
       "<div>\n",
       "<style scoped>\n",
       "    .dataframe tbody tr th:only-of-type {\n",
       "        vertical-align: middle;\n",
       "    }\n",
       "\n",
       "    .dataframe tbody tr th {\n",
       "        vertical-align: top;\n",
       "    }\n",
       "\n",
       "    .dataframe thead th {\n",
       "        text-align: right;\n",
       "    }\n",
       "</style>\n",
       "<table border=\"1\" class=\"dataframe\">\n",
       "  <thead>\n",
       "    <tr style=\"text-align: right;\">\n",
       "      <th></th>\n",
       "      <th>id</th>\n",
       "      <th>document</th>\n",
       "      <th>label</th>\n",
       "    </tr>\n",
       "  </thead>\n",
       "  <tbody>\n",
       "    <tr>\n",
       "      <th>0</th>\n",
       "      <td>9976970</td>\n",
       "      <td>아 더빙.. 진짜 짜증나네요 목소리</td>\n",
       "      <td>0</td>\n",
       "    </tr>\n",
       "    <tr>\n",
       "      <th>1</th>\n",
       "      <td>3819312</td>\n",
       "      <td>흠...포스터보고 초딩영화줄....오버연기조차 가볍지 않구나</td>\n",
       "      <td>1</td>\n",
       "    </tr>\n",
       "    <tr>\n",
       "      <th>2</th>\n",
       "      <td>10265843</td>\n",
       "      <td>너무재밓었다그래서보는것을추천한다</td>\n",
       "      <td>0</td>\n",
       "    </tr>\n",
       "    <tr>\n",
       "      <th>3</th>\n",
       "      <td>9045019</td>\n",
       "      <td>교도소 이야기구먼 ..솔직히 재미는 없다..평점 조정</td>\n",
       "      <td>0</td>\n",
       "    </tr>\n",
       "    <tr>\n",
       "      <th>4</th>\n",
       "      <td>6483659</td>\n",
       "      <td>사이몬페그의 익살스런 연기가 돋보였던 영화!스파이더맨에서 늙어보이기만 했던 커스틴 ...</td>\n",
       "      <td>1</td>\n",
       "    </tr>\n",
       "  </tbody>\n",
       "</table>\n",
       "</div>"
      ],
      "text/plain": [
       "         id                                           document  label\n",
       "0   9976970                                아 더빙.. 진짜 짜증나네요 목소리      0\n",
       "1   3819312                  흠...포스터보고 초딩영화줄....오버연기조차 가볍지 않구나      1\n",
       "2  10265843                                  너무재밓었다그래서보는것을추천한다      0\n",
       "3   9045019                      교도소 이야기구먼 ..솔직히 재미는 없다..평점 조정      0\n",
       "4   6483659  사이몬페그의 익살스런 연기가 돋보였던 영화!스파이더맨에서 늙어보이기만 했던 커스틴 ...      1"
      ]
     },
     "execution_count": 3,
     "metadata": {},
     "output_type": "execute_result"
    }
   ],
   "source": [
    "# data read\n",
    "train_data = pd.read_table('~/aiffel/sentiment_classification/ratings_train.txt')\n",
    "test_data = pd.read_table('~/aiffel/sentiment_classification/ratings_test.txt')\n",
    "train_data.head()"
   ]
  },
  {
   "cell_type": "code",
   "execution_count": 4,
   "metadata": {},
   "outputs": [
    {
     "name": "stderr",
     "output_type": "stream",
     "text": [
      "IOPub data rate exceeded.\n",
      "The notebook server will temporarily stop sending output\n",
      "to the client in order to avoid crashing it.\n",
      "To change this limit, set the config variable\n",
      "`--NotebookApp.iopub_data_rate_limit`.\n",
      "\n",
      "Current values:\n",
      "NotebookApp.iopub_data_rate_limit=1000000.0 (bytes/sec)\n",
      "NotebookApp.rate_limit_window=3.0 (secs)\n",
      "\n"
     ]
    }
   ],
   "source": [
    "tokenizer = Mecab()\n",
    "stopwords = ['의','가','이','은','들','는','좀','잘','걍','과','도','를','으로','자','에','와','한','하다']\n",
    "\n",
    "def load_data(train_data, test_data, num_words=10000):\n",
    "    # document column에서 중복되는 글 삭제\n",
    "    train_data.drop_duplicates(subset=['document'], inplace=True)\n",
    "    # 행에서  Na값이 있으면 삭제\n",
    "    train_data = train_data.dropna(how = 'any') \n",
    "    test_data.drop_duplicates(subset=['document'], inplace=True)\n",
    "    test_data = test_data.dropna(how = 'any') \n",
    "\n",
    "    # document column에 있는 문장을 토큰화하여 X_train에 담음\n",
    "    X_train = []\n",
    "    for sentence in train_data['document']:\n",
    "        temp_X = tokenizer.morphs(sentence) # 토큰화\n",
    "        temp_X = [word for word in temp_X if not word in stopwords] # 불용어 제거\n",
    "        X_train.append(temp_X)\n",
    "            \n",
    "    # document column에 있는 문장을 토큰화하여 X_test에 담음\n",
    "    X_test = []\n",
    "    for sentence in test_data['document']:\n",
    "        temp_X = tokenizer.morphs(sentence) # 토큰화\n",
    "        temp_X = [word for word in temp_X if not word in stopwords] # 불용어 제거\n",
    "        X_test.append(temp_X)\n",
    "\n",
    "    words = np.concatenate(X_train).tolist()\n",
    "    print(words)\n",
    "    counter = Counter(words)\n",
    "    counter = counter.most_common(10000-4)\n",
    "    vocab = ['<PAD>', '<BOS>', '<UNK>', '<UNUSED>'] + [key for key, _ in counter]\n",
    "    word_to_index = {word:index for index, word in enumerate(vocab)}\n",
    "\n",
    "    def wordlist_to_indexlist(wordlist):\n",
    "        return [word_to_index[word] if word in word_to_index else word_to_index['<UNK>'] for word in wordlist]\n",
    "\n",
    "    X_train = list(map(wordlist_to_indexlist, X_train))\n",
    "    X_test = list(map(wordlist_to_indexlist, X_test))\n",
    "\n",
    "    return X_train, np.array(list(train_data['label'])), X_test, np.array(list(test_data['label'])), word_to_index\n",
    "\n",
    "X_train, y_train, X_test, y_test, word_to_index = load_data(train_data, test_data)"
   ]
  },
  {
   "cell_type": "code",
   "execution_count": 5,
   "metadata": {
    "scrolled": true
   },
   "outputs": [
    {
     "data": {
      "text/plain": [
       "(146182, 146182, 49157, 49157)"
      ]
     },
     "execution_count": 5,
     "metadata": {},
     "output_type": "execute_result"
    }
   ],
   "source": [
    "len(X_train), len(y_train), len(X_test), len(y_test)"
   ]
  },
  {
   "cell_type": "code",
   "execution_count": 6,
   "metadata": {},
   "outputs": [],
   "source": [
    "# word : index 형태로 되어있는 것을 index : word 형태로 바꿔줌\n",
    "index_to_word = {index:word for word, index in word_to_index.items()}"
   ]
  },
  {
   "cell_type": "code",
   "execution_count": 7,
   "metadata": {},
   "outputs": [],
   "source": [
    "# 문장 1개를 활용할 딕셔너리와 함께 주면, 단어 인덱스 리스트 벡터로 변환해 주는 함수입니다. \n",
    "# 단, 모든 문장은 <BOS>로 시작하는 것으로 합니다. \n",
    "def get_encoded_sentence(sentence, word_to_index):\n",
    "    return [word_to_index['<BOS>']]+[word_to_index[word] if word in word_to_index else word_to_index['<UNK>'] for word in sentence.split()]\n",
    "\n",
    "# 여러 개의 문장 리스트를 한꺼번에 단어 인덱스 리스트 벡터로 encode해 주는 함수입니다. \n",
    "def get_encoded_sentences(sentences, word_to_index):\n",
    "    return [get_encoded_sentence(sentence, word_to_index) for sentence in sentences]\n",
    "\n",
    "# 숫자 벡터로 encode된 문장을 원래대로 decode하는 함수입니다. \n",
    "def get_decoded_sentence(encoded_sentence, index_to_word):\n",
    "    return ' '.join(index_to_word[index] if index in index_to_word else '<UNK>' for index in encoded_sentence[1:])  #[1:]를 통해 <BOS>를 제외\n",
    "\n",
    "# 여러개의 숫자 벡터로 encode된 문장을 한꺼번에 원래대로 decode하는 함수입니다. \n",
    "def get_decoded_sentences(encoded_sentences, index_to_word):\n",
    "    return [get_decoded_sentence(encoded_sentence, index_to_word) for encoded_sentence in encoded_sentences]"
   ]
  },
  {
   "cell_type": "code",
   "execution_count": 8,
   "metadata": {},
   "outputs": [
    {
     "data": {
      "text/plain": [
       "(array([0, 1]), [Text(0, 0, '0'), Text(1, 0, '1')])"
      ]
     },
     "execution_count": 8,
     "metadata": {},
     "output_type": "execute_result"
    },
    {
     "data": {
      "image/png": "[encoded data removed]",
      "text/plain": [
       "<Figure size 432x288 with 1 Axes>"
      ]
     },
     "metadata": {},
     "output_type": "display_data"
    }
   ],
   "source": [
    "# label 수 확인\n",
    "train_data['label'].value_counts().plot(kind='bar')\n",
    "plt.xticks(rotation=0)"
   ]
  },
  {
   "cell_type": "code",
   "execution_count": 9,
   "metadata": {},
   "outputs": [
    {
     "name": "stdout",
     "output_type": "stream",
     "text": [
      "리뷰의 최대 길이 : 116\n",
      "리뷰의 평균 길이 : 15.981673530256803\n"
     ]
    },
    {
     "data": {
      "image/png": "[encoded data removed]",
      "text/plain": [
       "<Figure size 432x288 with 1 Axes>"
      ]
     },
     "metadata": {},
     "output_type": "display_data"
    }
   ],
   "source": [
    "# train 데이터셋 내 문장 길이 분포  \n",
    "print('리뷰의 최대 길이 :',max(len(i) for i in X_train))\n",
    "print('리뷰의 평균 길이 :',sum(map(len, X_train))/len(X_train))\n",
    "plt.hist([len(s) for s in X_train], bins=50)\n",
    "plt.xlabel('length of samples')\n",
    "plt.ylabel('number of samples')\n",
    "plt.show()"
   ]
  },
  {
   "cell_type": "code",
   "execution_count": 18,
   "metadata": {},
   "outputs": [
    {
     "name": "stdout",
     "output_type": "stream",
     "text": [
      "리뷰의 최대 길이 : 105\n",
      "리뷰의 평균 길이 : 15.932725756250381\n"
     ]
    },
    {
     "data": {
      "image/png": "[encoded data removed]",
      "text/plain": [
       "<Figure size 432x288 with 1 Axes>"
      ]
     },
     "metadata": {},
     "output_type": "display_data"
    }
   ],
   "source": [
    "# test 데이터셋 내 문장 길이 분포  \n",
    "print('리뷰의 최대 길이 :',max(len(i) for i in X_test))\n",
    "print('리뷰의 평균 길이 :',sum(map(len, X_test))/len(X_test))\n",
    "plt.hist([len(s) for s in X_test], bins=50)\n",
    "plt.xlabel('length of samples')\n",
    "plt.ylabel('number of samples')\n",
    "plt.show()"
   ]
  },
  {
   "cell_type": "code",
   "execution_count": 10,
   "metadata": {},
   "outputs": [],
   "source": [
    "# 최대 길이 선정\n",
    "# 90% 이상이 30 미만\n",
    "maxlen= 30\n",
    "X_train = pad_sequences(X_train, maxlen = maxlen)\n",
    "X_test = pad_sequences(X_test, maxlen = maxlen)"
   ]
  },
  {
   "cell_type": "code",
   "execution_count": 11,
   "metadata": {},
   "outputs": [],
   "source": [
    "vocab_size = len(index_to_word)"
   ]
  },
  {
   "cell_type": "code",
   "execution_count": 21,
   "metadata": {},
   "outputs": [],
   "source": [
    "#  LSTM으로 학습\n",
    "model = keras.Sequential([\n",
    "    keras.layers.Embedding(vocab_size, 100),\n",
    "    keras.layers.LSTM(128, return_sequences=True),\n",
    "    keras.layers.LSTM(128),\n",
    "    keras.layers.Dense(512, activation='relu'),\n",
    "    keras.layers.Dense(1, activation='sigmoid')\n",
    "])"
   ]
  },
  {
   "cell_type": "code",
   "execution_count": 12,
   "metadata": {},
   "outputs": [],
   "source": [
    "# 사용할 Callback 설정\n",
    "early_stopping = keras.callbacks.EarlyStopping(monitor='val_loss', mode='min', verbose=1, patience=10)\n",
    "model_checkpoint = keras.callbacks.ModelCheckpoint('best_model.h5', monitor='val_acc', mode='max', verbose=1, save_best_only=True)"
   ]
  },
  {
   "cell_type": "code",
   "execution_count": 23,
   "metadata": {},
   "outputs": [],
   "source": [
    "# model compile\n",
    "model.compile(optimizer='adam', loss='binary_crossentropy', metrics=['acc'])"
   ]
  },
  {
   "cell_type": "code",
   "execution_count": 24,
   "metadata": {},
   "outputs": [
    {
     "name": "stdout",
     "output_type": "stream",
     "text": [
      "Epoch 1/100\n",
      "3654/3655 [============================>.] - ETA: 0s - loss: 0.3719 - acc: 0.8328\n",
      "Epoch 00001: val_acc improved from -inf to 0.85905, saving model to best_model.h5\n",
      "3655/3655 [==============================] - 131s 36ms/step - loss: 0.3719 - acc: 0.8328 - val_loss: 0.3248 - val_acc: 0.8590\n",
      "Epoch 2/100\n",
      "3655/3655 [==============================] - ETA: 0s - loss: 0.2863 - acc: 0.8782\n",
      "Epoch 00002: val_acc improved from 0.85905 to 0.86671, saving model to best_model.h5\n",
      "3655/3655 [==============================] - 131s 36ms/step - loss: 0.2863 - acc: 0.8782 - val_loss: 0.3174 - val_acc: 0.8667\n",
      "Epoch 3/100\n",
      "3654/3655 [============================>.] - ETA: 0s - loss: 0.2421 - acc: 0.8999\n",
      "Epoch 00003: val_acc did not improve from 0.86671\n",
      "3655/3655 [==============================] - 133s 36ms/step - loss: 0.2421 - acc: 0.8999 - val_loss: 0.3220 - val_acc: 0.8648\n",
      "Epoch 4/100\n",
      "3654/3655 [============================>.] - ETA: 0s - loss: 0.2017 - acc: 0.9193\n",
      "Epoch 00004: val_acc did not improve from 0.86671\n",
      "3655/3655 [==============================] - 143s 39ms/step - loss: 0.2018 - acc: 0.9193 - val_loss: 0.3534 - val_acc: 0.8606\n",
      "Epoch 5/100\n",
      "3655/3655 [==============================] - ETA: 0s - loss: 0.1643 - acc: 0.9360\n",
      "Epoch 00005: val_acc did not improve from 0.86671\n",
      "3655/3655 [==============================] - 133s 36ms/step - loss: 0.1643 - acc: 0.9360 - val_loss: 0.4150 - val_acc: 0.8563\n",
      "Epoch 6/100\n",
      "3654/3655 [============================>.] - ETA: 0s - loss: 0.1312 - acc: 0.9491\n",
      "Epoch 00006: val_acc did not improve from 0.86671\n",
      "3655/3655 [==============================] - 126s 34ms/step - loss: 0.1312 - acc: 0.9491 - val_loss: 0.4515 - val_acc: 0.8527\n",
      "Epoch 7/100\n",
      "3654/3655 [============================>.] - ETA: 0s - loss: 0.1064 - acc: 0.9596\n",
      "Epoch 00007: val_acc did not improve from 0.86671\n",
      "3655/3655 [==============================] - 130s 36ms/step - loss: 0.1064 - acc: 0.9596 - val_loss: 0.5209 - val_acc: 0.8529\n",
      "Epoch 8/100\n",
      "3655/3655 [==============================] - ETA: 0s - loss: 0.0854 - acc: 0.9672\n",
      "Epoch 00008: val_acc did not improve from 0.86671\n",
      "3655/3655 [==============================] - 132s 36ms/step - loss: 0.0854 - acc: 0.9672 - val_loss: 0.6294 - val_acc: 0.8438\n",
      "Epoch 9/100\n",
      "3655/3655 [==============================] - ETA: 0s - loss: 0.0699 - acc: 0.9727\n",
      "Epoch 00009: val_acc did not improve from 0.86671\n",
      "3655/3655 [==============================] - 130s 36ms/step - loss: 0.0699 - acc: 0.9727 - val_loss: 0.6995 - val_acc: 0.8453\n",
      "Epoch 10/100\n",
      "3654/3655 [============================>.] - ETA: 0s - loss: 0.0581 - acc: 0.9775\n",
      "Epoch 00010: val_acc did not improve from 0.86671\n",
      "3655/3655 [==============================] - 130s 36ms/step - loss: 0.0581 - acc: 0.9775 - val_loss: 0.7422 - val_acc: 0.8476\n",
      "Epoch 11/100\n",
      "3654/3655 [============================>.] - ETA: 0s - loss: 0.0491 - acc: 0.9808\n",
      "Epoch 00011: val_acc did not improve from 0.86671\n",
      "3655/3655 [==============================] - 130s 36ms/step - loss: 0.0491 - acc: 0.9808 - val_loss: 0.8255 - val_acc: 0.8445\n",
      "Epoch 12/100\n",
      "3654/3655 [============================>.] - ETA: 0s - loss: 0.0405 - acc: 0.9839\n",
      "Epoch 00012: val_acc did not improve from 0.86671\n",
      "3655/3655 [==============================] - 130s 36ms/step - loss: 0.0405 - acc: 0.9839 - val_loss: 0.8024 - val_acc: 0.8396\n",
      "Epoch 00012: early stopping\n"
     ]
    }
   ],
   "source": [
    "history = model.fit(X_train, y_train, epochs=100, callbacks=[early_stopping, model_checkpoint], \n",
    "                   batch_size=32 ,validation_split=0.2\n",
    "                   )"
   ]
  },
  {
   "cell_type": "code",
   "execution_count": 25,
   "metadata": {},
   "outputs": [],
   "source": [
    "# history\n",
    "history_dict = history.history"
   ]
  },
  {
   "cell_type": "code",
   "execution_count": 27,
   "metadata": {},
   "outputs": [
    {
     "data": {
      "image/png": "[encoded data removed]",
      "text/plain": [
       "<Figure size 432x288 with 1 Axes>"
      ]
     },
     "metadata": {},
     "output_type": "display_data"
    }
   ],
   "source": [
    "# 빠르게 오버피팅이 되었네...\n",
    "loss = history_dict['loss']\n",
    "val_loss = history_dict['val_loss']\n",
    "epochs = range(1, len(loss)+1)\n",
    "\n",
    "plt.plot(epochs ,loss, label='Training loss')\n",
    "plt.plot(epochs ,val_loss,label='Validation loss')\n",
    "plt.title('Training and validation loss')\n",
    "plt.xlabel('Epochs')\n",
    "plt.ylabel('Loss')\n",
    "plt.legend()\n",
    "plt.show()"
   ]
  },
  {
   "cell_type": "code",
   "execution_count": 28,
   "metadata": {},
   "outputs": [
    {
     "name": "stdout",
     "output_type": "stream",
     "text": [
      "1537/1537 [==============================] - 15s 10ms/step - loss: 0.3236 - acc: 0.8606\n",
      "\n",
      " 테스트 정확도: 0.8606\n"
     ]
    }
   ],
   "source": [
    "loaded_model = load_model('best_model.h5')\n",
    "print(\"\\n 테스트 정확도: %.4f\" % (loaded_model.evaluate(X_test, y_test)[1]))"
   ]
  },
  {
   "cell_type": "code",
   "execution_count": 29,
   "metadata": {},
   "outputs": [],
   "source": [
    "# 머신러닝으로도 해볼 수 있다는 걸 아십니까!?\n",
    "import lightgbm as lgb\n",
    "from sklearn.ensemble import RandomForestClassifier\n",
    "from sklearn.metrics import accuracy_score"
   ]
  },
  {
   "cell_type": "code",
   "execution_count": 31,
   "metadata": {},
   "outputs": [
    {
     "data": {
      "text/plain": [
       "0.6431840836503449"
      ]
     },
     "execution_count": 31,
     "metadata": {},
     "output_type": "execute_result"
    }
   ],
   "source": [
    "# 랜덤포레스트\n",
    "rf = RandomForestClassifier(random_state=123, n_estimators=350)\n",
    "rf.fit(X_train, y_train)\n",
    "rf_pred = rf.predict(X_test)\n",
    "accuracy_score(y_test, rf_pred)"
   ]
  },
  {
   "cell_type": "code",
   "execution_count": 32,
   "metadata": {},
   "outputs": [],
   "source": [
    "# lightGBM을 사용해볼까\n",
    "# hyperparameter는 아무거나 한 번 넣어보고\n",
    "params = {\n",
    "    'metric': 'acc',\n",
    "    'learning_rate': 0.05,\n",
    "    'max_depth': -1,          \n",
    "    'num_leaves': 500,        \n",
    "    'feature_fraction': 0.8, \n",
    "    'bagging_fraction': 0.7, \n",
    "    'bagging_freq': 5,\n",
    "    'lambda' : 0.8\n",
    "}"
   ]
  },
  {
   "cell_type": "code",
   "execution_count": 33,
   "metadata": {},
   "outputs": [
    {
     "name": "stdout",
     "output_type": "stream",
     "text": [
      "[LightGBM] [Warning] lambda_l2 is set with lambda=0.8, reg_lambda=0.0 will be ignored. Current value: lambda_l2=0.8\n",
      "[LightGBM] [Warning] bagging_fraction is set=0.7, subsample=1.0 will be ignored. Current value: bagging_fraction=0.7\n",
      "[LightGBM] [Warning] feature_fraction is set=0.8, colsample_bytree=1.0 will be ignored. Current value: feature_fraction=0.8\n",
      "[LightGBM] [Warning] bagging_freq is set=5, subsample_freq=0 will be ignored. Current value: bagging_freq=5\n"
     ]
    },
    {
     "data": {
      "text/plain": [
       "0.7116178774131863"
      ]
     },
     "execution_count": 33,
     "metadata": {},
     "output_type": "execute_result"
    }
   ],
   "source": [
    "# lightgbm\n",
    "# 단순히 경험만 해보고 일단 딥러닝으로 돌아갑니다\n",
    "lgbm = lgb.LGBMClassifier(random_state=123,**params)\n",
    "lgbm.fit(X_train,y_train)\n",
    "lgb_pred = lgbm.predict(X_test)\n",
    "accuracy_score(y_test, lgb_pred)"
   ]
  },
  {
   "cell_type": "code",
   "execution_count": 26,
   "metadata": {},
   "outputs": [
    {
     "name": "stderr",
     "output_type": "stream",
     "text": [
      "IOPub data rate exceeded.\n",
      "The notebook server will temporarily stop sending output\n",
      "to the client in order to avoid crashing it.\n",
      "To change this limit, set the config variable\n",
      "`--NotebookApp.iopub_data_rate_limit`.\n",
      "\n",
      "Current values:\n",
      "NotebookApp.iopub_data_rate_limit=1000000.0 (bytes/sec)\n",
      "NotebookApp.rate_limit_window=3.0 (secs)\n",
      "\n"
     ]
    }
   ],
   "source": [
    "X_train, y_train, X_test, y_test, word_to_index = load_data(train_data, test_data)\n",
    "X_train = pad_sequences(X_train, maxlen = maxlen)\n",
    "X_test = pad_sequences(X_test, maxlen = maxlen)\n",
    "# X_train = get_decoded_sentences(X_train,index_to_word)"
   ]
  },
  {
   "cell_type": "code",
   "execution_count": 14,
   "metadata": {},
   "outputs": [],
   "source": [
    "# 학습한 Embedding 파라미터를 파일에 써서 저장합니다. \n",
    "word2vec_file_path = \"/home/ssac1/minchae/nodes/exp_04/word2vec.txt\"\n",
    "with open(word2vec_file_path, 'w') as f:\n",
    "    f.write('{} {}\\n'.format(vocab_size, 100))\n",
    "    vectors = model.get_weights()[0]\n",
    "    for i in range(vocab_size):\n",
    "        f.write('{} {}\\n'.format(index_to_word[i], ' '.join(map(str, list(vectors[i, :])))))"
   ]
  },
  {
   "cell_type": "code",
   "execution_count": 15,
   "metadata": {},
   "outputs": [],
   "source": [
    "word_vectors = Word2VecKeyedVectors.load_word2vec_format(word2vec_file_path, binary=False)"
   ]
  },
  {
   "cell_type": "code",
   "execution_count": 16,
   "metadata": {},
   "outputs": [],
   "source": [
    "embedding_matrix = np.random.rand(vocab_size, 100)\n",
    "\n",
    "for i in range(vocab_size):\n",
    "    if index_to_word[i] in word_vectors:\n",
    "        embedding_matrix[i] = word_vectors[index_to_word[i]]"
   ]
  },
  {
   "cell_type": "code",
   "execution_count": 17,
   "metadata": {},
   "outputs": [],
   "source": [
    "# word2vector\n",
    "# Activation을 elu를 한 번 써볼까요\n",
    "model_w = keras.Sequential([\n",
    "    keras.layers.Embedding(vocab_size, 100,\n",
    "                          embeddings_initializer=Constant(embedding_matrix),\n",
    "                          input_length=maxlen,\n",
    "                          trainable=True),\n",
    "    keras.layers.LSTM(128, return_sequences=True),\n",
    "    keras.layers.LSTM(128),\n",
    "    keras.layers.Dense(256, activation='elu'),\n",
    "    keras.layers.Dense(128, activation='elu'),\n",
    "    keras.layers.Dense(1, activation='sigmoid')\n",
    "])"
   ]
  },
  {
   "cell_type": "code",
   "execution_count": null,
   "metadata": {},
   "outputs": [],
   "source": [
    "early_stopping = keras.callbacks.EarlyStopping(monitor='val_loss', mode='min', verbose=1, patience=10)\n",
    "model_checkpoint = keras.callbacks.ModelCheckpoint('best_model_2.h5', monitor='val_acc', mode='max', verbose=1, save_best_only=True)"
   ]
  },
  {
   "cell_type": "code",
   "execution_count": 18,
   "metadata": {},
   "outputs": [],
   "source": [
    "# learning_rate도 한 번 바꿔볼까\n",
    "model_w.compile(optimizer=tf.keras.optimizers.Adam(5e-4), loss='binary_crossentropy', metrics=['acc'])"
   ]
  },
  {
   "cell_type": "code",
   "execution_count": 28,
   "metadata": {
    "scrolled": true
   },
   "outputs": [
    {
     "name": "stdout",
     "output_type": "stream",
     "text": [
      "Epoch 1/20\n",
      "800/800 [==============================] - ETA: 0s - loss: 0.2712 - acc: 0.8871\n",
      "Epoch 00001: val_acc improved from -inf to 0.87418, saving model to best_model.h5\n",
      "800/800 [==============================] - 12s 15ms/step - loss: 0.2712 - acc: 0.8871 - val_loss: 0.2986 - val_acc: 0.8742\n",
      "Epoch 2/20\n",
      "799/800 [============================>.] - ETA: 0s - loss: 0.2138 - acc: 0.9138\n",
      "Epoch 00002: val_acc did not improve from 0.87418\n",
      "800/800 [==============================] - 11s 14ms/step - loss: 0.2137 - acc: 0.9138 - val_loss: 0.3162 - val_acc: 0.8740\n",
      "Epoch 3/20\n",
      "799/800 [============================>.] - ETA: 0s - loss: 0.1863 - acc: 0.9257\n",
      "Epoch 00003: val_acc did not improve from 0.87418\n",
      "800/800 [==============================] - 11s 14ms/step - loss: 0.1863 - acc: 0.9257 - val_loss: 0.3598 - val_acc: 0.8710\n",
      "Epoch 4/20\n",
      "796/800 [============================>.] - ETA: 0s - loss: 0.1620 - acc: 0.9364\n",
      "Epoch 00004: val_acc did not improve from 0.87418\n",
      "800/800 [==============================] - 11s 13ms/step - loss: 0.1621 - acc: 0.9364 - val_loss: 0.3992 - val_acc: 0.8662\n",
      "Epoch 5/20\n",
      "800/800 [==============================] - ETA: 0s - loss: 0.1401 - acc: 0.9453\n",
      "Epoch 00005: val_acc did not improve from 0.87418\n",
      "800/800 [==============================] - 10s 12ms/step - loss: 0.1401 - acc: 0.9453 - val_loss: 0.4409 - val_acc: 0.8614\n",
      "Epoch 6/20\n",
      "798/800 [============================>.] - ETA: 0s - loss: 0.1204 - acc: 0.9533\n",
      "Epoch 00006: val_acc did not improve from 0.87418\n",
      "800/800 [==============================] - 10s 13ms/step - loss: 0.1203 - acc: 0.9533 - val_loss: 0.4881 - val_acc: 0.8579\n",
      "Epoch 7/20\n",
      "798/800 [============================>.] - ETA: 0s - loss: 0.1054 - acc: 0.9601\n",
      "Epoch 00007: val_acc did not improve from 0.87418\n",
      "800/800 [==============================] - 10s 12ms/step - loss: 0.1055 - acc: 0.9600 - val_loss: 0.5900 - val_acc: 0.8560\n",
      "Epoch 8/20\n",
      "798/800 [============================>.] - ETA: 0s - loss: 0.0934 - acc: 0.9641\n",
      "Epoch 00008: val_acc did not improve from 0.87418\n",
      "800/800 [==============================] - 10s 12ms/step - loss: 0.0935 - acc: 0.9640 - val_loss: 0.6389 - val_acc: 0.8575\n",
      "Epoch 9/20\n",
      "800/800 [==============================] - ETA: 0s - loss: 0.0824 - acc: 0.9686\n",
      "Epoch 00009: val_acc did not improve from 0.87418\n",
      "800/800 [==============================] - 10s 12ms/step - loss: 0.0824 - acc: 0.9686 - val_loss: 0.8240 - val_acc: 0.8535\n",
      "Epoch 10/20\n",
      "798/800 [============================>.] - ETA: 0s - loss: 0.0746 - acc: 0.9715\n",
      "Epoch 00010: val_acc did not improve from 0.87418\n",
      "800/800 [==============================] - 10s 12ms/step - loss: 0.0746 - acc: 0.9715 - val_loss: 0.7806 - val_acc: 0.8512\n",
      "Epoch 11/20\n",
      "798/800 [============================>.] - ETA: 0s - loss: 0.0675 - acc: 0.9742\n",
      "Epoch 00011: val_acc did not improve from 0.87418\n",
      "800/800 [==============================] - 10s 12ms/step - loss: 0.0674 - acc: 0.9742 - val_loss: 0.7908 - val_acc: 0.8487\n",
      "Epoch 00011: early stopping\n"
     ]
    }
   ],
   "source": [
    "history = model_w.fit(\n",
    "    X_train, y_train, epochs=20, callbacks=[early_stopping, model_checkpoint], \n",
    "    batch_size=128 ,validation_split=0.3\n",
    "                   )"
   ]
  },
  {
   "cell_type": "code",
   "execution_count": null,
   "metadata": {},
   "outputs": [],
   "source": [
    "print(\"\\n 테스트 정확도: %.4f\" % (model_w.evaluate(X_test, y_test)[1]))"
   ]
  }
 ],
 "metadata": {
  "kernelspec": {
   "display_name": "aiffel",
   "language": "python",
   "name": "aiffel"
  },
  "language_info": {
   "codemirror_mode": {
    "name": "ipython",
    "version": 3
   },
   "file_extension": ".py",
   "mimetype": "text/x-python",
   "name": "python",
   "nbconvert_exporter": "python",
   "pygments_lexer": "ipython3",
   "version": "3.7.9"
  }
 },
 "nbformat": 4,
 "nbformat_minor": 4
}
