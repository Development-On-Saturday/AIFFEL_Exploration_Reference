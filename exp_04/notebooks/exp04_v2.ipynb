{
 "cells": [
  {
   "cell_type": "code",
   "execution_count": 1,
   "metadata": {
    "scrolled": true
   },
   "outputs": [],
   "source": [
    "import os\n",
    "import re\n",
    "import urllib.request\n",
    "from collections import Counter\n",
    "import matplotlib.pyplot as plt\n",
    "\n",
    "import pandas as pd\n",
    "import numpy as np\n",
    "\n",
    "from konlpy.tag import Okt\n",
    "from konlpy.tag import Mecab\n",
    "from gensim.models import KeyedVectors, Word2Vec\n",
    "from gensim.models.keyedvectors import Word2VecKeyedVectors\n",
    "\n",
    "import tensorflow as tf\n",
    "from tensorflow import keras\n",
    "from tensorflow.keras.initializers import Constant\n",
    "from tensorflow.keras.callbacks import LearningRateScheduler\n",
    "from tensorflow.keras.preprocessing.text import Tokenizer\n",
    "from tensorflow.keras.preprocessing.sequence import pad_sequences\n",
    "\n",
    "# from utils import *\n",
    "%matplotlib inline"
   ]
  },
  {
   "cell_type": "code",
   "execution_count": 2,
   "metadata": {},
   "outputs": [],
   "source": [
    "train_data, test_data = get_data()"
   ]
  },
  {
   "cell_type": "code",
   "execution_count": 3,
   "metadata": {},
   "outputs": [
    {
     "data": {
      "text/plain": [
       "((150000, 3), (50000, 3))"
      ]
     },
     "execution_count": 3,
     "metadata": {},
     "output_type": "execute_result"
    }
   ],
   "source": [
    "train_data.shape, test_data.shape"
   ]
  },
  {
   "cell_type": "markdown",
   "metadata": {},
   "source": [
    "## 2) 데이터로더 구성\n",
    "---\n",
    "imdb.data_loader()와 동일하게 동작하는 나만의 data_loader를 만들어보자  \n",
    "- 데이터 중복 제거\n",
    "- NaN 결측치 제거\n",
    "- 한국어 토크나이저로 토큰화\n",
    "- 불용어(Stopwords)제거\n",
    "- 사전 word_to_index 구성\n",
    "- 텍스트 스트링을 사전 인덱스 스트링으로 변환\n",
    "- X_train, y_train, X_test, y_test, word_to_index 리턴"
   ]
  },
  {
   "cell_type": "code",
   "execution_count": 4,
   "metadata": {},
   "outputs": [],
   "source": [
    "X_train, y_train, X_test, y_test, word_to_index, index_to_word = load_data(train_data, test_data)"
   ]
  },
  {
   "cell_type": "markdown",
   "metadata": {},
   "source": [
    "### 3) 모델구성을 위한 데이터 분석 및 가공\n",
    "---\n",
    "- 데이터셋 내 문장 길이 분포\n",
    "- 적절한 최대 문장 길이 지정\n",
    "- keras.preprocessing.sequence.pad_sequences을 활용한 패딩 추가"
   ]
  },
  {
   "cell_type": "code",
   "execution_count": 5,
   "metadata": {
    "scrolled": true
   },
   "outputs": [
    {
     "name": "stdout",
     "output_type": "stream",
     "text": [
      "문장길이 평균 :  15.79866194196276\n",
      "문장길이 최대 :  116\n",
      "문장길이 표준편차 :  12.666606298507723\n",
      "pad_sequences maxlen :  34\n",
      "전체 문장의 0.9079640448208398%가 maxlen 설정값 이내에 포함됩니다. \n"
     ]
    }
   ],
   "source": [
    "X_train, X_test = get_train_test(X_train, X_test, word_to_index)"
   ]
  },
  {
   "cell_type": "markdown",
   "metadata": {},
   "source": [
    "### 4) 모델구성 및 Validation set 구성\n",
    "---\n",
    "모델은 3가지 이상 다양하게 구성하여 실험해 보세요.  \n",
    "#### 4-1 validation set 구성"
   ]
  },
  {
   "cell_type": "code",
   "execution_count": 6,
   "metadata": {},
   "outputs": [
    {
     "name": "stdout",
     "output_type": "stream",
     "text": [
      "(50000, 34) (50000,)\n",
      "(96182, 34) (96182,)\n"
     ]
    }
   ],
   "source": [
    "partial_X_train, partial_y_train, X_val, y_val = set_validation(X_train, y_train, n = 50000)"
   ]
  },
  {
   "cell_type": "markdown",
   "metadata": {},
   "source": [
    "#### 4-2 model 구성\n",
    "1. LSTM"
   ]
  },
  {
   "cell_type": "code",
   "execution_count": 7,
   "metadata": {},
   "outputs": [
    {
     "name": "stdout",
     "output_type": "stream",
     "text": [
      "WARNING:tensorflow:Layer lstm will not use cuDNN kernel since it doesn't meet the cuDNN kernel criteria. It will use generic GPU kernel as fallback when running on GPU\n"
     ]
    }
   ],
   "source": [
    "lstm = model(model_name='lstm', vocab_size=10000, word_vector_dim=32)"
   ]
  },
  {
   "cell_type": "markdown",
   "metadata": {},
   "source": [
    "2. cnn"
   ]
  },
  {
   "cell_type": "code",
   "execution_count": 8,
   "metadata": {
    "scrolled": false
   },
   "outputs": [
    {
     "name": "stdout",
     "output_type": "stream",
     "text": [
      "Model: \"sequential_1\"\n",
      "_________________________________________________________________\n",
      "Layer (type)                 Output Shape              Param #   \n",
      "=================================================================\n",
      "embedding_1 (Embedding)      (None, None, 32)          320000    \n",
      "_________________________________________________________________\n",
      "conv1d (Conv1D)              (None, None, 16)          1552      \n",
      "_________________________________________________________________\n",
      "conv1d_1 (Conv1D)            (None, None, 16)          784       \n",
      "_________________________________________________________________\n",
      "max_pooling1d (MaxPooling1D) (None, None, 16)          0         \n",
      "_________________________________________________________________\n",
      "conv1d_2 (Conv1D)            (None, None, 16)          784       \n",
      "_________________________________________________________________\n",
      "global_max_pooling1d (Global (None, 16)                0         \n",
      "_________________________________________________________________\n",
      "dense_2 (Dense)              (None, 8)                 136       \n",
      "_________________________________________________________________\n",
      "dense_3 (Dense)              (None, 1)                 9         \n",
      "=================================================================\n",
      "Total params: 323,265\n",
      "Trainable params: 323,265\n",
      "Non-trainable params: 0\n",
      "_________________________________________________________________\n"
     ]
    }
   ],
   "source": [
    "cnn = model(model_name='cnn', vocab_size=10000, word_vector_dim=32)\n",
    "cnn.summary()"
   ]
  },
  {
   "cell_type": "markdown",
   "metadata": {},
   "source": [
    "3. GlobalMaxPooling"
   ]
  },
  {
   "cell_type": "code",
   "execution_count": 9,
   "metadata": {
    "scrolled": false
   },
   "outputs": [],
   "source": [
    "gmp = model(model_name='gmp', vocab_size=10000, word_vector_dim=32)"
   ]
  },
  {
   "cell_type": "markdown",
   "metadata": {},
   "source": [
    "### 5) 모델 훈련 개시\n",
    "---"
   ]
  },
  {
   "cell_type": "markdown",
   "metadata": {},
   "source": [
    "1. LSTM train"
   ]
  },
  {
   "cell_type": "code",
   "execution_count": 10,
   "metadata": {
    "scrolled": true
   },
   "outputs": [
    {
     "name": "stdout",
     "output_type": "stream",
     "text": [
      "Epoch 1/30\n",
      "188/188 [==============================] - 12s 62ms/step - loss: 0.5670 - accuracy: 0.7601 - val_loss: 0.4274 - val_accuracy: 0.8326 - lr: 0.0010\n",
      "Epoch 2/30\n",
      "188/188 [==============================] - 11s 61ms/step - loss: 0.4051 - accuracy: 0.8357 - val_loss: 0.3692 - val_accuracy: 0.8466 - lr: 0.0010\n",
      "Epoch 3/30\n",
      "188/188 [==============================] - 11s 60ms/step - loss: 0.3618 - accuracy: 0.8514 - val_loss: 0.3558 - val_accuracy: 0.8498 - lr: 0.0010\n",
      "Epoch 4/30\n",
      "188/188 [==============================] - 12s 61ms/step - loss: 0.3389 - accuracy: 0.8625 - val_loss: 0.3543 - val_accuracy: 0.8497 - lr: 9.0484e-04\n",
      "Epoch 5/30\n",
      "188/188 [==============================] - 11s 61ms/step - loss: 0.3255 - accuracy: 0.8683 - val_loss: 0.3518 - val_accuracy: 0.8512 - lr: 8.1873e-04\n",
      "Epoch 6/30\n",
      "188/188 [==============================] - 11s 61ms/step - loss: 0.3175 - accuracy: 0.8717 - val_loss: 0.3532 - val_accuracy: 0.8506 - lr: 7.4082e-04\n",
      "Epoch 7/30\n",
      "188/188 [==============================] - 12s 61ms/step - loss: 0.3089 - accuracy: 0.8754 - val_loss: 0.3539 - val_accuracy: 0.8503 - lr: 6.7032e-04\n",
      "Epoch 8/30\n",
      "188/188 [==============================] - 11s 61ms/step - loss: 0.3048 - accuracy: 0.8779 - val_loss: 0.3557 - val_accuracy: 0.8504 - lr: 6.0653e-04\n",
      "Epoch 9/30\n",
      "188/188 [==============================] - 12s 61ms/step - loss: 0.2998 - accuracy: 0.8795 - val_loss: 0.3568 - val_accuracy: 0.8490 - lr: 5.4881e-04\n",
      "Epoch 10/30\n",
      "188/188 [==============================] - 11s 61ms/step - loss: 0.2953 - accuracy: 0.8831 - val_loss: 0.3582 - val_accuracy: 0.8493 - lr: 4.9659e-04\n",
      "Epoch 11/30\n",
      "188/188 [==============================] - 12s 62ms/step - loss: 0.2921 - accuracy: 0.8831 - val_loss: 0.3601 - val_accuracy: 0.8500 - lr: 4.4933e-04\n",
      "Epoch 12/30\n",
      "188/188 [==============================] - 11s 60ms/step - loss: 0.2895 - accuracy: 0.8849 - val_loss: 0.3616 - val_accuracy: 0.8498 - lr: 4.0657e-04\n",
      "Epoch 13/30\n",
      "188/188 [==============================] - 11s 61ms/step - loss: 0.2881 - accuracy: 0.8851 - val_loss: 0.3615 - val_accuracy: 0.8491 - lr: 3.6788e-04\n",
      "Epoch 14/30\n",
      "188/188 [==============================] - 11s 60ms/step - loss: 0.2853 - accuracy: 0.8865 - val_loss: 0.3639 - val_accuracy: 0.8491 - lr: 3.3287e-04\n",
      "Epoch 15/30\n",
      "188/188 [==============================] - 12s 62ms/step - loss: 0.2835 - accuracy: 0.8871 - val_loss: 0.3639 - val_accuracy: 0.8488 - lr: 3.0119e-04\n",
      "Epoch 16/30\n",
      "188/188 [==============================] - 12s 62ms/step - loss: 0.2818 - accuracy: 0.8882 - val_loss: 0.3653 - val_accuracy: 0.8490 - lr: 2.7253e-04\n",
      "Epoch 17/30\n",
      "188/188 [==============================] - 12s 61ms/step - loss: 0.2798 - accuracy: 0.8884 - val_loss: 0.3665 - val_accuracy: 0.8484 - lr: 2.4660e-04\n",
      "Epoch 18/30\n",
      "188/188 [==============================] - 12s 62ms/step - loss: 0.2783 - accuracy: 0.8892 - val_loss: 0.3672 - val_accuracy: 0.8487 - lr: 2.2313e-04\n",
      "Epoch 19/30\n",
      "188/188 [==============================] - 11s 61ms/step - loss: 0.2776 - accuracy: 0.8904 - val_loss: 0.3686 - val_accuracy: 0.8482 - lr: 2.0190e-04\n",
      "Epoch 20/30\n",
      "188/188 [==============================] - 11s 61ms/step - loss: 0.2764 - accuracy: 0.8905 - val_loss: 0.3692 - val_accuracy: 0.8484 - lr: 1.8268e-04\n",
      "Epoch 21/30\n",
      "188/188 [==============================] - 11s 61ms/step - loss: 0.2761 - accuracy: 0.8908 - val_loss: 0.3698 - val_accuracy: 0.8482 - lr: 1.6530e-04\n",
      "Epoch 22/30\n",
      "188/188 [==============================] - 11s 60ms/step - loss: 0.2750 - accuracy: 0.8904 - val_loss: 0.3704 - val_accuracy: 0.8478 - lr: 1.4957e-04\n",
      "Epoch 23/30\n",
      "188/188 [==============================] - 11s 60ms/step - loss: 0.2740 - accuracy: 0.8912 - val_loss: 0.3719 - val_accuracy: 0.8477 - lr: 1.3534e-04\n",
      "Epoch 24/30\n",
      "188/188 [==============================] - 12s 61ms/step - loss: 0.2737 - accuracy: 0.8918 - val_loss: 0.3725 - val_accuracy: 0.8478 - lr: 1.2246e-04\n",
      "Epoch 25/30\n",
      "188/188 [==============================] - 11s 61ms/step - loss: 0.2728 - accuracy: 0.8921 - val_loss: 0.3726 - val_accuracy: 0.8476 - lr: 1.1080e-04\n",
      "Epoch 26/30\n",
      "188/188 [==============================] - 12s 62ms/step - loss: 0.2735 - accuracy: 0.8914 - val_loss: 0.3731 - val_accuracy: 0.8474 - lr: 1.0026e-04\n",
      "Epoch 27/30\n",
      "188/188 [==============================] - 11s 61ms/step - loss: 0.2729 - accuracy: 0.8917 - val_loss: 0.3732 - val_accuracy: 0.8472 - lr: 9.0718e-05\n",
      "Epoch 28/30\n",
      "188/188 [==============================] - 11s 61ms/step - loss: 0.2712 - accuracy: 0.8926 - val_loss: 0.3738 - val_accuracy: 0.8475 - lr: 8.2085e-05\n",
      "Epoch 29/30\n",
      "188/188 [==============================] - 12s 62ms/step - loss: 0.2709 - accuracy: 0.8930 - val_loss: 0.3740 - val_accuracy: 0.8471 - lr: 7.4273e-05\n",
      "Epoch 30/30\n",
      "188/188 [==============================] - 11s 61ms/step - loss: 0.2708 - accuracy: 0.8927 - val_loss: 0.3740 - val_accuracy: 0.8474 - lr: 6.7205e-05\n"
     ]
    },
    {
     "data": {
      "image/png": "[encoded data removed]",
      "text/plain": [
       "<Figure size 432x288 with 1 Axes>"
      ]
     },
     "metadata": {
      "needs_background": "light"
     },
     "output_type": "display_data"
    }
   ],
   "source": [
    "lstm_history = train_model(partial_X_train, partial_y_train, X_val, y_val, lstm,lr=0.001, epochs = 30\n",
    "                           , batch_size = 512,\n",
    "                plot_graph=True)"
   ]
  },
  {
   "cell_type": "markdown",
   "metadata": {},
   "source": [
    "2. model 저장"
   ]
  },
  {
   "cell_type": "code",
   "execution_count": 17,
   "metadata": {},
   "outputs": [],
   "source": [
    "!mkdir -p saved_lstm"
   ]
  },
  {
   "cell_type": "code",
   "execution_count": null,
   "metadata": {
    "scrolled": false
   },
   "outputs": [],
   "source": [
    "lstm.save('saved_lstm/lstm_model')"
   ]
  },
  {
   "cell_type": "code",
   "execution_count": null,
   "metadata": {
    "scrolled": true
   },
   "outputs": [],
   "source": [
    "new_model = tf.keras.models.load_model('saved_lstm/lstm_model')"
   ]
  },
  {
   "cell_type": "code",
   "execution_count": 11,
   "metadata": {},
   "outputs": [
    {
     "name": "stdout",
     "output_type": "stream",
     "text": [
      "1537/1537 - 12s - loss: 0.3881 - accuracy: 0.8417\n"
     ]
    }
   ],
   "source": [
    "loss, acc = new_model.evaluate(X_test, y_test, verbose=2)"
   ]
  },
  {
   "cell_type": "markdown",
   "metadata": {},
   "source": [
    "2. cnn"
   ]
  },
  {
   "cell_type": "code",
   "execution_count": 13,
   "metadata": {
    "scrolled": true
   },
   "outputs": [
    {
     "name": "stdout",
     "output_type": "stream",
     "text": [
      "Epoch 1/15\n",
      "188/188 [==============================] - 9s 46ms/step - loss: 0.5209 - accuracy: 0.7331 - val_loss: 0.3675 - val_accuracy: 0.8366 - lr: 0.0010\n",
      "Epoch 2/15\n",
      "188/188 [==============================] - 1s 5ms/step - loss: 0.3335 - accuracy: 0.8566 - val_loss: 0.3456 - val_accuracy: 0.8490 - lr: 0.0010\n",
      "Epoch 3/15\n",
      "188/188 [==============================] - 1s 5ms/step - loss: 0.2913 - accuracy: 0.8781 - val_loss: 0.3476 - val_accuracy: 0.8510 - lr: 0.0010\n",
      "Epoch 4/15\n",
      "188/188 [==============================] - 1s 5ms/step - loss: 0.2589 - accuracy: 0.8946 - val_loss: 0.3556 - val_accuracy: 0.8483 - lr: 9.0484e-04\n",
      "Epoch 5/15\n",
      "188/188 [==============================] - 1s 5ms/step - loss: 0.2300 - accuracy: 0.9097 - val_loss: 0.3742 - val_accuracy: 0.8458 - lr: 8.1873e-04\n",
      "Epoch 6/15\n",
      "188/188 [==============================] - 1s 5ms/step - loss: 0.2034 - accuracy: 0.9227 - val_loss: 0.3919 - val_accuracy: 0.8444 - lr: 7.4082e-04\n",
      "Epoch 7/15\n",
      "188/188 [==============================] - 1s 5ms/step - loss: 0.1779 - accuracy: 0.9347 - val_loss: 0.4187 - val_accuracy: 0.8427 - lr: 6.7032e-04\n",
      "Epoch 8/15\n",
      "188/188 [==============================] - 1s 5ms/step - loss: 0.1549 - accuracy: 0.9449 - val_loss: 0.4538 - val_accuracy: 0.8402 - lr: 6.0653e-04\n",
      "Epoch 9/15\n",
      "188/188 [==============================] - 1s 5ms/step - loss: 0.1360 - accuracy: 0.9528 - val_loss: 0.4823 - val_accuracy: 0.8385 - lr: 5.4881e-04\n",
      "Epoch 10/15\n",
      "188/188 [==============================] - 1s 5ms/step - loss: 0.1181 - accuracy: 0.9615 - val_loss: 0.5150 - val_accuracy: 0.8355 - lr: 4.9659e-04\n",
      "Epoch 11/15\n",
      "188/188 [==============================] - 1s 6ms/step - loss: 0.1036 - accuracy: 0.9674 - val_loss: 0.5533 - val_accuracy: 0.8338 - lr: 4.4933e-04\n",
      "Epoch 12/15\n",
      "188/188 [==============================] - 1s 5ms/step - loss: 0.0916 - accuracy: 0.9720 - val_loss: 0.5833 - val_accuracy: 0.8320 - lr: 4.0657e-04\n",
      "Epoch 13/15\n",
      "188/188 [==============================] - 1s 5ms/step - loss: 0.0821 - accuracy: 0.9754 - val_loss: 0.6205 - val_accuracy: 0.8316 - lr: 3.6788e-04\n",
      "Epoch 14/15\n",
      "188/188 [==============================] - 1s 5ms/step - loss: 0.0745 - accuracy: 0.9785 - val_loss: 0.6468 - val_accuracy: 0.8291 - lr: 3.3287e-04\n",
      "Epoch 15/15\n",
      "188/188 [==============================] - 1s 5ms/step - loss: 0.0680 - accuracy: 0.9814 - val_loss: 0.6902 - val_accuracy: 0.8298 - lr: 3.0119e-04\n"
     ]
    },
    {
     "data": {
      "image/png": "[encoded data removed]",
      "text/plain": [
       "<Figure size 432x288 with 1 Axes>"
      ]
     },
     "metadata": {
      "needs_background": "light"
     },
     "output_type": "display_data"
    }
   ],
   "source": [
    "cnn_history = train_model(partial_X_train, partial_y_train, X_val, y_val, cnn,lr=0.001, epochs = 15, batch_size = 512,\n",
    "                plot_graph=True)"
   ]
  },
  {
   "cell_type": "code",
   "execution_count": 17,
   "metadata": {},
   "outputs": [
    {
     "name": "stdout",
     "output_type": "stream",
     "text": [
      "INFO:tensorflow:Assets written to: saved_cnn/cnn_model/assets\n",
      "1537/1537 - 4s - loss: 0.6995 - accuracy: 0.8267\n"
     ]
    }
   ],
   "source": [
    "!mkdir -p saved_cnn\n",
    "cnn.save('saved_cnn/cnn_model')\n",
    "new_cnn = tf.keras.models.load_model('saved_cnn/cnn_model')\n",
    "loss, acc = new_cnn.evaluate(X_test, y_test, verbose=2)"
   ]
  },
  {
   "cell_type": "markdown",
   "metadata": {},
   "source": [
    "3. GlobalMaxPooling"
   ]
  },
  {
   "cell_type": "code",
   "execution_count": 16,
   "metadata": {
    "scrolled": true
   },
   "outputs": [
    {
     "name": "stdout",
     "output_type": "stream",
     "text": [
      "Epoch 1/15\n",
      "188/188 [==============================] - 1s 4ms/step - loss: 0.5824 - accuracy: 0.7619 - val_loss: 0.4306 - val_accuracy: 0.8211 - lr: 0.0010\n",
      "Epoch 2/15\n",
      "188/188 [==============================] - 1s 4ms/step - loss: 0.3736 - accuracy: 0.8425 - val_loss: 0.3597 - val_accuracy: 0.8423 - lr: 0.0010\n",
      "Epoch 3/15\n",
      "188/188 [==============================] - 1s 4ms/step - loss: 0.3167 - accuracy: 0.8679 - val_loss: 0.3495 - val_accuracy: 0.8468 - lr: 0.0010\n",
      "Epoch 4/15\n",
      "188/188 [==============================] - 1s 4ms/step - loss: 0.2831 - accuracy: 0.8836 - val_loss: 0.3505 - val_accuracy: 0.8486 - lr: 9.0484e-04\n",
      "Epoch 5/15\n",
      "188/188 [==============================] - 1s 4ms/step - loss: 0.2578 - accuracy: 0.8966 - val_loss: 0.3555 - val_accuracy: 0.8482 - lr: 8.1873e-04\n",
      "Epoch 6/15\n",
      "188/188 [==============================] - 1s 4ms/step - loss: 0.2372 - accuracy: 0.9068 - val_loss: 0.3625 - val_accuracy: 0.8483 - lr: 7.4082e-04\n",
      "Epoch 7/15\n",
      "188/188 [==============================] - 1s 4ms/step - loss: 0.2199 - accuracy: 0.9152 - val_loss: 0.3710 - val_accuracy: 0.8474 - lr: 6.7032e-04\n",
      "Epoch 8/15\n",
      "188/188 [==============================] - 1s 4ms/step - loss: 0.2048 - accuracy: 0.9228 - val_loss: 0.3802 - val_accuracy: 0.8460 - lr: 6.0653e-04\n",
      "Epoch 9/15\n",
      "188/188 [==============================] - 1s 4ms/step - loss: 0.1917 - accuracy: 0.9285 - val_loss: 0.3898 - val_accuracy: 0.8454 - lr: 5.4881e-04\n",
      "Epoch 10/15\n",
      "188/188 [==============================] - 1s 4ms/step - loss: 0.1803 - accuracy: 0.9339 - val_loss: 0.3993 - val_accuracy: 0.8446 - lr: 4.9659e-04\n",
      "Epoch 11/15\n",
      "188/188 [==============================] - 1s 4ms/step - loss: 0.1704 - accuracy: 0.9388 - val_loss: 0.4083 - val_accuracy: 0.8422 - lr: 4.4933e-04\n",
      "Epoch 12/15\n",
      "188/188 [==============================] - 1s 4ms/step - loss: 0.1616 - accuracy: 0.9427 - val_loss: 0.4176 - val_accuracy: 0.8417 - lr: 4.0657e-04\n",
      "Epoch 13/15\n",
      "188/188 [==============================] - 1s 4ms/step - loss: 0.1540 - accuracy: 0.9463 - val_loss: 0.4262 - val_accuracy: 0.8403 - lr: 3.6788e-04\n",
      "Epoch 14/15\n",
      "188/188 [==============================] - 1s 4ms/step - loss: 0.1473 - accuracy: 0.9494 - val_loss: 0.4346 - val_accuracy: 0.8395 - lr: 3.3287e-04\n",
      "Epoch 15/15\n",
      "188/188 [==============================] - 1s 4ms/step - loss: 0.1413 - accuracy: 0.9520 - val_loss: 0.4422 - val_accuracy: 0.8388 - lr: 3.0119e-04\n"
     ]
    },
    {
     "data": {
      "image/png": "[encoded data removed]",
      "text/plain": [
       "<Figure size 432x288 with 1 Axes>"
      ]
     },
     "metadata": {
      "needs_background": "light"
     },
     "output_type": "display_data"
    }
   ],
   "source": [
    "gmp_history = train_model(partial_X_train, partial_y_train, X_val, y_val, gmp,lr=0.001, epochs = 15, batch_size = 512,\n",
    "                plot_graph=True)"
   ]
  },
  {
   "cell_type": "code",
   "execution_count": 18,
   "metadata": {
    "scrolled": true
   },
   "outputs": [
    {
     "name": "stdout",
     "output_type": "stream",
     "text": [
      "INFO:tensorflow:Assets written to: saved_gmp/gmp_model/assets\n",
      "1537/1537 - 1s - loss: 0.4552 - accuracy: 0.8363\n"
     ]
    }
   ],
   "source": [
    "!mkdir -p saved_gmp\n",
    "gmp.save('saved_gmp/gmp_model')\n",
    "new_gmp = tf.keras.models.load_model('saved_gmp/gmp_model')\n",
    "loss, acc = new_gmp.evaluate(X_test, y_test, verbose=2)"
   ]
  },
  {
   "cell_type": "markdown",
   "metadata": {},
   "source": [
    "### 7) 학습된 Embedding 레이어 분석"
   ]
  },
  {
   "cell_type": "code",
   "execution_count": 19,
   "metadata": {},
   "outputs": [],
   "source": [
    "save_embedding_vector(lstm, index_to_word,vocab_size = 10000, word_vector_dim = 32, file_name='word2vec_lstm.txt')\n",
    "save_embedding_vector(cnn, index_to_word,vocab_size = 10000, word_vector_dim = 32, file_name='word2vec_cnn.txt')\n",
    "save_embedding_vector(gmp, index_to_word,vocab_size = 10000, word_vector_dim = 32, file_name='word2vec_gmp.txt')"
   ]
  },
  {
   "cell_type": "markdown",
   "metadata": {},
   "source": [
    "1. LSTM"
   ]
  },
  {
   "cell_type": "code",
   "execution_count": 25,
   "metadata": {
    "scrolled": true
   },
   "outputs": [
    {
     "name": "stdout",
     "output_type": "stream",
     "text": [
      "vector.shape : \n",
      " (32,)\n",
      "vector : \n",
      " [ 0.01789022 -0.04064023 -0.01212628 -0.03138744 -0.0233745   0.02798187\n",
      "  0.03132708  0.04321598  0.03436532  0.00274823 -0.0412307   0.01708053\n",
      "  0.04366418 -0.0447032   0.02849236 -0.01867454  0.01282896  0.03834641\n",
      " -0.04528321  0.00311989 -0.0352267  -0.04571998 -0.02196516  0.01969104\n",
      " -0.04396373 -0.04504144 -0.0093812   0.00451503 -0.00560136 -0.0117946\n",
      "  0.03380057  0.01972352]\n",
      "similar_by_word : \n",
      " [('줘야지', 0.5901393890380859), ('모니카', 0.5851605534553528), ('엘리자베스', 0.5767154693603516), ('필립', 0.5583562850952148), ('고치', 0.5520715117454529), ('상황', 0.5445102453231812), ('용인', 0.5404118299484253), ('장녀', 0.5322562456130981), ('극복', 0.5276666283607483), ('근', 0.5240380764007568)]\n"
     ]
    }
   ],
   "source": [
    "evaluate_embedding_layer(file_name='word2vec_lstm.txt', word='강추')"
   ]
  },
  {
   "cell_type": "markdown",
   "metadata": {},
   "source": [
    "2. CNN"
   ]
  },
  {
   "cell_type": "code",
   "execution_count": 21,
   "metadata": {
    "scrolled": true
   },
   "outputs": [
    {
     "name": "stdout",
     "output_type": "stream",
     "text": [
      "vector.shape : \n",
      " (32,)\n",
      "vector : \n",
      " [ 0.09657916 -0.09024356 -0.04396034 -0.09666455 -0.06328543  0.148012\n",
      " -0.08482136 -0.07518242  0.11892819 -0.06143614  0.04723066  0.12797944\n",
      "  0.03315344 -0.07718815  0.05234594 -0.08502752  0.16750835  0.03632313\n",
      " -0.10843456 -0.14021312 -0.03477876  0.01478859  0.14431535  0.02103648\n",
      " -0.03762488  0.01147786  0.02228256  0.08542301  0.03919041  0.05556029\n",
      " -0.08352323 -0.19587947]\n",
      "similar_by_word : \n",
      " [('미래', 0.8605809807777405), ('이영애', 0.8391848802566528), ('아름다운', 0.8272956013679504), ('100', 0.8266639113426208), ('간지', 0.8255090713500977), ('좋아함', 0.8248147964477539), ('재미나', 0.8235864639282227), ('보일', 0.8196964859962463), ('열린', 0.8185026049613953), ('쿠바', 0.818411111831665)]\n"
     ]
    }
   ],
   "source": [
    "evaluate_embedding_layer(file_name='word2vec_cnn.txt', word='강추')"
   ]
  },
  {
   "cell_type": "markdown",
   "metadata": {},
   "source": [
    "3. GlobalMaxPooling"
   ]
  },
  {
   "cell_type": "code",
   "execution_count": 22,
   "metadata": {},
   "outputs": [
    {
     "name": "stdout",
     "output_type": "stream",
     "text": [
      "vector.shape : \n",
      " (32,)\n",
      "vector : \n",
      " [ 0.06794926 -0.11727213  0.11499414 -0.03157317  0.01097293  0.00844804\n",
      "  0.10469481 -0.11580547 -0.04185762  0.1814968   0.1286228   0.15999411\n",
      " -0.09060143 -0.12505631  0.02780576  0.10830612  0.06192678 -0.02575756\n",
      "  0.02333478  0.05330316 -0.08681057  0.04896814 -0.11375917  0.15462792\n",
      "  0.03681781 -0.10331303 -0.04005208 -0.12874644 -0.13681069 -0.02517194\n",
      "  0.02625724  0.09405036]\n",
      "similar_by_word : \n",
      " [('회차', 0.5935143828392029), ('BGM', 0.5502076745033264), ('이긴', 0.5366007089614868), ('슈퍼스타', 0.5345785617828369), ('통일', 0.5324302911758423), ('수작', 0.530022144317627), ('배트맨', 0.5275607109069824), ('무서워서', 0.5164692401885986), ('꺼져라', 0.5160408020019531), ('최민식', 0.5148147940635681)]\n"
     ]
    }
   ],
   "source": [
    "evaluate_embedding_layer(file_name='word2vec_gmp.txt', word='강추')"
   ]
  },
  {
   "cell_type": "markdown",
   "metadata": {},
   "source": [
    "### 8) 한국어 Word2Vec 임베딩 활용하여 성능개선\n",
    "---"
   ]
  },
  {
   "cell_type": "code",
   "execution_count": 26,
   "metadata": {
    "scrolled": false
   },
   "outputs": [],
   "source": [
    "word2vec_path = os.getenv('HOME') + '/aiffel/sentiment_classification/ko.bin'\n",
    "word2vec = Word2Vec.load(word2vec_path)"
   ]
  },
  {
   "cell_type": "code",
   "execution_count": 45,
   "metadata": {
    "scrolled": true
   },
   "outputs": [
    {
     "name": "stderr",
     "output_type": "stream",
     "text": [
      "/home/aiffel0042/anaconda3/envs/aiffel/lib/python3.7/site-packages/ipykernel_launcher.py:1: DeprecationWarning: Call to deprecated `__getitem__` (Method will be removed in 4.0.0, use self.wv.__getitem__() instead).\n",
      "  \"\"\"Entry point for launching an IPython kernel.\n"
     ]
    },
    {
     "data": {
      "text/plain": [
       "(200,)"
      ]
     },
     "execution_count": 45,
     "metadata": {},
     "output_type": "execute_result"
    }
   ],
   "source": [
    "word2vec['추천'].shape"
   ]
  },
  {
   "cell_type": "code",
   "execution_count": 28,
   "metadata": {},
   "outputs": [
    {
     "name": "stderr",
     "output_type": "stream",
     "text": [
      "/home/aiffel0042/anaconda3/envs/aiffel/lib/python3.7/site-packages/ipykernel_launcher.py:1: DeprecationWarning: Call to deprecated `similar_by_word` (Method will be removed in 4.0.0, use self.wv.similar_by_word() instead).\n",
      "  \"\"\"Entry point for launching an IPython kernel.\n"
     ]
    },
    {
     "data": {
      "text/plain": [
       "[('위촉', 0.6401861310005188),\n",
       " ('천거', 0.6389721632003784),\n",
       " ('추대', 0.5849215388298035),\n",
       " ('선출', 0.5803494453430176),\n",
       " ('초청', 0.5759262442588806),\n",
       " ('발탁', 0.5613523721694946),\n",
       " ('선정', 0.5511638522148132),\n",
       " ('임명', 0.5414161682128906),\n",
       " ('초빙', 0.5363222360610962),\n",
       " ('기용', 0.5326868295669556)]"
      ]
     },
     "execution_count": 28,
     "metadata": {},
     "output_type": "execute_result"
    }
   ],
   "source": [
    "word2vec.similar_by_word('추천')"
   ]
  },
  {
   "cell_type": "code",
   "execution_count": 29,
   "metadata": {},
   "outputs": [
    {
     "name": "stderr",
     "output_type": "stream",
     "text": [
      "/home/aiffel0042/anaconda3/envs/aiffel/lib/python3.7/site-packages/ipykernel_launcher.py:8: DeprecationWarning: Call to deprecated `__contains__` (Method will be removed in 4.0.0, use self.wv.__contains__() instead).\n",
      "  \n",
      "/home/aiffel0042/anaconda3/envs/aiffel/lib/python3.7/site-packages/ipykernel_launcher.py:9: DeprecationWarning: Call to deprecated `__getitem__` (Method will be removed in 4.0.0, use self.wv.__getitem__() instead).\n",
      "  if __name__ == '__main__':\n"
     ]
    }
   ],
   "source": [
    "vocab_size = 10000    # 어휘 사전의 크기입니다(10,000개의 단어)\n",
    "word_vector_dim = 200  # 워드 벡터의 차원수 (변경가능한 하이퍼파라미터)\n",
    "\n",
    "embedding_matrix = np.random.rand(vocab_size, word_vector_dim)\n",
    "\n",
    "# embedding_matrix에 Word2Vec 워드벡터를 단어 하나씩마다 차례차례 카피한다.\n",
    "for i in range(4,vocab_size):\n",
    "    if index_to_word[i] in word2vec:\n",
    "        embedding_matrix[i] = word2vec[index_to_word[i]]"
   ]
  },
  {
   "cell_type": "code",
   "execution_count": 43,
   "metadata": {
    "scrolled": true
   },
   "outputs": [
    {
     "name": "stdout",
     "output_type": "stream",
     "text": [
      "Model: \"sequential_12\"\n",
      "_________________________________________________________________\n",
      "Layer (type)                 Output Shape              Param #   \n",
      "=================================================================\n",
      "embedding_11 (Embedding)     (None, 34, 200)           2000000   \n",
      "_________________________________________________________________\n",
      "conv1d_8 (Conv1D)            (None, 32, 16)            9616      \n",
      "_________________________________________________________________\n",
      "conv1d_9 (Conv1D)            (None, 30, 16)            784       \n",
      "_________________________________________________________________\n",
      "max_pooling1d_3 (MaxPooling1 (None, 6, 16)             0         \n",
      "_________________________________________________________________\n",
      "conv1d_10 (Conv1D)           (None, 4, 16)             784       \n",
      "_________________________________________________________________\n",
      "global_max_pooling1d_3 (Glob (None, 16)                0         \n",
      "_________________________________________________________________\n",
      "dense_8 (Dense)              (None, 8)                 136       \n",
      "_________________________________________________________________\n",
      "dense_9 (Dense)              (None, 1)                 9         \n",
      "=================================================================\n",
      "Total params: 2,011,329\n",
      "Trainable params: 2,011,329\n",
      "Non-trainable params: 0\n",
      "_________________________________________________________________\n"
     ]
    }
   ],
   "source": [
    "# 모델 구성\n",
    "maxlen = 34\n",
    "model = keras.Sequential()\n",
    "model.add(keras.layers.Embedding(vocab_size, \n",
    "                                 word_vector_dim, \n",
    "                                 embeddings_initializer=Constant(embedding_matrix),  # 카피한 임베딩을 여기서 활용\n",
    "                                 input_length=maxlen, \n",
    "                                 trainable=True))   # trainable을 True로 주면 Fine-tuning\n",
    "model.add(keras.layers.Conv1D(16, 3, activation='relu'))\n",
    "model.add(keras.layers.Conv1D(16, 3, activation='relu'))\n",
    "model.add(keras.layers.MaxPooling1D(5))\n",
    "model.add(keras.layers.Conv1D(16, 3, activation='relu'))\n",
    "model.add(keras.layers.GlobalMaxPooling1D())\n",
    "model.add(keras.layers.Dense(8, activation='relu'))\n",
    "model.add(keras.layers.Dense(1, activation='sigmoid')) \n",
    "\n",
    "model.summary()"
   ]
  },
  {
   "cell_type": "code",
   "execution_count": 33,
   "metadata": {
    "scrolled": true
   },
   "outputs": [
    {
     "name": "stdout",
     "output_type": "stream",
     "text": [
      "Epoch 1/20\n",
      "188/188 [==============================] - 7s 36ms/step - loss: 0.6292 - accuracy: 0.6291 - val_loss: 0.5119 - val_accuracy: 0.7471\n",
      "Epoch 2/20\n",
      "188/188 [==============================] - 3s 18ms/step - loss: 0.4474 - accuracy: 0.7915 - val_loss: 0.4040 - val_accuracy: 0.8175\n",
      "Epoch 3/20\n",
      "188/188 [==============================] - 3s 18ms/step - loss: 0.3642 - accuracy: 0.8409 - val_loss: 0.3713 - val_accuracy: 0.8359\n",
      "Epoch 4/20\n",
      "188/188 [==============================] - 3s 18ms/step - loss: 0.3231 - accuracy: 0.8614 - val_loss: 0.3755 - val_accuracy: 0.8365\n",
      "Epoch 5/20\n",
      "188/188 [==============================] - 3s 18ms/step - loss: 0.2939 - accuracy: 0.8776 - val_loss: 0.3596 - val_accuracy: 0.8443\n",
      "Epoch 6/20\n",
      "188/188 [==============================] - 3s 18ms/step - loss: 0.2700 - accuracy: 0.8901 - val_loss: 0.3661 - val_accuracy: 0.8425\n",
      "Epoch 7/20\n",
      "188/188 [==============================] - 4s 19ms/step - loss: 0.2480 - accuracy: 0.9009 - val_loss: 0.3710 - val_accuracy: 0.8435\n",
      "Epoch 8/20\n",
      "188/188 [==============================] - 3s 19ms/step - loss: 0.2285 - accuracy: 0.9108 - val_loss: 0.3937 - val_accuracy: 0.8403\n",
      "Epoch 9/20\n",
      "188/188 [==============================] - 4s 19ms/step - loss: 0.2101 - accuracy: 0.9193 - val_loss: 0.4103 - val_accuracy: 0.8371\n",
      "Epoch 10/20\n",
      "188/188 [==============================] - 4s 19ms/step - loss: 0.1897 - accuracy: 0.9293 - val_loss: 0.4221 - val_accuracy: 0.8379\n",
      "Epoch 11/20\n",
      "188/188 [==============================] - 4s 20ms/step - loss: 0.1731 - accuracy: 0.9378 - val_loss: 0.4452 - val_accuracy: 0.8341\n",
      "Epoch 12/20\n",
      "188/188 [==============================] - 4s 19ms/step - loss: 0.1553 - accuracy: 0.9449 - val_loss: 0.4678 - val_accuracy: 0.8347\n",
      "Epoch 13/20\n",
      "188/188 [==============================] - 4s 19ms/step - loss: 0.1352 - accuracy: 0.9536 - val_loss: 0.5154 - val_accuracy: 0.8317\n",
      "Epoch 14/20\n",
      "188/188 [==============================] - 3s 19ms/step - loss: 0.1224 - accuracy: 0.9590 - val_loss: 0.5421 - val_accuracy: 0.8298\n",
      "Epoch 15/20\n",
      "188/188 [==============================] - 4s 19ms/step - loss: 0.1085 - accuracy: 0.9642 - val_loss: 0.5785 - val_accuracy: 0.8280\n",
      "Epoch 16/20\n",
      "188/188 [==============================] - 4s 19ms/step - loss: 0.0954 - accuracy: 0.9693 - val_loss: 0.6416 - val_accuracy: 0.8277\n",
      "Epoch 17/20\n",
      "188/188 [==============================] - 4s 19ms/step - loss: 0.0849 - accuracy: 0.9730 - val_loss: 0.6556 - val_accuracy: 0.8251\n",
      "Epoch 18/20\n",
      "188/188 [==============================] - 4s 19ms/step - loss: 0.0755 - accuracy: 0.9758 - val_loss: 0.7146 - val_accuracy: 0.8256\n",
      "Epoch 19/20\n",
      "188/188 [==============================] - 4s 19ms/step - loss: 0.0688 - accuracy: 0.9787 - val_loss: 0.7552 - val_accuracy: 0.8230\n",
      "Epoch 20/20\n",
      "188/188 [==============================] - 3s 18ms/step - loss: 0.0617 - accuracy: 0.9808 - val_loss: 0.8070 - val_accuracy: 0.8234\n"
     ]
    }
   ],
   "source": [
    "# 학습의 진행\n",
    "model.compile(optimizer='adam',\n",
    "              loss='binary_crossentropy',\n",
    "              metrics=['accuracy'])\n",
    "              \n",
    "epochs=20  # 몇 epoch를 훈련하면 좋을지 결과를 보면서 바꾸어 봅시다. \n",
    "\n",
    "history = model.fit(partial_X_train,\n",
    "                    partial_y_train,\n",
    "                    epochs=epochs,\n",
    "                    batch_size=512,\n",
    "                    validation_data=(X_val, y_val),\n",
    "                    verbose=1)"
   ]
  },
  {
   "cell_type": "code",
   "execution_count": 34,
   "metadata": {
    "scrolled": true
   },
   "outputs": [
    {
     "name": "stdout",
     "output_type": "stream",
     "text": [
      "1537/1537 - 3s - loss: 0.8246 - accuracy: 0.8195\n"
     ]
    }
   ],
   "source": [
    "results = model.evaluate(X_test,  y_test, verbose=2)"
   ]
  },
  {
   "cell_type": "code",
   "execution_count": 35,
   "metadata": {},
   "outputs": [],
   "source": [
    "history_dict = history.history"
   ]
  },
  {
   "cell_type": "code",
   "execution_count": 36,
   "metadata": {},
   "outputs": [
    {
     "data": {
      "image/png": "[encoded data removed]",
      "text/plain": [
       "<Figure size 432x288 with 1 Axes>"
      ]
     },
     "metadata": {
      "needs_background": "light"
     },
     "output_type": "display_data"
    }
   ],
   "source": [
    "import matplotlib.pyplot as plt\n",
    "\n",
    "acc = history_dict['accuracy']\n",
    "val_acc = history_dict['val_accuracy']\n",
    "loss = history_dict['loss']\n",
    "val_loss = history_dict['val_loss']\n",
    "\n",
    "epochs = range(1, len(acc) + 1)\n",
    "\n",
    "# \"bo\"는 \"파란색 점\"입니다\n",
    "plt.plot(epochs, loss, 'bo', label='Training loss')\n",
    "# b는 \"파란 실선\"입니다\n",
    "plt.plot(epochs, val_loss, 'b', label='Validation loss')\n",
    "plt.title('Training and validation loss')\n",
    "plt.xlabel('Epochs')\n",
    "plt.ylabel('Loss')\n",
    "plt.legend()\n",
    "\n",
    "plt.show()"
   ]
  }
 ],
 "metadata": {
  "kernelspec": {
   "display_name": "aiffel",
   "language": "python",
   "name": "aiffel"
  },
  "language_info": {
   "codemirror_mode": {
    "name": "ipython",
    "version": 3
   },
   "file_extension": ".py",
   "mimetype": "text/x-python",
   "name": "python",
   "nbconvert_exporter": "python",
   "pygments_lexer": "ipython3",
   "version": "3.7.9"
  }
 },
 "nbformat": 4,
 "nbformat_minor": 4
}
