{
 "cells": [
  {
   "cell_type": "markdown",
   "metadata": {},
   "source": [
    "# 함수로 코드짜기"
   ]
  },
  {
   "cell_type": "code",
   "execution_count": 1,
   "metadata": {},
   "outputs": [],
   "source": [
    "# 라이브러리\n",
    "import os\n",
    "import re\n",
    "import glob\n",
    "import numpy as np\n",
    "\n",
    "import tensorflow as tf\n",
    "from tensorflow import keras\n",
    "from tensorflow.keras.callbacks import LearningRateScheduler\n",
    "from sklearn.model_selection import train_test_split"
   ]
  },
  {
   "cell_type": "code",
   "execution_count": 2,
   "metadata": {},
   "outputs": [],
   "source": [
    "# seed 고정 함수\n",
    "def set_seed(seed):\n",
    "    tf.random.set_seed(seed)\n",
    "    np.random.seed(seed)"
   ]
  },
  {
   "cell_type": "code",
   "execution_count": 3,
   "metadata": {},
   "outputs": [],
   "source": [
    "# os.getenv('HOME')+'/aiffel//lyricist/data/lyrics/*'\n",
    "# 데이터 불러오기 함수\n",
    "def data_load(file_path):\n",
    "    \"\"\"\n",
    "    glob으로 받을 것이기 때문에 끝단에 디렉토리/* 로 설정\n",
    "    \"\"\"\n",
    "    \n",
    "    # 파일읠 경로를 받아서 glob으로 불러오기\n",
    "    txt_file_path = file_path\n",
    "    txt_list = glob.glob(txt_file_path)\n",
    "\n",
    "    # 코퍼스를 저장할 리스트 생성\n",
    "    raw_corpus = []\n",
    "\n",
    "    # 여러개의 txt 파일을 모두 읽어서 raw_corpus 에 담습니다.\n",
    "    # txt_list에는 text파일들의 개별 경로가 저장되어 있음\n",
    "    for txt_file in txt_list:\n",
    "        # 하나 씩 받아서 오픈\n",
    "        with open(txt_file, \"r\") as f:\n",
    "            # 텍스트 파일 전체를 읽어서 라인별로 저장\n",
    "            raw = f.read().splitlines()\n",
    "            # 코퍼스 리스트에 저장\n",
    "            raw_corpus.extend(raw)\n",
    "\n",
    "    print(\"데이터 크기:\", len(raw_corpus))\n",
    "    print(\"Examples:\\n\", raw_corpus[:3])\n",
    "    return raw_corpus"
   ]
  },
  {
   "cell_type": "code",
   "execution_count": 4,
   "metadata": {},
   "outputs": [],
   "source": [
    "# 데이터 전처리 함수\n",
    "# raw_corpus를 받아서 전처리된 corpus를 내보내줌\n",
    "def corpus_preprocessing(raw_corpus):\n",
    "    '''\n",
    "    raw_corpus를 넣어주면 전처리가 되어서 나온다\n",
    "    '''\n",
    "    # corpus 안에 문장을 전처리하는 함수\n",
    "    def preprocess_sentence(sentence):\n",
    "        sentence = sentence.lower().strip()       # 소문자로 바꾸고 양쪽 공백을 삭제\n",
    "        \n",
    "        # 아래 3단계를 거쳐 sentence는 스페이스 1개를 delimeter로 하는 소문자 단어 시퀀스로 바뀝니다.\n",
    "        sentence = re.sub(r\"([?.!,¿])\", r\" \\1 \", sentence)        # 패턴의 특수문자를 만나면 특수문자 양쪽에 공백을 추가\n",
    "        sentence = re.sub(r'[\" \"]+', \" \", sentence)                  # 공백 패턴을 만나면 스페이스 1개로 치환\n",
    "        sentence = re.sub(r\"[^a-zA-Z?.!,¿]+\", \" \", sentence)  # a-zA-Z?.!,¿ 패턴을 제외한 모든 문자(공백문자까지도)를 스페이스 1개로 치환\n",
    "\n",
    "        sentence = sentence.strip() # 양 끝단 공백 삭제\n",
    "\n",
    "        sentence = '<start> ' + sentence + ' <end>'      # 이전 스텝에서 본 것처럼 문장 앞뒤로 <start>와 <end>를 단어처럼 붙여 줍니다\n",
    "\n",
    "        return sentence\n",
    "    # 전처리 완료된 코퍼스를 받을 리스트 생성\n",
    "    preprocessed_corpus = []\n",
    "    # 코퍼스에서 문장을 하나씩 받아서\n",
    "    for sentence in raw_corpus:\n",
    "        # 문장이 없거나\n",
    "        if len(sentence) == 0: \n",
    "            continue\n",
    "        # 마지막이 : 로 끝나면 반복문을 넘어감\n",
    "        if sentence[-1] == \":\": \n",
    "            continue\n",
    "        # 문장을 전처리함수에 넣고 전처리된 corpus에 추가\n",
    "        preprocessed_corpus.append(preprocess_sentence(sentence))\n",
    "    \n",
    "    # 전처리 끝난 코퍼스 리턴\n",
    "    return preprocessed_corpus"
   ]
  },
  {
   "cell_type": "code",
   "execution_count": 5,
   "metadata": {},
   "outputs": [],
   "source": [
    "# 토크나이징 함수\n",
    "def tokenize(corpus):\n",
    "    # 텐서플로우에서 제공하는 Tokenizer 패키지를 생성\n",
    "    tokenizer = tf.keras.preprocessing.text.Tokenizer(\n",
    "        num_words=20000,  # 전체 단어의 개수 \n",
    "        filters=' ',    # 별도로 전처리 로직을 추가할 수 있습니다. 이번에는 사용하지 않겠습니다.\n",
    "        oov_token=\"<unk>\"  # out-of-vocabulary, 사전에 없었던 단어는 어떤 토큰으로 대체할지\n",
    "    )\n",
    "    tokenizer.fit_on_texts(corpus)   # 우리가 구축한 corpus로부터 Tokenizer가 사전을 자동구축하게 됩니다.\n",
    "\n",
    "    # 이후 tokenizer를 활용하여 모델에 입력할 데이터셋을 구축하게 됩니다.\n",
    "    tensor = tokenizer.texts_to_sequences(corpus)   # tokenizer는 구축한 사전으로부터 corpus를 해석해 Tensor로 변환합니다.\n",
    "\n",
    "    # 입력 데이터의 시퀀스 길이를 일정하게 맞추기 위한 padding  메소드를 제공합니다.\n",
    "    # maxlen의 디폴트값은 None입니다. 이 경우 corpus의 가장 긴 문장을 기준으로 시퀀스 길이가 맞춰집니다.\n",
    "    tensor = tf.keras.preprocessing.sequence.pad_sequences(tensor, padding='post', maxlen=14)  \n",
    "\n",
    "    print(tensor,'\\n',tokenizer)\n",
    "    return tensor, tokenizer"
   ]
  },
  {
   "cell_type": "code",
   "execution_count": 6,
   "metadata": {},
   "outputs": [],
   "source": [
    "# 데이터셋 분리 함수\n",
    "def split_dataset(data, test_size):\n",
    "    \"\"\"\n",
    "    학습을 위한 데이터셋 분리\n",
    "    \"\"\"\n",
    "    # source와 target을 분리\n",
    "    src_input = data[:, :-1]\n",
    "    tgt_input = data[:, 1:]\n",
    "    \n",
    "    # sklearn train_test_split 함수를 써서 분리 (X_train, X_test, Y_train, Y_test)\n",
    "    enc_train, enc_val, dec_train, dec_val = train_test_split(src_input, tgt_input, test_size=test_size, random_state=1234)\n",
    "    \n",
    "    # shape확인\n",
    "    print(enc_train.shape, enc_val.shape, dec_train.shape, dec_val.shape)\n",
    "    \n",
    "    return enc_train, enc_val, dec_train, dec_val"
   ]
  },
  {
   "cell_type": "code",
   "execution_count": 7,
   "metadata": {},
   "outputs": [],
   "source": [
    "# 하이퍼파라미터 셋팅 함수\n",
    "def hyper_params(BUFFER_SIZE, BATCH_SIZE, steps_per_epoch, VOCAB_SIZE, embedding_size, hidden_size, learning_rate, patience):\n",
    "    '''\n",
    "    0 : BUFFER_SIZE,\n",
    "    1 : BATCH_SIZE,\n",
    "    2 : steps_per_epoch,\n",
    "    3 : VOCAB_SIZE,\n",
    "    4 : embedding_size,\n",
    "    5 : hidden_size,\n",
    "    6 : learning_rate,\n",
    "    7 : patience\n",
    "    '''\n",
    "    # 하이퍼파라미터 셋팅\n",
    "    BUFFER_SIZE = BUFFER_SIZE\n",
    "    BATCH_SIZE = BATCH_SIZE\n",
    "    steps_per_epoch = steps_per_epoch\n",
    "    VOCAB_SIZE = VOCAB_SIZE\n",
    "    embedding_size = embedding_size\n",
    "    hidden_size = hidden_size\n",
    "    \n",
    "    return [BUFFER_SIZE, BATCH_SIZE, steps_per_epoch, VOCAB_SIZE, embedding_size, hidden_size, learning_rate, patience]"
   ]
  },
  {
   "cell_type": "code",
   "execution_count": 8,
   "metadata": {},
   "outputs": [],
   "source": [
    "# tf data 만들기 함수\n",
    "def make_tfdata(train, val, BUFFER_SIZE, BATCH_SIZE):\n",
    "    '''\n",
    "    train : (enc_train, dec_train)\n",
    "    val : (enc_val, dec_val)\n",
    "    '''\n",
    "    # train set\n",
    "    # from_tensor_slices로 tfdata를 만들고 shuffle로 섞고 batch로 batch_size 만큼 분리\n",
    "    train_dataset = tf.data.Dataset.from_tensor_slices((train[0], train[1])).shuffle(BUFFER_SIZE)\n",
    "    train_dataset = train_dataset.batch(BATCH_SIZE, drop_remainder=True)\n",
    "\n",
    "    # validation set\n",
    "    val_dataset = tf.data.Dataset.from_tensor_slices((val[0], val[1])).shuffle(BUFFER_SIZE)\n",
    "    val_dataset = val_dataset.batch(BATCH_SIZE, drop_remainder=True)\n",
    "    \n",
    "    return train_dataset, val_dataset"
   ]
  },
  {
   "cell_type": "code",
   "execution_count": 9,
   "metadata": {},
   "outputs": [],
   "source": [
    "# 모델\n",
    "class TextGenerator(tf.keras.Model):\n",
    "    def __init__(self, vocab_size, embedding_size, hidden_size):\n",
    "        super(TextGenerator, self).__init__()\n",
    "        # 필요한 레이어를 원하는 만큼 만든다\n",
    "        self.embedding = tf.keras.layers.Embedding(vocab_size, embedding_size)\n",
    "        self.rnn_1 = tf.keras.layers.LSTM(hidden_size, return_sequences=True, recurrent_initializer='glorot_uniform')\n",
    "        self.rnn_2 = tf.keras.layers.LSTM(hidden_size, return_sequences=True, recurrent_initializer='glorot_uniform')\n",
    "        self.linear = tf.keras.layers.Dense(vocab_size)\n",
    "        self.batchnorm_1 = tf.keras.layers.BatchNormalization()\n",
    "        self.batchnorm_2 = tf.keras.layers.BatchNormalization()\n",
    "        self.dropout = tf.keras.layers.Dropout(0.2)\n",
    "        \n",
    "    def call(self, x):\n",
    "        # 그리고 쌓는다\n",
    "        out = self.embedding(x)\n",
    "        out = self.rnn_1(out)\n",
    "        out = self.batchnorm_1(out)\n",
    "        out = self.rnn_2(out)\n",
    "        out = self.batchnorm_2(out)\n",
    "        out = self.dropout(out)\n",
    "        out = self.linear(out)\n",
    "        \n",
    "        return out"
   ]
  },
  {
   "cell_type": "code",
   "execution_count": 10,
   "metadata": {},
   "outputs": [],
   "source": [
    "# 에포크마다 학습률을 약 10%씩 감소시켜보자\n",
    "def simple_learning_rate_decay(epoch, lr):\n",
    "    return lr * np.exp(-0.1)"
   ]
  },
  {
   "cell_type": "code",
   "execution_count": 11,
   "metadata": {},
   "outputs": [],
   "source": [
    "def train(train_dataset, val_dataset, hyper_params):\n",
    "    # 콜백함수 등 선언\n",
    "    # 러닝레이트 스케쥴러\n",
    "    lr_scheduler = LearningRateScheduler(simple_learning_rate_decay)\n",
    "    # 옵티마이저\n",
    "    optimizer = tf.keras.optimizers.Adam(learning_rate=hyper_params[6])\n",
    "    # 로스\n",
    "    loss = tf.keras.losses.SparseCategoricalCrossentropy(\n",
    "        from_logits=True, reduction='none')\n",
    "    # 얼리스탑\n",
    "    early_stopping = keras.callbacks.EarlyStopping(monitor=\"val_loss\", patience=hyper_params[7])\n",
    "    \n",
    "    model = TextGenerator(hyper_params[3], hyper_params[4] , hyper_params[5])\n",
    "    model.compile(loss=loss, optimizer=optimizer)\n",
    "    model.fit(train_dataset, epochs=30, validation_data=val_dataset, callbacks=[lr_scheduler, early_stopping])\n",
    "    return model"
   ]
  },
  {
   "cell_type": "code",
   "execution_count": 12,
   "metadata": {},
   "outputs": [],
   "source": [
    "# text생성 테스트\n",
    "def generate_text(model, tokenizer, init_sentence=\"<start>\", max_len=20):\n",
    "    # 테스트를 위해서 입력받은 init_sentence도 일단 텐서로 변환합니다.\n",
    "    test_input = tokenizer.texts_to_sequences([init_sentence])\n",
    "    test_tensor = tf.convert_to_tensor(test_input, dtype=tf.int64)\n",
    "    end_token = tokenizer.word_index[\"<end>\"]\n",
    "\n",
    "    # 텍스트를 실제로 생성할때는 루프를 돌면서 단어 하나씩 생성해야 합니다. \n",
    "    while True:\n",
    "        predict = model(test_tensor)  # 입력받은 문장의 텐서를 입력합니다. \n",
    "        predict_word = tf.argmax(tf.nn.softmax(predict, axis=-1), axis=-1)[:, -1]   # 우리 모델이 예측한 마지막 단어가 바로 새롭게 생성한 단어가 됩니다. \n",
    "\n",
    "        # 우리 모델이 새롭게 예측한 단어를 입력 문장의 뒤에 붙여 줍니다. \n",
    "        test_tensor = tf.concat([test_tensor, tf.expand_dims(predict_word, axis=0)], axis=-1)\n",
    "\n",
    "        # 우리 모델이 <END>를 예측했거나, max_len에 도달하지 않았다면  while 루프를 또 돌면서 다음 단어를 예측해야 합니다.\n",
    "        if predict_word.numpy()[0] == end_token: break\n",
    "        if test_tensor.shape[1] >= max_len: break\n",
    "\n",
    "    generated = \"\"\n",
    "    # 생성된 tensor 안에 있는 word index를 tokenizer.index_word 사전을 통해 실제 단어로 하나씩 변환합니다. \n",
    "    for word_index in test_tensor[0].numpy():\n",
    "        generated += tokenizer.index_word[word_index] + \" \"\n",
    "\n",
    "    return generated   # 이것이 최종적으로 모델이 생성한 자연어 문장입니다."
   ]
  },
  {
   "cell_type": "code",
   "execution_count": 13,
   "metadata": {},
   "outputs": [],
   "source": [
    "# 데이터 불러오기부터 학습까지 통째로 함수로 만들기\n",
    "def main():\n",
    "    print(\"작사가 인공지능 만들기 시작\")\n",
    "    data_path = os.getenv('HOME')+'/aiffel//lyricist/data/lyrics/*'\n",
    "    # 코퍼스 만들기\n",
    "    raw_corpus = data_load(data_path)\n",
    "    # 코퍼스 전처리\n",
    "    preprocessed_corpus = corpus_preprocessing(raw_corpus)\n",
    "    # data와 tokenizer 분리\n",
    "    data, tokenizer = tokenize(preprocessed_corpus)\n",
    "    # dataset분리\n",
    "    enc_train, enc_val, dec_train, dec_val = split_dataset(data, 0.2)\n",
    "    # 하이퍼파라미터 셋팅 shift + tab으로 인자보면서 넣어줌\n",
    "    params = hyper_params(len(enc_train), 256, len(enc_train) // 256, tokenizer.num_words + 1, 512, 1024, 0.001, 7)\n",
    "    # tf data만들기\n",
    "    train_dataset, val_dataset = make_tfdata((enc_train, dec_train), (enc_val, dec_val), params[0], params[1])\n",
    "    # model 학습\n",
    "    print(\"... 모델 학습중\")\n",
    "    train_model = train(train_dataset,val_dataset, params)\n",
    "    print(\"... 학습 끝\")\n",
    "    return train_model, tokenizer"
   ]
  },
  {
   "cell_type": "code",
   "execution_count": 14,
   "metadata": {
    "scrolled": true
   },
   "outputs": [
    {
     "name": "stdout",
     "output_type": "stream",
     "text": [
      "작사가 인공지능 만들기 시작\n",
      "데이터 크기: 187088\n",
      "Examples:\n",
      " ['Looking for some education', 'Made my way into the night', 'All that bullshit conversation']\n",
      "[[   2  304   28 ...    0    0    0]\n",
      " [   2  221   13 ...    0    0    0]\n",
      " [   2   24   17 ...    0    0    0]\n",
      " ...\n",
      " [   2   48   16 ...    0    0    0]\n",
      " [   9 2883   14 ...  264   19    3]\n",
      " [   2    6  179 ...    0    0    0]] \n",
      " <keras_preprocessing.text.Tokenizer object at 0x7f5ea261d390>\n",
      "(140599, 13) (35150, 13) (140599, 13) (35150, 13)\n",
      "... 모델 학습중\n",
      "Epoch 1/30\n",
      "549/549 [==============================] - 122s 223ms/step - loss: 3.4019 - val_loss: 3.3837 - lr: 9.0484e-04\n",
      "Epoch 2/30\n",
      "549/549 [==============================] - 123s 225ms/step - loss: 2.7922 - val_loss: 2.7683 - lr: 8.1873e-04\n",
      "Epoch 3/30\n",
      "549/549 [==============================] - 125s 228ms/step - loss: 2.4155 - val_loss: 2.6357 - lr: 7.4082e-04\n",
      "Epoch 4/30\n",
      "549/549 [==============================] - 122s 223ms/step - loss: 2.1242 - val_loss: 2.5580 - lr: 6.7032e-04\n",
      "Epoch 5/30\n",
      "549/549 [==============================] - 117s 213ms/step - loss: 1.8969 - val_loss: 2.5319 - lr: 6.0653e-04\n",
      "Epoch 6/30\n",
      "549/549 [==============================] - 120s 219ms/step - loss: 1.7194 - val_loss: 2.5229 - lr: 5.4881e-04\n",
      "Epoch 7/30\n",
      "549/549 [==============================] - 120s 219ms/step - loss: 1.5807 - val_loss: 2.5208 - lr: 4.9659e-04\n",
      "Epoch 8/30\n",
      "549/549 [==============================] - 120s 218ms/step - loss: 1.4674 - val_loss: 2.5350 - lr: 4.4933e-04\n",
      "Epoch 9/30\n",
      "549/549 [==============================] - 122s 223ms/step - loss: 1.3765 - val_loss: 2.5531 - lr: 4.0657e-04\n",
      "Epoch 10/30\n",
      "549/549 [==============================] - 128s 234ms/step - loss: 1.3022 - val_loss: 2.5856 - lr: 3.6788e-04\n",
      "Epoch 11/30\n",
      "549/549 [==============================] - 127s 232ms/step - loss: 1.2401 - val_loss: 2.6142 - lr: 3.3287e-04\n",
      "Epoch 12/30\n",
      "549/549 [==============================] - 123s 224ms/step - loss: 1.1896 - val_loss: 2.6335 - lr: 3.0119e-04\n",
      "Epoch 13/30\n",
      "549/549 [==============================] - 122s 222ms/step - loss: 1.1471 - val_loss: 2.6645 - lr: 2.7253e-04\n",
      "Epoch 14/30\n",
      "549/549 [==============================] - 124s 226ms/step - loss: 1.1108 - val_loss: 2.6910 - lr: 2.4660e-04\n",
      "... 학습 끝\n"
     ]
    },
    {
     "data": {
      "text/plain": [
       "<__main__.TextGenerator at 0x7f5ea35cec10>"
      ]
     },
     "execution_count": 14,
     "metadata": {},
     "output_type": "execute_result"
    }
   ],
   "source": [
    "set_seed(1234)\n",
    "# 빠르게 오버피팅되는데 TextGenerator에서 모델 구조와 hyper_params 함수를 수정하고\n",
    "# main() 을 실행하면 쉽게 재실험을 해볼 수 있음\n",
    "train_model, tokenizer = main()"
   ]
  },
  {
   "cell_type": "code",
   "execution_count": null,
   "metadata": {},
   "outputs": [],
   "source": [
    "# 테스트\n",
    "generate_text(train_model, tokenizer, init_sentence=\"<start> he\")"
   ]
  }
 ],
 "metadata": {
  "kernelspec": {
   "display_name": "aiffel",
   "language": "python",
   "name": "aiffel"
  },
  "language_info": {
   "codemirror_mode": {
    "name": "ipython",
    "version": 3
   },
   "file_extension": ".py",
   "mimetype": "text/x-python",
   "name": "python",
   "nbconvert_exporter": "python",
   "pygments_lexer": "ipython3",
   "version": "3.7.9"
  }
 },
 "nbformat": 4,
 "nbformat_minor": 4
}
