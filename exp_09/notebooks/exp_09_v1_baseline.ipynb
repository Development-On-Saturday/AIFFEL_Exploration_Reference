{
 "cells": [
  {
   "cell_type": "code",
   "execution_count": 2,
   "metadata": {},
   "outputs": [],
   "source": [
    "import os\n",
    "import warnings\n",
    "import pandas as pd\n",
    "import numpy as np\n",
    "import lightgbm as lgb\n",
    "from sklearn.ensemble import RandomForestRegressor\n",
    "\n",
    "warnings.filterwarnings('ignore')"
   ]
  },
  {
   "cell_type": "code",
   "execution_count": 3,
   "metadata": {},
   "outputs": [],
   "source": [
    "# 데이터 불러오기\n",
    "total_data_path = os.path.join('data','preprocessed_data.csv')\n",
    "y_path = os.path.join('data','label.csv')\n",
    "sub_path = os.path.join('data','sample_submission.csv')\n",
    "\n",
    "total_data = pd.read_csv(total_data_path)\n",
    "y = pd.read_csv(y_path)\n",
    "submission = pd.read_csv(sub_path)"
   ]
  },
  {
   "cell_type": "code",
   "execution_count": 4,
   "metadata": {},
   "outputs": [
    {
     "data": {
      "text/plain": [
       "15035"
      ]
     },
     "execution_count": 4,
     "metadata": {},
     "output_type": "execute_result"
    }
   ],
   "source": [
    "len(y)"
   ]
  },
  {
   "cell_type": "code",
   "execution_count": 5,
   "metadata": {},
   "outputs": [],
   "source": [
    "# train test 분리\n",
    "train = total_data.loc[:len(y)-1]\n",
    "test = total_data.loc[len(y):].reset_index(drop=True)"
   ]
  },
  {
   "cell_type": "code",
   "execution_count": 6,
   "metadata": {},
   "outputs": [],
   "source": [
    "# 원본 보존\n",
    "train2 = train.copy()\n",
    "test2 = test.copy()"
   ]
  },
  {
   "cell_type": "code",
   "execution_count": 7,
   "metadata": {},
   "outputs": [],
   "source": [
    "# 원 핫 사용할 컬럼\n",
    "cols = ['bedrooms','bathrooms','floors','waterfront','view','condition','grade']"
   ]
  },
  {
   "cell_type": "code",
   "execution_count": 8,
   "metadata": {},
   "outputs": [],
   "source": [
    "train2 = pd.get_dummies(train2, columns=cols)\n",
    "test2 = pd.get_dummies(test2, columns=cols)"
   ]
  },
  {
   "cell_type": "code",
   "execution_count": 9,
   "metadata": {},
   "outputs": [
    {
     "data": {
      "text/plain": [
       "{'bathrooms_7.5', 'bathrooms_7.75', 'bathrooms_8.0', 'grade_1'}"
      ]
     },
     "execution_count": 9,
     "metadata": {},
     "output_type": "execute_result"
    }
   ],
   "source": [
    "set(train2.columns)  - set(test2.columns)"
   ]
  },
  {
   "cell_type": "code",
   "execution_count": 10,
   "metadata": {},
   "outputs": [
    {
     "data": {
      "text/plain": [
       "{'bathrooms_6.5', 'bedrooms_11', 'bedrooms_33'}"
      ]
     },
     "execution_count": 10,
     "metadata": {},
     "output_type": "execute_result"
    }
   ],
   "source": [
    "set(test2.columns)  - set(train2.columns)"
   ]
  },
  {
   "cell_type": "code",
   "execution_count": 11,
   "metadata": {},
   "outputs": [],
   "source": [
    "# 컬럼 맞춰주기\n",
    "train2['bathrooms_6.5'] = np.zeros(train2.shape[0],)\n",
    "train2['bedrooms_11'] = np.zeros(train2.shape[0],)\n",
    "train2['bedrooms_33'] = np.zeros(train2.shape[0],)"
   ]
  },
  {
   "cell_type": "code",
   "execution_count": 12,
   "metadata": {},
   "outputs": [],
   "source": [
    "test2['bathrooms_7.5'] = np.zeros(test2.shape[0],)\n",
    "test2['bathrooms_7.75'] = np.zeros(test2.shape[0],)\n",
    "test2['bathrooms_8.0'] = np.zeros(test2.shape[0],)\n",
    "test2['grade_1'] = np.zeros(test2.shape[0],)"
   ]
  },
  {
   "cell_type": "markdown",
   "metadata": {},
   "source": [
    "# Model"
   ]
  },
  {
   "cell_type": "code",
   "execution_count": 13,
   "metadata": {},
   "outputs": [],
   "source": [
    "seed = 123"
   ]
  },
  {
   "cell_type": "code",
   "execution_count": 14,
   "metadata": {},
   "outputs": [],
   "source": [
    "params ={\n",
    "    \"random_state\" : seed,\n",
    "    \"n_estimators\" : 400\n",
    "}"
   ]
  },
  {
   "cell_type": "markdown",
   "metadata": {},
   "source": [
    "## 랜덤포레스트로 간단한 모델만들기\n",
    "\\+ bagging을 하여 30개 모델을 앙상블하여 구현함  \n",
    "\\+ AIFFEL 1차 hackaton 1등 당시 썼던 테크닉  \n",
    "\\+ lightgbm같은 모델을 사용하고 파라미터 튜닝도하면 성능도 더 잘나옴"
   ]
  },
  {
   "cell_type": "code",
   "execution_count": 15,
   "metadata": {},
   "outputs": [],
   "source": [
    "# Ensemble \n",
    "bagging_predict = [] # 예측 값 array 저장을 위한 리스트\n",
    "for _ in range(30): # iteration 30회 - 30회는 임의로 정한 숫자\n",
    "    data_index = [idx  for idx in range(train2.shape[0])] # 전체 데이터의 인덱스를 추출한 리스트\n",
    "    random_index = np.random.choice(data_index, train2.shape[0]) # 복원추출 적용\n",
    "    rf = RandomForestRegressor(**params)\n",
    "    rf.fit(train2.iloc[random_index,], y.iloc[random_index,])\n",
    "    \n",
    "    predict = rf.predict(test2) # prediction\n",
    "    bagging_predict.append(predict) # 예측 값 array 저장"
   ]
  },
  {
   "cell_type": "code",
   "execution_count": 18,
   "metadata": {},
   "outputs": [],
   "source": [
    "prediction = [] # 예측 값 리스트\n",
    "for idx2 in range(test2.shape[0]): # test의 index 만큼 iteration\n",
    "    temp = []\n",
    "    # 각 array line by line 으로 평균 내어 prediction에 저장\n",
    "    for idx in range(len(bagging_predict)): \n",
    "        temp.append(bagging_predict[idx][idx2])\n",
    "    prediction.append(np.mean(temp))"
   ]
  },
  {
   "cell_type": "code",
   "execution_count": 21,
   "metadata": {},
   "outputs": [],
   "source": [
    "submission[\"price\"] = prediction"
   ]
  },
  {
   "cell_type": "code",
   "execution_count": 22,
   "metadata": {},
   "outputs": [],
   "source": [
    "submission.to_csv(\"submission_baseline.csv\", index=False)"
   ]
  }
 ],
 "metadata": {
  "kernelspec": {
   "display_name": "Python 3",
   "language": "python",
   "name": "python3"
  },
  "language_info": {
   "codemirror_mode": {
    "name": "ipython",
    "version": 3
   },
   "file_extension": ".py",
   "mimetype": "text/x-python",
   "name": "python",
   "nbconvert_exporter": "python",
   "pygments_lexer": "ipython3",
   "version": "3.8.5"
  }
 },
 "nbformat": 4,
 "nbformat_minor": 4
}
