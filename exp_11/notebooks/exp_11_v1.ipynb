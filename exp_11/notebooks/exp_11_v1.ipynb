{
 "cells": [
  {
   "cell_type": "markdown",
   "metadata": {},
   "source": [
    "# 데이터 준비\n",
    "- 기사의 본문에 해당되는 text, headline 두 가지 열로 구성되어 있다.\n",
    "- 추출적 요약에는 text열만 사용"
   ]
  },
  {
   "cell_type": "code",
   "execution_count": 1,
   "metadata": {},
   "outputs": [
    {
     "name": "stderr",
     "output_type": "stream",
     "text": [
      "[nltk_data] Downloading package stopwords to\n",
      "[nltk_data]     /home/aiffel0042/nltk_data...\n",
      "[nltk_data]   Package stopwords is already up-to-date!\n"
     ]
    }
   ],
   "source": [
    "import nltk\n",
    "nltk.download('stopwords')\n",
    "\n",
    "import numpy as np\n",
    "import pandas as pd\n",
    "import os\n",
    "import re\n",
    "import matplotlib.pyplot as plt\n",
    "from nltk.corpus import stopwords\n",
    "from bs4 import BeautifulSoup \n",
    "from tensorflow.keras.preprocessing.text import Tokenizer \n",
    "from tensorflow.keras.preprocessing.sequence import pad_sequences\n",
    "import urllib.request"
   ]
  },
  {
   "cell_type": "code",
   "execution_count": 2,
   "metadata": {},
   "outputs": [],
   "source": [
    "import urllib.request\n",
    "urllib.request.urlretrieve(\"https://raw.githubusercontent.com/sunnysai12345/News_Summary/master/news_summary_more.csv\", filename=\"news_summary_more.csv\")\n",
    "data = pd.read_csv('news_summary_more.csv', encoding='iso-8859-1')"
   ]
  },
  {
   "cell_type": "code",
   "execution_count": 3,
   "metadata": {},
   "outputs": [
    {
     "data": {
      "text/html": [
       "<div>\n",
       "<style scoped>\n",
       "    .dataframe tbody tr th:only-of-type {\n",
       "        vertical-align: middle;\n",
       "    }\n",
       "\n",
       "    .dataframe tbody tr th {\n",
       "        vertical-align: top;\n",
       "    }\n",
       "\n",
       "    .dataframe thead th {\n",
       "        text-align: right;\n",
       "    }\n",
       "</style>\n",
       "<table border=\"1\" class=\"dataframe\">\n",
       "  <thead>\n",
       "    <tr style=\"text-align: right;\">\n",
       "      <th></th>\n",
       "      <th>headlines</th>\n",
       "      <th>text</th>\n",
       "    </tr>\n",
       "  </thead>\n",
       "  <tbody>\n",
       "    <tr>\n",
       "      <th>7126</th>\n",
       "      <td>Gambhir receives guard of honour during Delhi'...</td>\n",
       "      <td>After announcing his retirement from cricket, ...</td>\n",
       "    </tr>\n",
       "    <tr>\n",
       "      <th>91481</th>\n",
       "      <td>Weakening of Parliament holding back India, sa...</td>\n",
       "      <td>Bajaj Group Chairman Rahul Bajaj on Thursday s...</td>\n",
       "    </tr>\n",
       "    <tr>\n",
       "      <th>49163</th>\n",
       "      <td>Catfights on 'Veere Di Wedding' sets is a myth...</td>\n",
       "      <td>Responding to rumours of a catfight 'Veere Di ...</td>\n",
       "    </tr>\n",
       "    <tr>\n",
       "      <th>17143</th>\n",
       "      <td>Man poses as Army officer to enter India-US dr...</td>\n",
       "      <td>A man from Uttar Pradesh posing as an Army off...</td>\n",
       "    </tr>\n",
       "    <tr>\n",
       "      <th>55615</th>\n",
       "      <td>Our tiger is zinda too: Sena on fewer Marathi ...</td>\n",
       "      <td>Shiv Sena MP Sanjay Raut, while objecting to '...</td>\n",
       "    </tr>\n",
       "    <tr>\n",
       "      <th>83153</th>\n",
       "      <td>Want Salman for cameo role in my film with Aan...</td>\n",
       "      <td>Actor Shah Rukh Khan has said that he would li...</td>\n",
       "    </tr>\n",
       "    <tr>\n",
       "      <th>44497</th>\n",
       "      <td>You were in nappies when I debuted, Waugh once...</td>\n",
       "      <td>Indian wicketkeeper Parthiv Patel sledged form...</td>\n",
       "    </tr>\n",
       "    <tr>\n",
       "      <th>64131</th>\n",
       "      <td>Manikchand Group Chairman RM Dhariwal passes a...</td>\n",
       "      <td>Gutkha baron and Chairman of Manikchand Group ...</td>\n",
       "    </tr>\n",
       "    <tr>\n",
       "      <th>23400</th>\n",
       "      <td>Alia Bhatt shares second Instagram picture cli...</td>\n",
       "      <td>Alia Bhatt has shared a photograph clicked by ...</td>\n",
       "    </tr>\n",
       "    <tr>\n",
       "      <th>57737</th>\n",
       "      <td>Hyperloop One Co-founder takes leave of absence</td>\n",
       "      <td>Co-founder of Virgin Hyperloop One and Sherpa ...</td>\n",
       "    </tr>\n",
       "  </tbody>\n",
       "</table>\n",
       "</div>"
      ],
      "text/plain": [
       "                                               headlines  \\\n",
       "7126   Gambhir receives guard of honour during Delhi'...   \n",
       "91481  Weakening of Parliament holding back India, sa...   \n",
       "49163  Catfights on 'Veere Di Wedding' sets is a myth...   \n",
       "17143  Man poses as Army officer to enter India-US dr...   \n",
       "55615  Our tiger is zinda too: Sena on fewer Marathi ...   \n",
       "83153  Want Salman for cameo role in my film with Aan...   \n",
       "44497  You were in nappies when I debuted, Waugh once...   \n",
       "64131  Manikchand Group Chairman RM Dhariwal passes a...   \n",
       "23400  Alia Bhatt shares second Instagram picture cli...   \n",
       "57737    Hyperloop One Co-founder takes leave of absence   \n",
       "\n",
       "                                                    text  \n",
       "7126   After announcing his retirement from cricket, ...  \n",
       "91481  Bajaj Group Chairman Rahul Bajaj on Thursday s...  \n",
       "49163  Responding to rumours of a catfight 'Veere Di ...  \n",
       "17143  A man from Uttar Pradesh posing as an Army off...  \n",
       "55615  Shiv Sena MP Sanjay Raut, while objecting to '...  \n",
       "83153  Actor Shah Rukh Khan has said that he would li...  \n",
       "44497  Indian wicketkeeper Parthiv Patel sledged form...  \n",
       "64131  Gutkha baron and Chairman of Manikchand Group ...  \n",
       "23400  Alia Bhatt has shared a photograph clicked by ...  \n",
       "57737  Co-founder of Virgin Hyperloop One and Sherpa ...  "
      ]
     },
     "execution_count": 3,
     "metadata": {},
     "output_type": "execute_result"
    }
   ],
   "source": [
    "data.sample(10)"
   ]
  },
  {
   "cell_type": "markdown",
   "metadata": {},
   "source": [
    "# 데이터 전처리"
   ]
  },
  {
   "cell_type": "markdown",
   "metadata": {},
   "source": [
    "## 중복제거\n",
    "- 처리 후 샘플의 수를 확인해보면 중복된 데이터가 없다."
   ]
  },
  {
   "cell_type": "code",
   "execution_count": 4,
   "metadata": {},
   "outputs": [
    {
     "name": "stdout",
     "output_type": "stream",
     "text": [
      "text 열에서 중복을 배제한 유일한 샘플의 수 : 98360\n",
      "text 열에서 중복을 배제한 유일한 샘플의 수 : 98280\n"
     ]
    }
   ],
   "source": [
    "print('text 열에서 중복을 배제한 유일한 샘플의 수 :', data['text'].nunique())\n",
    "print('text 열에서 중복을 배제한 유일한 샘플의 수 :', data['headlines'].nunique())"
   ]
  },
  {
   "cell_type": "code",
   "execution_count": 5,
   "metadata": {},
   "outputs": [
    {
     "name": "stdout",
     "output_type": "stream",
     "text": [
      "전체 샘플수 : 98360\n"
     ]
    }
   ],
   "source": [
    "data.drop_duplicates(subset = ['text'], inplace = True)\n",
    "print('전체 샘플수 :',(len(data)))"
   ]
  },
  {
   "cell_type": "markdown",
   "metadata": {},
   "source": [
    "## nulll값 제거\n",
    "- null값이 없다"
   ]
  },
  {
   "cell_type": "code",
   "execution_count": 6,
   "metadata": {},
   "outputs": [
    {
     "name": "stdout",
     "output_type": "stream",
     "text": [
      "headlines    0\n",
      "text         0\n",
      "dtype: int64\n"
     ]
    }
   ],
   "source": [
    "print(data.isnull().sum())"
   ]
  },
  {
   "cell_type": "markdown",
   "metadata": {},
   "source": [
    "## 불용어 제거\n",
    "- 길이가 짧은 요약 데이터에 대해서도 불용어 제거를 할 것인가?"
   ]
  },
  {
   "cell_type": "code",
   "execution_count": 7,
   "metadata": {},
   "outputs": [
    {
     "name": "stdout",
     "output_type": "stream",
     "text": [
      "정규화 사전의 수:  120\n"
     ]
    }
   ],
   "source": [
    "contractions = {\"ain't\": \"is not\", \"aren't\": \"are not\",\"can't\": \"cannot\", \"'cause\": \"because\", \"could've\": \"could have\", \"couldn't\": \"could not\",\n",
    "                           \"didn't\": \"did not\",  \"doesn't\": \"does not\", \"don't\": \"do not\", \"hadn't\": \"had not\", \"hasn't\": \"has not\", \"haven't\": \"have not\",\n",
    "                           \"he'd\": \"he would\",\"he'll\": \"he will\", \"he's\": \"he is\", \"how'd\": \"how did\", \"how'd'y\": \"how do you\", \"how'll\": \"how will\", \"how's\": \"how is\",\n",
    "                           \"I'd\": \"I would\", \"I'd've\": \"I would have\", \"I'll\": \"I will\", \"I'll've\": \"I will have\",\"I'm\": \"I am\", \"I've\": \"I have\", \"i'd\": \"i would\",\n",
    "                           \"i'd've\": \"i would have\", \"i'll\": \"i will\",  \"i'll've\": \"i will have\",\"i'm\": \"i am\", \"i've\": \"i have\", \"isn't\": \"is not\", \"it'd\": \"it would\",\n",
    "                           \"it'd've\": \"it would have\", \"it'll\": \"it will\", \"it'll've\": \"it will have\",\"it's\": \"it is\", \"let's\": \"let us\", \"ma'am\": \"madam\",\n",
    "                           \"mayn't\": \"may not\", \"might've\": \"might have\",\"mightn't\": \"might not\",\"mightn't've\": \"might not have\", \"must've\": \"must have\",\n",
    "                           \"mustn't\": \"must not\", \"mustn't've\": \"must not have\", \"needn't\": \"need not\", \"needn't've\": \"need not have\",\"o'clock\": \"of the clock\",\n",
    "                           \"oughtn't\": \"ought not\", \"oughtn't've\": \"ought not have\", \"shan't\": \"shall not\", \"sha'n't\": \"shall not\", \"shan't've\": \"shall not have\",\n",
    "                           \"she'd\": \"she would\", \"she'd've\": \"she would have\", \"she'll\": \"she will\", \"she'll've\": \"she will have\", \"she's\": \"she is\",\n",
    "                           \"should've\": \"should have\", \"shouldn't\": \"should not\", \"shouldn't've\": \"should not have\", \"so've\": \"so have\",\"so's\": \"so as\",\n",
    "                           \"this's\": \"this is\",\"that'd\": \"that would\", \"that'd've\": \"that would have\", \"that's\": \"that is\", \"there'd\": \"there would\",\n",
    "                           \"there'd've\": \"there would have\", \"there's\": \"there is\", \"here's\": \"here is\",\"they'd\": \"they would\", \"they'd've\": \"they would have\",\n",
    "                           \"they'll\": \"they will\", \"they'll've\": \"they will have\", \"they're\": \"they are\", \"they've\": \"they have\", \"to've\": \"to have\",\n",
    "                           \"wasn't\": \"was not\", \"we'd\": \"we would\", \"we'd've\": \"we would have\", \"we'll\": \"we will\", \"we'll've\": \"we will have\", \"we're\": \"we are\",\n",
    "                           \"we've\": \"we have\", \"weren't\": \"were not\", \"what'll\": \"what will\", \"what'll've\": \"what will have\", \"what're\": \"what are\",\n",
    "                           \"what's\": \"what is\", \"what've\": \"what have\", \"when's\": \"when is\", \"when've\": \"when have\", \"where'd\": \"where did\", \"where's\": \"where is\",\n",
    "                           \"where've\": \"where have\", \"who'll\": \"who will\", \"who'll've\": \"who will have\", \"who's\": \"who is\", \"who've\": \"who have\",\n",
    "                           \"why's\": \"why is\", \"why've\": \"why have\", \"will've\": \"will have\", \"won't\": \"will not\", \"won't've\": \"will not have\",\n",
    "                           \"would've\": \"would have\", \"wouldn't\": \"would not\", \"wouldn't've\": \"would not have\", \"y'all\": \"you all\",\n",
    "                           \"y'all'd\": \"you all would\",\"y'all'd've\": \"you all would have\",\"y'all're\": \"you all are\",\"y'all've\": \"you all have\",\n",
    "                           \"you'd\": \"you would\", \"you'd've\": \"you would have\", \"you'll\": \"you will\", \"you'll've\": \"you will have\",\n",
    "                           \"you're\": \"you are\", \"you've\": \"you have\"}\n",
    "\n",
    "print(\"정규화 사전의 수: \",len(contractions))"
   ]
  },
  {
   "cell_type": "code",
   "execution_count": 8,
   "metadata": {},
   "outputs": [
    {
     "name": "stdout",
     "output_type": "stream",
     "text": [
      "불용어 개수 : 179\n",
      "['i', 'me', 'my', 'myself', 'we', 'our', 'ours', 'ourselves', 'you', \"you're\", \"you've\", \"you'll\", \"you'd\", 'your', 'yours', 'yourself', 'yourselves', 'he', 'him', 'his', 'himself', 'she', \"she's\", 'her', 'hers', 'herself', 'it', \"it's\", 'its', 'itself', 'they', 'them', 'their', 'theirs', 'themselves', 'what', 'which', 'who', 'whom', 'this', 'that', \"that'll\", 'these', 'those', 'am', 'is', 'are', 'was', 'were', 'be', 'been', 'being', 'have', 'has', 'had', 'having', 'do', 'does', 'did', 'doing', 'a', 'an', 'the', 'and', 'but', 'if', 'or', 'because', 'as', 'until', 'while', 'of', 'at', 'by', 'for', 'with', 'about', 'against', 'between', 'into', 'through', 'during', 'before', 'after', 'above', 'below', 'to', 'from', 'up', 'down', 'in', 'out', 'on', 'off', 'over', 'under', 'again', 'further', 'then', 'once', 'here', 'there', 'when', 'where', 'why', 'how', 'all', 'any', 'both', 'each', 'few', 'more', 'most', 'other', 'some', 'such', 'no', 'nor', 'not', 'only', 'own', 'same', 'so', 'than', 'too', 'very', 's', 't', 'can', 'will', 'just', 'don', \"don't\", 'should', \"should've\", 'now', 'd', 'll', 'm', 'o', 're', 've', 'y', 'ain', 'aren', \"aren't\", 'couldn', \"couldn't\", 'didn', \"didn't\", 'doesn', \"doesn't\", 'hadn', \"hadn't\", 'hasn', \"hasn't\", 'haven', \"haven't\", 'isn', \"isn't\", 'ma', 'mightn', \"mightn't\", 'mustn', \"mustn't\", 'needn', \"needn't\", 'shan', \"shan't\", 'shouldn', \"shouldn't\", 'wasn', \"wasn't\", 'weren', \"weren't\", 'won', \"won't\", 'wouldn', \"wouldn't\"]\n"
     ]
    }
   ],
   "source": [
    "print('불용어 개수 :', len(stopwords.words('english') ))\n",
    "print(stopwords.words('english'))"
   ]
  },
  {
   "cell_type": "markdown",
   "metadata": {},
   "source": [
    "### 기사들의 길이를 확인\n",
    "- 기사들을 띄어쓰기 단위로 나눠서 단어의 갯수들, ```split()```한 리스트의 길이들을 ```length```에 저장한다\n",
    "- 각 기사의 띄어쓰기 포함, 단순히 string의 길이만 담은 ```str_length```\n",
    "- ```np.unique()```로 길이들의 고유한 값을 출력해보았다.\n",
    "- 불용어 처리는 ```length```리스트를 기준으로 44 이하의 길이만 불용어제거를 한다."
   ]
  },
  {
   "cell_type": "code",
   "execution_count": 9,
   "metadata": {},
   "outputs": [],
   "source": [
    "from tqdm.notebook import tqdm"
   ]
  },
  {
   "cell_type": "code",
   "execution_count": 10,
   "metadata": {},
   "outputs": [
    {
     "data": {
      "application/vnd.jupyter.widget-view+json": {
       "model_id": "eacc1db1aba64caa9e5891be95c510e2",
       "version_major": 2,
       "version_minor": 0
      },
      "text/plain": [
       "HBox(children=(HTML(value=''), FloatProgress(value=0.0, max=98360.0), HTML(value='')))"
      ]
     },
     "metadata": {},
     "output_type": "display_data"
    },
    {
     "name": "stdout",
     "output_type": "stream",
     "text": [
      "\n"
     ]
    },
    {
     "data": {
      "application/vnd.jupyter.widget-view+json": {
       "model_id": "2584223518af4d96b9912e5d98352f61",
       "version_major": 2,
       "version_minor": 0
      },
      "text/plain": [
       "HBox(children=(HTML(value=''), FloatProgress(value=0.0, max=98360.0), HTML(value='')))"
      ]
     },
     "metadata": {},
     "output_type": "display_data"
    },
    {
     "name": "stdout",
     "output_type": "stream",
     "text": [
      "\n"
     ]
    }
   ],
   "source": [
    "length = [len(x.split()) for x in tqdm(data['text'].values)]\n",
    "str_length = [len(x) for x in tqdm(data['text'].values)]"
   ]
  },
  {
   "cell_type": "code",
   "execution_count": 11,
   "metadata": {},
   "outputs": [
    {
     "data": {
      "text/plain": [
       "array([ 1, 38, 40, 41, 42, 43, 44, 45, 46, 47, 48, 49, 50, 51, 52, 53, 54,\n",
       "       55, 56, 57, 58, 59, 60, 61, 62, 63, 64, 65, 66, 91])"
      ]
     },
     "execution_count": 11,
     "metadata": {},
     "output_type": "execute_result"
    }
   ],
   "source": [
    "np.unique(length)"
   ]
  },
  {
   "cell_type": "code",
   "execution_count": 12,
   "metadata": {},
   "outputs": [
    {
     "data": {
      "text/plain": [
       "array([  4, 245, 249, 261, 265, 266, 268, 271, 272, 273, 274, 276, 277,\n",
       "       278, 280, 281, 282, 283, 284, 285, 286, 287, 288, 289, 290, 291,\n",
       "       292, 293, 294, 295, 296, 297, 298, 299, 300, 301, 302, 303, 304,\n",
       "       305, 306, 307, 308, 309, 310, 311, 312, 313, 314, 315, 316, 317,\n",
       "       318, 319, 320, 321, 322, 323, 324, 325, 326, 327, 328, 329, 330,\n",
       "       331, 332, 333, 334, 335, 336, 337, 338, 339, 340, 341, 342, 343,\n",
       "       344, 345, 346, 347, 348, 349, 350, 351, 352, 353, 354, 355, 356,\n",
       "       357, 358, 359, 360, 361, 362, 363, 364, 365, 366, 367, 368, 369,\n",
       "       370, 371, 372, 373, 374, 375, 376, 377, 378, 379, 380, 381, 382,\n",
       "       383, 384, 385, 386, 387, 388, 389, 390, 391, 392, 393, 394, 395,\n",
       "       396, 397, 398, 399, 400, 401, 402, 403, 404, 405, 406, 407, 408,\n",
       "       409, 410, 411, 412, 413, 414, 415, 416, 417, 418, 419, 420, 421,\n",
       "       422, 423, 424, 425, 427, 428, 429, 430, 431, 432, 433, 434, 438,\n",
       "       439, 442, 444, 459, 513])"
      ]
     },
     "execution_count": 12,
     "metadata": {},
     "output_type": "execute_result"
    }
   ],
   "source": [
    "np.unique(str_length)"
   ]
  },
  {
   "cell_type": "code",
   "execution_count": 13,
   "metadata": {},
   "outputs": [
    {
     "data": {
      "application/vnd.jupyter.widget-view+json": {
       "model_id": "5272930c91f24cbea657ee8eef74617d",
       "version_major": 2,
       "version_minor": 0
      },
      "text/plain": [
       "HBox(children=(HTML(value=''), FloatProgress(value=0.0, max=98360.0), HTML(value='')))"
      ]
     },
     "metadata": {},
     "output_type": "display_data"
    },
    {
     "name": "stdout",
     "output_type": "stream",
     "text": [
      "\n"
     ]
    },
    {
     "data": {
      "application/vnd.jupyter.widget-view+json": {
       "model_id": "d534e73652b0408091e093025af63a38",
       "version_major": 2,
       "version_minor": 0
      },
      "text/plain": [
       "HBox(children=(HTML(value=''), FloatProgress(value=0.0, max=98360.0), HTML(value='')))"
      ]
     },
     "metadata": {},
     "output_type": "display_data"
    },
    {
     "name": "stdout",
     "output_type": "stream",
     "text": [
      "\n"
     ]
    }
   ],
   "source": [
    "head_length = [len(x.split()) for x in tqdm(data['headlines'].values)]\n",
    "head_str_length = [len(x) for x in tqdm(data['headlines'].values)]"
   ]
  },
  {
   "cell_type": "code",
   "execution_count": 14,
   "metadata": {},
   "outputs": [
    {
     "data": {
      "text/plain": [
       "array([ 1,  3,  4,  5,  6,  7,  8,  9, 10, 11, 12, 13, 14, 15, 16, 18])"
      ]
     },
     "execution_count": 14,
     "metadata": {},
     "output_type": "execute_result"
    }
   ],
   "source": [
    "np.unique(head_length)"
   ]
  },
  {
   "cell_type": "code",
   "execution_count": 15,
   "metadata": {},
   "outputs": [
    {
     "data": {
      "text/plain": [
       "array([ 9, 30, 31, 32, 33, 34, 35, 36, 37, 38, 39, 40, 41, 42, 43, 44, 45,\n",
       "       46, 47, 48, 49, 50, 51, 52, 53, 54, 55, 56, 57, 58, 59, 60, 61, 62,\n",
       "       63, 64, 65, 66, 67, 68, 69, 70, 71, 72, 73, 74, 75, 76, 77, 78, 79,\n",
       "       80, 82, 83, 84, 86])"
      ]
     },
     "execution_count": 15,
     "metadata": {},
     "output_type": "execute_result"
    }
   ],
   "source": [
    "np.unique(head_str_length)"
   ]
  },
  {
   "cell_type": "markdown",
   "metadata": {},
   "source": [
    "## 텍스트 전처리"
   ]
  },
  {
   "cell_type": "code",
   "execution_count": 16,
   "metadata": {},
   "outputs": [],
   "source": [
    "#데이터 전처리 함수\n",
    "def preprocess_sentence(sentence, remove_stopwords=True):\n",
    "    sentence = sentence.lower() # 텍스트 소문자화\n",
    "    sentence = BeautifulSoup(sentence, \"lxml\").text # <br />, <a href = ...> 등의 html 태그 제거\n",
    "    sentence = re.sub(r'\\([^)]*\\)', '', sentence) # 괄호로 닫힌 문자열 (...) 제거 Ex) my husband (and myself!) for => my husband for\n",
    "    sentence = re.sub('\"','', sentence) # 쌍따옴표 \" 제거\n",
    "    sentence = ' '.join([contractions[t] if t in contractions else t for t in sentence.split(\" \")]) # 약어 정규화\n",
    "    sentence = re.sub(r\"'s\\b\",\"\",sentence) # 소유격 제거. Ex) roland's -> roland\n",
    "    sentence = re.sub(\"[^a-zA-Z]\", \" \", sentence) # 영어 외 문자(숫자, 특수문자 등) 공백으로 변환\n",
    "    sentence = re.sub('[m]{2,}', 'mm', sentence) # m이 3개 이상이면 2개로 변경. Ex) ummmmmmm yeah -> umm yeah\n",
    "    \n",
    "    # 불용어 제거 (Text)\n",
    "    if remove_stopwords :\n",
    "        if len(sentence.split()) > 44 :\n",
    "            tokens = ' '.join(word for word in sentence.split() if not word in stopwords.words('english')if len(word) > 1)\n",
    "        else :\n",
    "            tokens = ' '.join(word for word in sentence.split() if len(word) > 1)\n",
    "    # headlines의 경우 불용어제거를 수행하지 않음\n",
    "    else :\n",
    "        tokens = ' '.join(word for word in sentence.split() if len(word) > 1)\n",
    "\n",
    "    return tokens"
   ]
  },
  {
   "cell_type": "code",
   "execution_count": 17,
   "metadata": {},
   "outputs": [
    {
     "data": {
      "application/vnd.jupyter.widget-view+json": {
       "model_id": "426270e61b0a44b5b5b868cb448b6936",
       "version_major": 2,
       "version_minor": 0
      },
      "text/plain": [
       "HBox(children=(HTML(value=''), FloatProgress(value=0.0, max=98360.0), HTML(value='')))"
      ]
     },
     "metadata": {},
     "output_type": "display_data"
    },
    {
     "name": "stdout",
     "output_type": "stream",
     "text": [
      "\n"
     ]
    },
    {
     "data": {
      "text/plain": [
       "['saurav kant alumnus upgrad iiit pg program machine learning artificial intelligence sr systems engineer infosys almost years work experience program upgrad degree career support helped transition data scientist tech mahindra salary hike upgrad online power learning powered lakh careers',\n",
       " 'kunal shah credit card bill payment platform cred gave users chance win free food swiggy one year pranav kaushik delhi techie bagged reward spending cred coins users get one cred coin per rupee bill paid used avail rewards brands like ixigo bookmyshow ubereats cult fit',\n",
       " 'new zealand defeated india wickets fourth odi hamilton thursday win first match five match odi series india lost international match rohit sharma captaincy consecutive victories dating back march match witnessed india getting seventh lowest total odi cricket history',\n",
       " 'aegon life iterm insurance plan customers enjoy tax benefits premiums paid save taxes plan provides life cover age years also customers options insure critical illnesses disability accidental death benefit rider life cover age years',\n",
       " 'speaking sexual harassment allegations rajkumar hirani sonam kapoor said known hirani many years true metoo movement get derailed metoo movement always believe woman case need reserve judgment added hirani accused assistant worked sanju']"
      ]
     },
     "execution_count": 17,
     "metadata": {},
     "output_type": "execute_result"
    }
   ],
   "source": [
    "clean_text = []\n",
    "\n",
    "# 전체 Text 데이터에 대한 전처리 : 10분 이상 시간이 걸릴 수 있습니다. \n",
    "for s in tqdm(data['text']):\n",
    "    clean_text.append(preprocess_sentence(s))\n",
    "\n",
    "# 전처리 후 출력\n",
    "clean_text[:5]"
   ]
  },
  {
   "cell_type": "code",
   "execution_count": 18,
   "metadata": {},
   "outputs": [
    {
     "data": {
      "application/vnd.jupyter.widget-view+json": {
       "model_id": "96eb5104d4a04c44a87c8e62c601c657",
       "version_major": 2,
       "version_minor": 0
      },
      "text/plain": [
       "HBox(children=(HTML(value=''), FloatProgress(value=0.0, max=98360.0), HTML(value='')))"
      ]
     },
     "metadata": {},
     "output_type": "display_data"
    },
    {
     "name": "stdout",
     "output_type": "stream",
     "text": [
      "\n"
     ]
    },
    {
     "data": {
      "text/plain": [
       "['upgrad learner switches to career in ml al with salary hike',\n",
       " 'delhi techie wins free food from swiggy for one year on cred',\n",
       " 'new zealand end rohit sharma led india match winning streak',\n",
       " 'aegon life iterm insurance plan helps customers save tax',\n",
       " 'have known hirani for yrs what if metoo claims are not true sonam']"
      ]
     },
     "execution_count": 18,
     "metadata": {},
     "output_type": "execute_result"
    }
   ],
   "source": [
    "clean_headlines = []\n",
    "\n",
    "# 전체 Summary 데이터에 대한 전처리 : 5분 이상 시간이 걸릴 수 있습니다. \n",
    "for s in tqdm(data['headlines']):\n",
    "    clean_headlines.append(preprocess_sentence(s, False))\n",
    "\n",
    "clean_headlines[:5]"
   ]
  },
  {
   "cell_type": "code",
   "execution_count": 19,
   "metadata": {},
   "outputs": [
    {
     "data": {
      "text/plain": [
       "headlines    0\n",
       "text         0\n",
       "dtype: int64"
      ]
     },
     "execution_count": 19,
     "metadata": {},
     "output_type": "execute_result"
    }
   ],
   "source": [
    "data.isnull().sum()"
   ]
  },
  {
   "cell_type": "markdown",
   "metadata": {},
   "source": [
    "# 데이터 나누기"
   ]
  },
  {
   "cell_type": "markdown",
   "metadata": {},
   "source": [
    "### 샘플의 최대 길이 정하기"
   ]
  },
  {
   "cell_type": "code",
   "execution_count": 20,
   "metadata": {},
   "outputs": [
    {
     "name": "stdout",
     "output_type": "stream",
     "text": [
      "텍스트의 최소 길이 : 1\n",
      "텍스트의 최대 길이 : 91\n",
      "텍스트의 평균 길이 : 58.23813542090281\n",
      "요약의 최소 길이 : 1\n",
      "요약의 최대 길이 : 18\n",
      "요약의 평균 길이 : 9.553660024400163\n"
     ]
    },
    {
     "data": {
      "image/png": "[encoded data removed]",
      "text/plain": [
       "<Figure size 432x288 with 2 Axes>"
      ]
     },
     "metadata": {
      "needs_background": "light"
     },
     "output_type": "display_data"
    },
    {
     "data": {
      "image/png": "[encoded data removed]",
      "text/plain": [
       "<Figure size 432x288 with 1 Axes>"
      ]
     },
     "metadata": {
      "needs_background": "light"
     },
     "output_type": "display_data"
    },
    {
     "data": {
      "image/png": "[encoded data removed]",
      "text/plain": [
       "<Figure size 432x288 with 1 Axes>"
      ]
     },
     "metadata": {
      "needs_background": "light"
     },
     "output_type": "display_data"
    }
   ],
   "source": [
    "# 길이 분포 출력\n",
    "import matplotlib.pyplot as plt\n",
    "\n",
    "text_len = [len(s.split()) for s in data['text']]\n",
    "headline_len = [len(s.split()) for s in data['headlines']]\n",
    "\n",
    "print('텍스트의 최소 길이 : {}'.format(np.min(text_len)))\n",
    "print('텍스트의 최대 길이 : {}'.format(np.max(text_len)))\n",
    "print('텍스트의 평균 길이 : {}'.format(np.mean(text_len)))\n",
    "print('요약의 최소 길이 : {}'.format(np.min(headline_len)))\n",
    "print('요약의 최대 길이 : {}'.format(np.max(headline_len)))\n",
    "print('요약의 평균 길이 : {}'.format(np.mean(headline_len)))\n",
    "\n",
    "plt.subplot(1,2,1)\n",
    "plt.boxplot(headline_len)\n",
    "plt.title('Headlines')\n",
    "plt.subplot(1,2,2)\n",
    "plt.boxplot(text_len)\n",
    "plt.title('Text')\n",
    "plt.tight_layout()\n",
    "plt.show()\n",
    "\n",
    "plt.title('Summary')\n",
    "plt.hist(headline_len, bins = 40)\n",
    "plt.xlabel('length of samples')\n",
    "plt.ylabel('number of samples')\n",
    "plt.show()\n",
    "\n",
    "plt.title('Text')\n",
    "plt.hist(text_len, bins = 40)\n",
    "plt.xlabel('length of samples')\n",
    "plt.ylabel('number of samples')\n",
    "plt.show()"
   ]
  },
  {
   "cell_type": "code",
   "execution_count": 21,
   "metadata": {},
   "outputs": [],
   "source": [
    "text_max_len = 60\n",
    "summary_max_len = 12"
   ]
  },
  {
   "cell_type": "code",
   "execution_count": 22,
   "metadata": {},
   "outputs": [],
   "source": [
    "def below_threshold_len(max_len, nested_list):\n",
    "  cnt = 0\n",
    "  for s in nested_list:\n",
    "    if(len(s.split()) <= max_len):\n",
    "        cnt = cnt + 1\n",
    "  print('전체 샘플 중 길이가 %s 이하인 샘플의 비율: %s'%(max_len, (cnt / len(nested_list))))"
   ]
  },
  {
   "cell_type": "code",
   "execution_count": 23,
   "metadata": {},
   "outputs": [
    {
     "name": "stdout",
     "output_type": "stream",
     "text": [
      "전체 샘플 중 길이가 60 이하인 샘플의 비율: 0.997448149654331\n",
      "전체 샘플 중 길이가 12 이하인 샘플의 비율: 0.9768198454656364\n"
     ]
    }
   ],
   "source": [
    "below_threshold_len(text_max_len, data['text'])\n",
    "below_threshold_len(summary_max_len,  data['headlines'])"
   ]
  },
  {
   "cell_type": "code",
   "execution_count": 24,
   "metadata": {},
   "outputs": [
    {
     "name": "stdout",
     "output_type": "stream",
     "text": [
      "전체 샘플수 : 95838\n"
     ]
    }
   ],
   "source": [
    "data = data[data['text'].apply(lambda x: len(x.split()) <= text_max_len)]\n",
    "data = data[data['headlines'].apply(lambda x: len(x.split()) <= summary_max_len)]\n",
    "print('전체 샘플수 :',(len(data)))"
   ]
  },
  {
   "cell_type": "markdown",
   "metadata": {},
   "source": [
    "### 시작 토큰과 종료 토큰 추가하기"
   ]
  },
  {
   "cell_type": "code",
   "execution_count": 25,
   "metadata": {},
   "outputs": [
    {
     "data": {
      "text/html": [
       "<div>\n",
       "<style scoped>\n",
       "    .dataframe tbody tr th:only-of-type {\n",
       "        vertical-align: middle;\n",
       "    }\n",
       "\n",
       "    .dataframe tbody tr th {\n",
       "        vertical-align: top;\n",
       "    }\n",
       "\n",
       "    .dataframe thead th {\n",
       "        text-align: right;\n",
       "    }\n",
       "</style>\n",
       "<table border=\"1\" class=\"dataframe\">\n",
       "  <thead>\n",
       "    <tr style=\"text-align: right;\">\n",
       "      <th></th>\n",
       "      <th>headlines</th>\n",
       "      <th>text</th>\n",
       "      <th>decoder_input</th>\n",
       "      <th>decoder_target</th>\n",
       "    </tr>\n",
       "  </thead>\n",
       "  <tbody>\n",
       "    <tr>\n",
       "      <th>1</th>\n",
       "      <td>Delhi techie wins free food from Swiggy for on...</td>\n",
       "      <td>Kunal Shah's credit card bill payment platform...</td>\n",
       "      <td>sostoken Delhi techie wins free food from Swig...</td>\n",
       "      <td>Delhi techie wins free food from Swiggy for on...</td>\n",
       "    </tr>\n",
       "    <tr>\n",
       "      <th>2</th>\n",
       "      <td>New Zealand end Rohit Sharma-led India's 12-ma...</td>\n",
       "      <td>New Zealand defeated India by 8 wickets in the...</td>\n",
       "      <td>sostoken New Zealand end Rohit Sharma-led Indi...</td>\n",
       "      <td>New Zealand end Rohit Sharma-led India's 12-ma...</td>\n",
       "    </tr>\n",
       "    <tr>\n",
       "      <th>3</th>\n",
       "      <td>Aegon life iTerm insurance plan helps customer...</td>\n",
       "      <td>With Aegon Life iTerm Insurance plan, customer...</td>\n",
       "      <td>sostoken Aegon life iTerm insurance plan helps...</td>\n",
       "      <td>Aegon life iTerm insurance plan helps customer...</td>\n",
       "    </tr>\n",
       "    <tr>\n",
       "      <th>5</th>\n",
       "      <td>Rahat Fateh Ali Khan denies getting notice for...</td>\n",
       "      <td>Pakistani singer Rahat Fateh Ali Khan has deni...</td>\n",
       "      <td>sostoken Rahat Fateh Ali Khan denies getting n...</td>\n",
       "      <td>Rahat Fateh Ali Khan denies getting notice for...</td>\n",
       "    </tr>\n",
       "    <tr>\n",
       "      <th>7</th>\n",
       "      <td>Govt directs Alok Verma to join work 1 day bef...</td>\n",
       "      <td>Weeks after ex-CBI Director Alok Verma told th...</td>\n",
       "      <td>sostoken Govt directs Alok Verma to join work ...</td>\n",
       "      <td>Govt directs Alok Verma to join work 1 day bef...</td>\n",
       "    </tr>\n",
       "  </tbody>\n",
       "</table>\n",
       "</div>"
      ],
      "text/plain": [
       "                                           headlines  \\\n",
       "1  Delhi techie wins free food from Swiggy for on...   \n",
       "2  New Zealand end Rohit Sharma-led India's 12-ma...   \n",
       "3  Aegon life iTerm insurance plan helps customer...   \n",
       "5  Rahat Fateh Ali Khan denies getting notice for...   \n",
       "7  Govt directs Alok Verma to join work 1 day bef...   \n",
       "\n",
       "                                                text  \\\n",
       "1  Kunal Shah's credit card bill payment platform...   \n",
       "2  New Zealand defeated India by 8 wickets in the...   \n",
       "3  With Aegon Life iTerm Insurance plan, customer...   \n",
       "5  Pakistani singer Rahat Fateh Ali Khan has deni...   \n",
       "7  Weeks after ex-CBI Director Alok Verma told th...   \n",
       "\n",
       "                                       decoder_input  \\\n",
       "1  sostoken Delhi techie wins free food from Swig...   \n",
       "2  sostoken New Zealand end Rohit Sharma-led Indi...   \n",
       "3  sostoken Aegon life iTerm insurance plan helps...   \n",
       "5  sostoken Rahat Fateh Ali Khan denies getting n...   \n",
       "7  sostoken Govt directs Alok Verma to join work ...   \n",
       "\n",
       "                                      decoder_target  \n",
       "1  Delhi techie wins free food from Swiggy for on...  \n",
       "2  New Zealand end Rohit Sharma-led India's 12-ma...  \n",
       "3  Aegon life iTerm insurance plan helps customer...  \n",
       "5  Rahat Fateh Ali Khan denies getting notice for...  \n",
       "7  Govt directs Alok Verma to join work 1 day bef...  "
      ]
     },
     "execution_count": 25,
     "metadata": {},
     "output_type": "execute_result"
    }
   ],
   "source": [
    "#요약 데이터에는 시작 토큰과 종료 토큰을 추가한다.\n",
    "data['decoder_input'] = data['headlines'].apply(lambda x : 'sostoken '+ x)\n",
    "data['decoder_target'] = data['headlines'].apply(lambda x : x + ' eostoken')\n",
    "data.head()"
   ]
  },
  {
   "cell_type": "code",
   "execution_count": 26,
   "metadata": {},
   "outputs": [],
   "source": [
    "encoder_input = np.array(data['text']) # 인코더의 입력\n",
    "decoder_input = np.array(data['decoder_input']) # 디코더의 입력\n",
    "decoder_target = np.array(data['decoder_target']) # 디코더의 레이블"
   ]
  },
  {
   "cell_type": "code",
   "execution_count": 27,
   "metadata": {},
   "outputs": [
    {
     "name": "stdout",
     "output_type": "stream",
     "text": [
      "[28499 61640  9677 ... 11612 30685 63406]\n"
     ]
    }
   ],
   "source": [
    "indices = np.arange(encoder_input.shape[0])\n",
    "np.random.shuffle(indices)\n",
    "print(indices)"
   ]
  },
  {
   "cell_type": "code",
   "execution_count": 28,
   "metadata": {},
   "outputs": [],
   "source": [
    "encoder_input = encoder_input[indices]\n",
    "decoder_input = decoder_input[indices]\n",
    "decoder_target = decoder_target[indices]"
   ]
  },
  {
   "cell_type": "code",
   "execution_count": 29,
   "metadata": {},
   "outputs": [
    {
     "name": "stdout",
     "output_type": "stream",
     "text": [
      "테스트 데이터의 수 : 19167\n"
     ]
    }
   ],
   "source": [
    "n_of_val = int(len(encoder_input)*0.2)\n",
    "print('테스트 데이터의 수 :',n_of_val)"
   ]
  },
  {
   "cell_type": "code",
   "execution_count": 30,
   "metadata": {},
   "outputs": [
    {
     "name": "stdout",
     "output_type": "stream",
     "text": [
      "훈련 데이터의 개수 : 76671\n",
      "훈련 레이블의 개수 : 76671\n",
      "테스트 데이터의 개수 : 19167\n",
      "테스트 레이블의 개수 : 19167\n"
     ]
    }
   ],
   "source": [
    "encoder_input_train = encoder_input[:-n_of_val]\n",
    "decoder_input_train = decoder_input[:-n_of_val]\n",
    "decoder_target_train = decoder_target[:-n_of_val]\n",
    "\n",
    "encoder_input_test = encoder_input[-n_of_val:]\n",
    "decoder_input_test = decoder_input[-n_of_val:]\n",
    "decoder_target_test = decoder_target[-n_of_val:]\n",
    "\n",
    "print('훈련 데이터의 개수 :', len(encoder_input_train))\n",
    "print('훈련 레이블의 개수 :',len(decoder_input_train))\n",
    "print('테스트 데이터의 개수 :',len(encoder_input_test))\n",
    "print('테스트 레이블의 개수 :',len(decoder_input_test))"
   ]
  },
  {
   "cell_type": "markdown",
   "metadata": {},
   "source": [
    "## 정수 인코딩"
   ]
  },
  {
   "cell_type": "markdown",
   "metadata": {},
   "source": [
    "### 단어 집합 만들기 및 정수 인코딩"
   ]
  },
  {
   "cell_type": "markdown",
   "metadata": {},
   "source": [
    "#### 훈련데이터 토크나이징"
   ]
  },
  {
   "cell_type": "code",
   "execution_count": 31,
   "metadata": {},
   "outputs": [],
   "source": [
    "src_tokenizer = Tokenizer() # 토크나이저 정의\n",
    "src_tokenizer.fit_on_texts(encoder_input_train) # 입력된 데이터로부터 단어 집합 생성"
   ]
  },
  {
   "cell_type": "code",
   "execution_count": 32,
   "metadata": {},
   "outputs": [
    {
     "name": "stdout",
     "output_type": "stream",
     "text": [
      "단어 집합(vocabulary)의 크기 : 90382\n",
      "등장 빈도가 6번 이하인 희귀 단어의 수: 65885\n",
      "단어 집합에서 희귀 단어를 제외시킬 경우의 단어 집합의 크기 24497\n",
      "단어 집합에서 희귀 단어의 비율: 72.8961518886504\n",
      "전체 등장 빈도에서 희귀 단어 등장 빈도 비율: 2.774991795308997\n"
     ]
    }
   ],
   "source": [
    "threshold = 7\n",
    "total_cnt = len(src_tokenizer.word_index) # 단어의 수\n",
    "rare_cnt = 0 # 등장 빈도수가 threshold보다 작은 단어의 개수를 카운트\n",
    "total_freq = 0 # 훈련 데이터의 전체 단어 빈도수 총 합\n",
    "rare_freq = 0 # 등장 빈도수가 threshold보다 작은 단어의 등장 빈도수의 총 합\n",
    "\n",
    "# 단어와 빈도수의 쌍(pair)을 key와 value로 받는다.\n",
    "for key, value in src_tokenizer.word_counts.items():\n",
    "    total_freq = total_freq + value\n",
    "\n",
    "    # 단어의 등장 빈도수가 threshold보다 작으면\n",
    "    if(value < threshold):\n",
    "        rare_cnt = rare_cnt + 1\n",
    "        rare_freq = rare_freq + value\n",
    "\n",
    "print('단어 집합(vocabulary)의 크기 :',total_cnt)\n",
    "print('등장 빈도가 %s번 이하인 희귀 단어의 수: %s'%(threshold - 1, rare_cnt))\n",
    "print('단어 집합에서 희귀 단어를 제외시킬 경우의 단어 집합의 크기 %s'%(total_cnt - rare_cnt))\n",
    "print(\"단어 집합에서 희귀 단어의 비율:\", (rare_cnt / total_cnt)*100)\n",
    "print(\"전체 등장 빈도에서 희귀 단어 등장 빈도 비율:\", (rare_freq / total_freq)*100)"
   ]
  },
  {
   "cell_type": "code",
   "execution_count": 33,
   "metadata": {},
   "outputs": [],
   "source": [
    "src_vocab = 24000\n",
    "src_tokenizer = Tokenizer(num_words = src_vocab) # 단어 집합의 크기를 8,000으로 제한\n",
    "src_tokenizer.fit_on_texts(encoder_input_train) # 단어 집합 재생성."
   ]
  },
  {
   "cell_type": "code",
   "execution_count": 34,
   "metadata": {},
   "outputs": [
    {
     "name": "stdout",
     "output_type": "stream",
     "text": [
      "[[19, 1, 342, 872, 16598, 12355, 6, 398, 2, 1264, 398, 1546, 19, 3, 1784, 1999, 95, 60, 285, 247, 10, 109, 189, 124, 1075, 2, 5444, 873, 5, 17308, 2371, 2, 1, 482, 398, 1435, 1075, 4366, 18118, 10701, 1, 693, 1928, 8750, 1, 7030, 858, 2, 5444, 873, 15, 13916, 1, 7031, 505, 244, 7107, 14, 140], [39, 23, 1639, 1, 1261, 5, 400, 9861, 551, 4891, 1460, 7, 2304, 9862, 4, 1959, 1, 9862, 6094, 327, 729, 4, 84, 73, 13, 1, 115, 193, 5094, 15410, 7385, 2, 4891, 2304, 1, 1460, 1444, 2, 19016, 18119, 3954, 6, 2304, 7, 3, 551, 822], [3, 720, 207, 631, 2993, 3035, 12, 3492, 4, 24, 11166, 5240, 1140, 15411, 2657, 4, 4703, 7, 159, 4, 3, 1681, 236, 3, 5907, 12, 191, 4, 24, 2061, 16, 207, 656, 4, 1, 1857, 19017, 329, 1, 1516, 377, 3, 104, 501, 5, 1, 48, 2612, 5, 2686, 9, 1, 392, 283, 7, 121]]\n"
     ]
    }
   ],
   "source": [
    "# 텍스트 시퀀스를 정수 시퀀스로 변환\n",
    "encoder_input_train = src_tokenizer.texts_to_sequences(encoder_input_train) \n",
    "encoder_input_test = src_tokenizer.texts_to_sequences(encoder_input_test)\n",
    "\n",
    "#잘 진행되었는지 샘플 출력\n",
    "print(encoder_input_train[:3])"
   ]
  },
  {
   "cell_type": "markdown",
   "metadata": {},
   "source": [
    "#### headline데이터에 대해서도 토큰화 진행"
   ]
  },
  {
   "cell_type": "code",
   "execution_count": 35,
   "metadata": {},
   "outputs": [],
   "source": [
    "tar_tokenizer = Tokenizer()\n",
    "tar_tokenizer.fit_on_texts(decoder_input_train)"
   ]
  },
  {
   "cell_type": "code",
   "execution_count": 36,
   "metadata": {},
   "outputs": [
    {
     "name": "stdout",
     "output_type": "stream",
     "text": [
      "단어 집합(vocabulary)의 크기 : 40412\n",
      "등장 빈도가 5번 이하인 희귀 단어의 수: 29253\n",
      "단어 집합에서 희귀 단어를 제외시킬 경우의 단어 집합의 크기 11159\n",
      "단어 집합에서 희귀 단어의 비율: 72.38691477778877\n",
      "전체 등장 빈도에서 희귀 단어 등장 빈도 비율: 6.3324679365635\n"
     ]
    }
   ],
   "source": [
    "threshold = 6\n",
    "total_cnt = len(tar_tokenizer.word_index) # 단어의 수\n",
    "rare_cnt = 0 # 등장 빈도수가 threshold보다 작은 단어의 개수를 카운트\n",
    "total_freq = 0 # 훈련 데이터의 전체 단어 빈도수 총 합\n",
    "rare_freq = 0 # 등장 빈도수가 threshold보다 작은 단어의 등장 빈도수의 총 합\n",
    "\n",
    "# 단어와 빈도수의 쌍(pair)을 key와 value로 받는다.\n",
    "for key, value in tar_tokenizer.word_counts.items():\n",
    "    total_freq = total_freq + value\n",
    "\n",
    "    # 단어의 등장 빈도수가 threshold보다 작으면\n",
    "    if(value < threshold):\n",
    "        rare_cnt = rare_cnt + 1\n",
    "        rare_freq = rare_freq + value\n",
    "\n",
    "print('단어 집합(vocabulary)의 크기 :',total_cnt)\n",
    "print('등장 빈도가 %s번 이하인 희귀 단어의 수: %s'%(threshold - 1, rare_cnt))\n",
    "print('단어 집합에서 희귀 단어를 제외시킬 경우의 단어 집합의 크기 %s'%(total_cnt - rare_cnt))\n",
    "print(\"단어 집합에서 희귀 단어의 비율:\", (rare_cnt / total_cnt)*100)\n",
    "print(\"전체 등장 빈도에서 희귀 단어 등장 빈도 비율:\", (rare_freq / total_freq)*100)"
   ]
  },
  {
   "cell_type": "code",
   "execution_count": 37,
   "metadata": {},
   "outputs": [
    {
     "name": "stdout",
     "output_type": "stream",
     "text": [
      "input\n",
      "input  [[1, 23, 927, 1379, 6, 2306, 4, 2619, 1025, 88], [1, 12, 3, 993, 192, 634, 6412, 1436, 4, 1655], [1, 34, 1350, 1701, 34, 3912, 75, 69, 175, 4249, 243], [1, 551, 477, 48, 535, 477, 408, 7, 570, 4250, 168, 254], [1, 473, 4401, 515, 132, 5, 2620, 255, 64, 2224]]\n",
      "target\n",
      "decoder  [[23, 927, 1379, 6, 2306, 4, 2619, 1025, 88, 2], [12, 3, 993, 192, 634, 6412, 1436, 4, 1655, 2], [34, 1350, 1701, 34, 3912, 75, 69, 175, 4249, 243, 2], [551, 477, 48, 535, 477, 408, 7, 570, 4250, 168, 254, 2], [473, 4401, 515, 132, 5, 2620, 255, 64, 2224, 2]]\n"
     ]
    }
   ],
   "source": [
    "tar_vocab = 11000\n",
    "tar_tokenizer = Tokenizer(num_words = tar_vocab) \n",
    "tar_tokenizer.fit_on_texts(decoder_input_train)\n",
    "tar_tokenizer.fit_on_texts(decoder_target_train)\n",
    "\n",
    "# 텍스트 시퀀스를 정수 시퀀스로 변환\n",
    "decoder_input_train = tar_tokenizer.texts_to_sequences(decoder_input_train) \n",
    "decoder_target_train = tar_tokenizer.texts_to_sequences(decoder_target_train)\n",
    "decoder_input_test = tar_tokenizer.texts_to_sequences(decoder_input_test)\n",
    "decoder_target_test = tar_tokenizer.texts_to_sequences(decoder_target_test)\n",
    "\n",
    "#잘 변환되었는지 확인\n",
    "print('input')\n",
    "print('input ',decoder_input_train[:5])\n",
    "print('target')\n",
    "print('decoder ',decoder_target_train[:5])"
   ]
  },
  {
   "cell_type": "markdown",
   "metadata": {},
   "source": [
    "#### 데이터 정제"
   ]
  },
  {
   "cell_type": "code",
   "execution_count": 38,
   "metadata": {},
   "outputs": [
    {
     "name": "stdout",
     "output_type": "stream",
     "text": [
      "삭제할 훈련 데이터의 개수 : 0\n",
      "삭제할 테스트 데이터의 개수 : 0\n",
      "훈련 데이터의 개수 : 76671\n",
      "훈련 레이블의 개수 : 76671\n",
      "테스트 데이터의 개수 : 19167\n",
      "테스트 레이블의 개수 : 19167\n"
     ]
    }
   ],
   "source": [
    "drop_train = [index for index, sentence in enumerate(decoder_input_train) if len(sentence) == 1]\n",
    "drop_test = [index for index, sentence in enumerate(decoder_input_test) if len(sentence) == 1]\n",
    "\n",
    "print('삭제할 훈련 데이터의 개수 :',len(drop_train))\n",
    "print('삭제할 테스트 데이터의 개수 :',len(drop_test))\n",
    "\n",
    "encoder_input_train = np.delete(encoder_input_train, drop_train, axis=0)\n",
    "decoder_input_train = np.delete(decoder_input_train, drop_train, axis=0)\n",
    "decoder_target_train = np.delete(decoder_target_train, drop_train, axis=0)\n",
    "\n",
    "encoder_input_test = np.delete(encoder_input_test, drop_test, axis=0)\n",
    "decoder_input_test = np.delete(decoder_input_test, drop_test, axis=0)\n",
    "decoder_target_test = np.delete(decoder_target_test, drop_test, axis=0)\n",
    "\n",
    "print('훈련 데이터의 개수 :', len(encoder_input_train))\n",
    "print('훈련 레이블의 개수 :',len(decoder_input_train))\n",
    "print('테스트 데이터의 개수 :',len(encoder_input_test))\n",
    "print('테스트 레이블의 개수 :',len(decoder_input_test))"
   ]
  },
  {
   "cell_type": "markdown",
   "metadata": {},
   "source": [
    "#### 패딩 "
   ]
  },
  {
   "cell_type": "code",
   "execution_count": 39,
   "metadata": {},
   "outputs": [],
   "source": [
    "encoder_input_train = pad_sequences(encoder_input_train, maxlen = text_max_len, padding='post')\n",
    "encoder_input_test = pad_sequences(encoder_input_test, maxlen = text_max_len, padding='post')\n",
    "decoder_input_train = pad_sequences(decoder_input_train, maxlen = summary_max_len, padding='post')\n",
    "decoder_target_train = pad_sequences(decoder_target_train, maxlen = summary_max_len, padding='post')\n",
    "decoder_input_test = pad_sequences(decoder_input_test, maxlen = summary_max_len, padding='post')\n",
    "decoder_target_test = pad_sequences(decoder_target_test, maxlen = summary_max_len, padding='post')"
   ]
  },
  {
   "cell_type": "code",
   "execution_count": null,
   "metadata": {},
   "outputs": [],
   "source": []
  },
  {
   "cell_type": "markdown",
   "metadata": {},
   "source": [
    "#  어텐션 메커니즘 적용"
   ]
  },
  {
   "cell_type": "markdown",
   "metadata": {},
   "source": [
    "### 인코더 설계"
   ]
  },
  {
   "cell_type": "code",
   "execution_count": 40,
   "metadata": {},
   "outputs": [
    {
     "name": "stdout",
     "output_type": "stream",
     "text": [
      "WARNING:tensorflow:Layer lstm will not use cuDNN kernel since it doesn't meet the cuDNN kernel criteria. It will use generic GPU kernel as fallback when running on GPU\n",
      "WARNING:tensorflow:Layer lstm_1 will not use cuDNN kernel since it doesn't meet the cuDNN kernel criteria. It will use generic GPU kernel as fallback when running on GPU\n",
      "WARNING:tensorflow:Layer lstm_2 will not use cuDNN kernel since it doesn't meet the cuDNN kernel criteria. It will use generic GPU kernel as fallback when running on GPU\n"
     ]
    }
   ],
   "source": [
    "from tensorflow.keras.layers import Input, LSTM, Embedding, Dense, Concatenate\n",
    "from tensorflow.keras.models import Model\n",
    "from tensorflow.keras.callbacks import EarlyStopping, ModelCheckpoint\n",
    "\n",
    "\n",
    "# 인코더 설계 시작\n",
    "embedding_dim = 128\n",
    "hidden_size = 256\n",
    "\n",
    "# 인코더\n",
    "encoder_inputs = Input(shape=(text_max_len,))\n",
    "\n",
    "# 인코더의 임베딩 층\n",
    "enc_emb = Embedding(src_vocab, embedding_dim)(encoder_inputs)\n",
    "\n",
    "# 인코더의 LSTM 1\n",
    "encoder_lstm1 = LSTM(hidden_size, return_sequences=True, return_state=True ,dropout = 0.4, recurrent_dropout = 0.4)\n",
    "encoder_output1, state_h1, state_c1 = encoder_lstm1(enc_emb)\n",
    "\n",
    "# 인코더의 LSTM 2\n",
    "encoder_lstm2 = LSTM(hidden_size, return_sequences=True, return_state=True, dropout=0.4, recurrent_dropout=0.4)\n",
    "encoder_output2, state_h2, state_c2 = encoder_lstm2(encoder_output1)\n",
    "\n",
    "# 인코더의 LSTM 3\n",
    "encoder_lstm3 = LSTM(hidden_size, return_state=True, return_sequences=True, dropout=0.4, recurrent_dropout=0.4)\n",
    "encoder_outputs, state_h, state_c= encoder_lstm3(encoder_output2)"
   ]
  },
  {
   "cell_type": "markdown",
   "metadata": {},
   "source": [
    "### 디코더 설계"
   ]
  },
  {
   "cell_type": "code",
   "execution_count": 41,
   "metadata": {},
   "outputs": [
    {
     "name": "stdout",
     "output_type": "stream",
     "text": [
      "WARNING:tensorflow:Layer lstm_3 will not use cuDNN kernel since it doesn't meet the cuDNN kernel criteria. It will use generic GPU kernel as fallback when running on GPU\n"
     ]
    }
   ],
   "source": [
    "# 디코더 설계\n",
    "\n",
    "decoder_inputs = Input(shape=(None,))\n",
    "\n",
    "# 디코더의 임베딩 층\n",
    "dec_emb_layer = Embedding(tar_vocab, embedding_dim)\n",
    "dec_emb = dec_emb_layer(decoder_inputs)\n",
    "\n",
    "# 디코더의 LSTM\n",
    "decoder_lstm = LSTM(hidden_size, return_sequences = True, return_state = True, dropout = 0.4, recurrent_dropout=0.2)\n",
    "decoder_outputs, _, _ = decoder_lstm(dec_emb, initial_state = [state_h, state_c])"
   ]
  },
  {
   "cell_type": "code",
   "execution_count": 42,
   "metadata": {},
   "outputs": [],
   "source": [
    "# 디코더의 출력층\n",
    "decoder_softmax_layer = Dense(tar_vocab, activation = 'softmax')\n",
    "decoder_softmax_outputs = decoder_softmax_layer(decoder_outputs) "
   ]
  },
  {
   "cell_type": "code",
   "execution_count": null,
   "metadata": {},
   "outputs": [],
   "source": []
  },
  {
   "cell_type": "markdown",
   "metadata": {},
   "source": [
    "### 어텐션 매커니즘 적용"
   ]
  },
  {
   "cell_type": "code",
   "execution_count": 43,
   "metadata": {},
   "outputs": [],
   "source": [
    "urllib.request.urlretrieve(\"https://raw.githubusercontent.com/thushv89/attention_keras/master/src/layers/attention.py\", filename=\"attention.py\")\n",
    "from attention import AttentionLayer"
   ]
  },
  {
   "cell_type": "code",
   "execution_count": 44,
   "metadata": {
    "scrolled": false
   },
   "outputs": [
    {
     "name": "stdout",
     "output_type": "stream",
     "text": [
      "Model: \"model\"\n",
      "__________________________________________________________________________________________________\n",
      "Layer (type)                    Output Shape         Param #     Connected to                     \n",
      "==================================================================================================\n",
      "input_1 (InputLayer)            [(None, 60)]         0                                            \n",
      "__________________________________________________________________________________________________\n",
      "embedding (Embedding)           (None, 60, 128)      3072000     input_1[0][0]                    \n",
      "__________________________________________________________________________________________________\n",
      "lstm (LSTM)                     [(None, 60, 256), (N 394240      embedding[0][0]                  \n",
      "__________________________________________________________________________________________________\n",
      "input_2 (InputLayer)            [(None, None)]       0                                            \n",
      "__________________________________________________________________________________________________\n",
      "lstm_1 (LSTM)                   [(None, 60, 256), (N 525312      lstm[0][0]                       \n",
      "__________________________________________________________________________________________________\n",
      "embedding_1 (Embedding)         (None, None, 128)    1280000     input_2[0][0]                    \n",
      "__________________________________________________________________________________________________\n",
      "lstm_2 (LSTM)                   [(None, 60, 256), (N 525312      lstm_1[0][0]                     \n",
      "__________________________________________________________________________________________________\n",
      "lstm_3 (LSTM)                   [(None, None, 256),  394240      embedding_1[0][0]                \n",
      "                                                                 lstm_2[0][1]                     \n",
      "                                                                 lstm_2[0][2]                     \n",
      "__________________________________________________________________________________________________\n",
      "attention_layer (AttentionLayer ((None, None, 256),  131328      lstm_2[0][0]                     \n",
      "                                                                 lstm_3[0][0]                     \n",
      "__________________________________________________________________________________________________\n",
      "concat_layer (Concatenate)      (None, None, 512)    0           lstm_3[0][0]                     \n",
      "                                                                 attention_layer[0][0]            \n",
      "__________________________________________________________________________________________________\n",
      "dense_1 (Dense)                 (None, None, 10000)  5130000     concat_layer[0][0]               \n",
      "==================================================================================================\n",
      "Total params: 11,452,432\n",
      "Trainable params: 11,452,432\n",
      "Non-trainable params: 0\n",
      "__________________________________________________________________________________________________\n"
     ]
    }
   ],
   "source": [
    "# 어텐션 층(어텐션 함수)\n",
    "attn_layer = AttentionLayer(name='attention_layer')\n",
    "# 인코더와 디코더의 모든 time step의 hidden state를 어텐션 층에 전달하고 결과를 리턴\n",
    "attn_out, attn_states = attn_layer([encoder_outputs, decoder_outputs])\n",
    "\n",
    "# 어텐션의 결과와 디코더의 hidden state들을 연결\n",
    "decoder_concat_input = Concatenate(axis = -1, name='concat_layer')([decoder_outputs, attn_out])\n",
    "\n",
    "# 디코더의 출력층\n",
    "decoder_softmax_layer = Dense(tar_vocab, activation='softmax')\n",
    "decoder_softmax_outputs = decoder_softmax_layer(decoder_concat_input)\n",
    "\n",
    "# 모델 정의\n",
    "model = Model([encoder_inputs, decoder_inputs], decoder_softmax_outputs)\n",
    "model.summary()"
   ]
  },
  {
   "cell_type": "markdown",
   "metadata": {},
   "source": [
    "# 모델 훈련"
   ]
  },
  {
   "cell_type": "code",
   "execution_count": 45,
   "metadata": {},
   "outputs": [
    {
     "name": "stdout",
     "output_type": "stream",
     "text": [
      "Epoch 1/50\n",
      "300/300 [==============================] - 117s 390ms/step - loss: 5.7999 - val_loss: 5.3887\n",
      "Epoch 2/50\n",
      "300/300 [==============================] - 119s 396ms/step - loss: 5.2428 - val_loss: 5.0319\n",
      "Epoch 3/50\n",
      "300/300 [==============================] - 120s 399ms/step - loss: 4.8792 - val_loss: 4.7218\n",
      "Epoch 4/50\n",
      "300/300 [==============================] - 118s 393ms/step - loss: 4.6074 - val_loss: 4.5092\n",
      "Epoch 5/50\n",
      "300/300 [==============================] - 117s 389ms/step - loss: 4.3880 - val_loss: 4.3555\n",
      "Epoch 6/50\n",
      "300/300 [==============================] - 116s 388ms/step - loss: 4.1999 - val_loss: 4.2283\n",
      "Epoch 7/50\n",
      "300/300 [==============================] - 115s 382ms/step - loss: 4.0421 - val_loss: 4.1354\n",
      "Epoch 8/50\n",
      "300/300 [==============================] - 115s 383ms/step - loss: 3.9059 - val_loss: 4.0434\n",
      "Epoch 9/50\n",
      "300/300 [==============================] - 115s 384ms/step - loss: 3.7878 - val_loss: 3.9693\n",
      "Epoch 10/50\n",
      "300/300 [==============================] - 115s 382ms/step - loss: 3.6814 - val_loss: 3.9165\n",
      "Epoch 11/50\n",
      "300/300 [==============================] - 115s 382ms/step - loss: 3.5882 - val_loss: 3.8761\n",
      "Epoch 12/50\n",
      "300/300 [==============================] - 114s 381ms/step - loss: 3.5026 - val_loss: 3.8296\n",
      "Epoch 13/50\n",
      "300/300 [==============================] - 115s 382ms/step - loss: 3.4246 - val_loss: 3.8012\n",
      "Epoch 14/50\n",
      "300/300 [==============================] - 114s 382ms/step - loss: 3.3545 - val_loss: 3.7595\n",
      "Epoch 15/50\n",
      "300/300 [==============================] - 114s 382ms/step - loss: 3.2874 - val_loss: 3.7323\n",
      "Epoch 16/50\n",
      "300/300 [==============================] - 114s 382ms/step - loss: 3.2264 - val_loss: 3.7155\n",
      "Epoch 17/50\n",
      "300/300 [==============================] - 115s 382ms/step - loss: 3.1674 - val_loss: 3.6895\n",
      "Epoch 18/50\n",
      "300/300 [==============================] - 115s 384ms/step - loss: 3.1101 - val_loss: 3.6762\n",
      "Epoch 19/50\n",
      "300/300 [==============================] - 115s 383ms/step - loss: 3.0560 - val_loss: 3.6602\n",
      "Epoch 20/50\n",
      "300/300 [==============================] - 115s 384ms/step - loss: 3.0095 - val_loss: 3.6458\n",
      "Epoch 21/50\n",
      "300/300 [==============================] - 115s 383ms/step - loss: 2.9688 - val_loss: 3.6433\n",
      "Epoch 22/50\n",
      "300/300 [==============================] - 115s 383ms/step - loss: 2.9279 - val_loss: 3.6294\n",
      "Epoch 23/50\n",
      "300/300 [==============================] - 115s 383ms/step - loss: 2.8880 - val_loss: 3.6140\n",
      "Epoch 24/50\n",
      "300/300 [==============================] - 115s 382ms/step - loss: 2.8505 - val_loss: 3.6045\n",
      "Epoch 25/50\n",
      "300/300 [==============================] - 115s 383ms/step - loss: 2.8136 - val_loss: 3.5922\n",
      "Epoch 26/50\n",
      "300/300 [==============================] - 115s 383ms/step - loss: 2.7782 - val_loss: 3.5957\n",
      "Epoch 27/50\n",
      "300/300 [==============================] - 115s 383ms/step - loss: 2.7483 - val_loss: 3.5910\n",
      "Epoch 28/50\n",
      "300/300 [==============================] - 115s 383ms/step - loss: 2.7194 - val_loss: 3.5805\n",
      "Epoch 29/50\n",
      "300/300 [==============================] - 115s 383ms/step - loss: 2.6902 - val_loss: 3.5832\n",
      "Epoch 30/50\n",
      "300/300 [==============================] - 115s 383ms/step - loss: 2.6574 - val_loss: 3.5886\n",
      "Epoch 00030: early stopping\n"
     ]
    }
   ],
   "source": [
    "model.compile(optimizer='rmsprop', loss='sparse_categorical_crossentropy')\n",
    "es = EarlyStopping(monitor='val_loss', mode='min', verbose=1, patience = 2)\n",
    "history = model.fit(x = [encoder_input_train, decoder_input_train], y = decoder_target_train, \\\n",
    "          validation_data = ([encoder_input_test, decoder_input_test], decoder_target_test),\n",
    "          batch_size = 256, callbacks=[es], epochs = 50)"
   ]
  },
  {
   "cell_type": "code",
   "execution_count": 47,
   "metadata": {},
   "outputs": [
    {
     "data": {
      "image/png": "[encoded data removed]",
      "text/plain": [
       "<Figure size 432x288 with 1 Axes>"
      ]
     },
     "metadata": {
      "needs_background": "light"
     },
     "output_type": "display_data"
    }
   ],
   "source": [
    "plt.plot(history.history['loss'], label='train')\n",
    "plt.plot(history.history['val_loss'], label='test')\n",
    "plt.legend()\n",
    "plt.show()"
   ]
  },
  {
   "cell_type": "markdown",
   "metadata": {},
   "source": [
    "# 실제 결과와 요약문 비교"
   ]
  },
  {
   "cell_type": "markdown",
   "metadata": {},
   "source": [
    "## 인퍼런스 모델 구현"
   ]
  },
  {
   "cell_type": "code",
   "execution_count": 48,
   "metadata": {},
   "outputs": [],
   "source": [
    "src_index_to_word = src_tokenizer.index_word # 원문 단어 집합에서 정수 -> 단어를 얻음\n",
    "tar_word_to_index = tar_tokenizer.word_index # 요약 단어 집합에서 단어 -> 정수를 얻음\n",
    "tar_index_to_word = tar_tokenizer.index_word # 요약 단어 집합에서 정수 -> 단어를 얻음"
   ]
  },
  {
   "cell_type": "code",
   "execution_count": 49,
   "metadata": {},
   "outputs": [],
   "source": [
    "# 인코더 설계\n",
    "encoder_model = Model(inputs=encoder_inputs, outputs=[encoder_outputs, state_h, state_c])\n",
    "\n",
    "# 이전 시점의 상태들을 저장하는 텐서\n",
    "decoder_state_input_h = Input(shape=(hidden_size,))\n",
    "decoder_state_input_c = Input(shape=(hidden_size,))\n",
    "\n",
    "dec_emb2 = dec_emb_layer(decoder_inputs)\n",
    "# 문장의 다음 단어를 예측하기 위해서 초기 상태(initial_state)를 이전 시점의 상태로 사용. 이는 뒤의 함수 decode_sequence()에 구현\n",
    "# 훈련 과정에서와 달리 LSTM의 리턴하는 은닉 상태와 셀 상태인 state_h와 state_c를 버리지 않음.\n",
    "decoder_outputs2, state_h2, state_c2 = decoder_lstm(dec_emb2, initial_state=[decoder_state_input_h, decoder_state_input_c])"
   ]
  },
  {
   "cell_type": "code",
   "execution_count": 50,
   "metadata": {},
   "outputs": [],
   "source": [
    "# 어텐션 함수\n",
    "decoder_hidden_state_input = Input(shape=(text_max_len, hidden_size))\n",
    "attn_out_inf, attn_states_inf = attn_layer([decoder_hidden_state_input, decoder_outputs2])\n",
    "decoder_inf_concat = Concatenate(axis=-1, name='concat')([decoder_outputs2, attn_out_inf])\n",
    "\n",
    "# 디코더의 출력층\n",
    "decoder_outputs2 = decoder_softmax_layer(decoder_inf_concat) \n",
    "\n",
    "# 최종 디코더 모델\n",
    "decoder_model = Model(\n",
    "    [decoder_inputs] + [decoder_hidden_state_input,decoder_state_input_h, decoder_state_input_c],\n",
    "    [decoder_outputs2] + [state_h2, state_c2])"
   ]
  },
  {
   "cell_type": "code",
   "execution_count": 51,
   "metadata": {},
   "outputs": [],
   "source": [
    "def decode_sequence(input_seq):\n",
    "    # 입력으로부터 인코더의 상태를 얻음\n",
    "    e_out, e_h, e_c = encoder_model.predict(input_seq)\n",
    "\n",
    "     # <SOS>에 해당하는 토큰 생성\n",
    "    target_seq = np.zeros((1,1))\n",
    "    target_seq[0, 0] = tar_word_to_index['sostoken']\n",
    "\n",
    "    stop_condition = False\n",
    "    decoded_sentence = ''\n",
    "    while not stop_condition: # stop_condition이 True가 될 때까지 루프 반복\n",
    "\n",
    "        output_tokens, h, c = decoder_model.predict([target_seq] + [e_out, e_h, e_c])\n",
    "        sampled_token_index = np.argmax(output_tokens[0, -1, :])\n",
    "        sampled_token = tar_index_to_word[sampled_token_index]\n",
    "\n",
    "        if(sampled_token!='eostoken'):\n",
    "            decoded_sentence += ' '+sampled_token\n",
    "\n",
    "        #  <eos>에 도달하거나 최대 길이를 넘으면 중단.\n",
    "        if (sampled_token == 'eostoken'  or len(decoded_sentence.split()) >= (summary_max_len-1)):\n",
    "            stop_condition = True\n",
    "\n",
    "        # 길이가 1인 타겟 시퀀스를 업데이트\n",
    "        target_seq = np.zeros((1,1))\n",
    "        target_seq[0, 0] = sampled_token_index\n",
    "\n",
    "        # 상태를 업데이트 합니다.\n",
    "        e_h, e_c = h, c\n",
    "\n",
    "    return decoded_sentence"
   ]
  },
  {
   "cell_type": "code",
   "execution_count": 52,
   "metadata": {},
   "outputs": [],
   "source": [
    "# 원문의 정수 시퀀스를 텍스트 시퀀스로 변환\n",
    "def seq2text(input_seq):\n",
    "    temp=''\n",
    "    for i in input_seq:\n",
    "        if(i!=0):\n",
    "            temp = temp + src_index_to_word[i]+' '\n",
    "    return temp\n",
    "\n",
    "# 요약문의 정수 시퀀스를 텍스트 시퀀스로 변환\n",
    "def seq2summary(input_seq):\n",
    "    temp=''\n",
    "    for i in input_seq:\n",
    "        if((i!=0 and i!=tar_word_to_index['sostoken']) and i!=tar_word_to_index['eostoken']):\n",
    "            temp = temp + tar_index_to_word[i] + ' '\n",
    "    return temp"
   ]
  },
  {
   "cell_type": "code",
   "execution_count": 53,
   "metadata": {
    "scrolled": false
   },
   "outputs": [
    {
     "name": "stdout",
     "output_type": "stream",
     "text": [
      "원문 : sunrisers hyderabad bowling coach muttiah muralitharan has said current sri lankan cricketers are not capable enough to play in the ipl australia new zealand south africa and england there are a lot of good players there the tournament can have 32 international players our guys don't fit into it we had great players but they all retired said muralitharan \n",
      "실제 요약 : sri lankan players not capable enough to play in ipl murali \n",
      "예측 요약 :  will play the new pitch in india laxman\n",
      "\n",
      "\n",
      "원문 : the delhi government has registered a case against online booking platform for issuing tickets on buses running illegally in the city a spokesperson has claimed that the portal is merely an between the marketplace and consumers and that the bus operators listed on its website provide an undertaking that they have the requisite permits and licences \n",
      "실제 요약 : delhi govt takes to court for listing illegal buses \n",
      "예측 요약 :  delhi govt files complaint against aap for payment of payment\n",
      "\n",
      "\n",
      "원문 : haq's nephew imam ul haq became only the second pakistani cricketer to slam a ton on odi debut following his 125 ball 100 against sri lanka on wednesday imam also became the third youngest to notch a ton on odi debut at the age of 21 years and 310 days he smashed five fours and two sixes during his innings \n",
      "실제 요약 : nephew imam 2nd pakistani to hit ton on odi debut \n",
      "예측 요약 :  indian player becomes 2nd most batsman to win over ton\n",
      "\n",
      "\n",
      "원문 : researchers have developed an artificial intelligence technology that can predict a person's lifespan by analysing data from that track a user's activity the researchers trained the neural network to predict mortality risk from one week long stream of activity measurements of a test's participants the team also developed a beta version of an iphone app to estimate a user's lifespan \n",
      "실제 요약 : researchers make ai to predict by tracking activity \n",
      "예측 요약 :  ai can detect users' location from using ai developed\n",
      "\n",
      "\n",
      "원문 : iranian goalkeeper who blocked cristiano ronaldo's spot kick in their fifa world cup fixture on monday once lived a lifestyle reportedly slept on the street and worked in a car wash after running away to tehran to pursue football would sleep outside the stadium with people dropping coins in front of him \n",
      "실제 요약 : keeper who stopped ronaldo's penalty was once a \n",
      "예측 요약 :  iran club scores as wc game of wc match\n",
      "\n",
      "\n",
      "원문 : australian prime minister malcolm turnbull has recorded a 4 rise in voter support the highest in nearly two months just days after tightening rules for foreigners seeking work under an australia first policy a newspaper poll showed turnbull had also announced plans for tightening citizenship rules by increasing the waiting period and adding a new australian values test \n",
      "실제 요약 : policy wins support for pm \n",
      "예측 요약 :  australia pm to reach 7 2 in 2 days in 2\n",
      "\n",
      "\n",
      "원문 : a man accompanied by a group of his friends took a 350 kg bathtub full of coins to an apple store in a russian mall to buy an iphone xs an instagram video showed him and his friends carrying the bathtub to the store in a car at least two broke out between the group and the security guards \n",
      "실제 요약 : man buys apple iphone with full of coins in russia \n",
      "예측 요약 :  man finds man with apple store gets 1 000 in patent\n",
      "\n",
      "\n",
      "원문 : arjun tendulkar was seen doing ground staff duty at lord's as rain stopped play on the second day of the india england test arjun who is part of the mcc young cricketers training at lord's was earlier seen bowling to indian batsmen in the nets sachin was also at the ground yesterday being invited to ring the five minute bell \n",
      "실제 요약 : arjun tendulkar does ground duty at lord's as rain stops play \n",
      "예측 요약 :  arjun tendulkar breaks down by indian fans\n",
      "\n",
      "\n",
      "원문 : boney kapoor has announced that he will be producing the tamil remake of the legal drama film 'pink' which released in 2016 with amitabh bachchan and taapsee pannu in lead roles we hope to bring the remake of 'pink' to theatres on may 1 2019 kapoor said in a statement the yet untitled project will star tamil actor kumar \n",
      "실제 요약 : boney kapoor to produce tamil remake of big b starrer \n",
      "예측 요약 :  boney kapoor to make sridevi in film remake report\n",
      "\n",
      "\n",
      "원문 : geneva based cern physicists looking for fundamental differences between matter and have found a complete between proton and anti proton based on which the lead physicist claimed the universe should not actually exist it is believed matter and were created in equal quantities after the big bang however the cause for matter is yet unknown \n",
      "실제 요약 : universe should not actually exist scientists claim \n",
      "예측 요약 :  astronomers discover new matter of matter\n",
      "\n",
      "\n",
      "원문 : pakistan pm imran khan has said bringing back looted wealth abroad by corrupt politicians is the only way to stabilise the economy without taking foreign loans we may go to international monetary fund for loan but first we will try to get assistance from other countries he added further imran said corrupt people should know that i won't spare anyone \n",
      "실제 요약 : bringing back looted wealth only way to economy pak pm \n",
      "예측 요약 :  india is the world's most economy pm imran khan\n",
      "\n",
      "\n",
      "원문 : while talking about postponing pad man's release in a press conference along with filmmaker sanjay leela bhansali actor akshay kumar said his bhansali's need is more for this date than mine he added at the moment the stake of their film is much higher than mine meanwhile bhansali thanked akshay and said he would always be grateful to him \n",
      "실제 요약 : bhansali needs release date more akshay on film \n",
      "예측 요약 :  akshay kumar will not be a man in film akshay kumar\n",
      "\n",
      "\n",
      "원문 : google pays smartphone makers to have its apps like gmail youtube and google drive pre installed on the smartphones and reportedly spent 7 2 billion for the same last year further it paid around 3 billion to apple to be the default search engine on safari apple's internet browser google reportedly spends 19 billion yearly on acquisition \n",
      "실제 요약 : how much does google spend for pre installed apps on phones \n",
      "예측 요약 :  google pixel 2 xl apps in google's android report\n",
      "\n",
      "\n",
      "원문 : numbers of 13 5 crore people relating to four government projects may have been made public through government websites according to bengaluru based think tank centre for internet and society's report the report says around 10 crore bank account numbers have also been leaked through these portals it blamed the lack of proper controls exercised by departments for the leak \n",
      "실제 요약 : govt may have leaked 13 5 cr aadhaar numbers report \n",
      "예측 요약 :  govt to give ã¢ââ¹9 crore to firms in delhi govt\n",
      "\n",
      "\n",
      "원문 : singh a constable at lucknow's police station in uttar pradesh said it's an honour to work under his ips son kumar singh who took charge as sp north lucknow a 2014 batch ips said everyone has a personal and professional life we'll work as expected i'll salute him just like i'd do to any officer said \n",
      "실제 요약 : it's an honour says up constable after ips son becomes his boss \n",
      "예측 요약 :  cop who up cop to be named after son\n",
      "\n",
      "\n",
      "원문 : filmmaker shoojit sircar has said that he expected amitabh bachchan to win the best actor national award for his lead role in 'pink' shoojit who co produced pink added without mr bachchan's presence it pink wouldn't have had that reach he thanked the national award jury and entire team for the film winning 'best film on social national award \n",
      "실제 요약 : expected big b to win best actor national award shoojit \n",
      "예측 요약 :  big b doesn't become best actor in film makers\n",
      "\n",
      "\n",
      "원문 : on the occasion of world toilet day the world's biggest toilet pot model was unveiled on sunday in haryana's village which was popularly named 'trump village' the pot model inaugurated by a non profit organisation measures 20 feet in length and 10 feet in width the model would soon be moved to delhi's international museum of toilets reports said \n",
      "실제 요약 : world's biggest toilet model unveiled in 'trump \n",
      "예측 요약 :  world's largest toilet was stolen from toilet in toilet\n",
      "\n",
      "\n",
      "원문 : gavaskar has welcomed hardik pandya's return to team india playing xi saying his presence covers all bases for the team he'll get you some impossible catches get you some terrific run outs and then with the bat and the ball he does well gavaskar added pandya took a diving catch and picked up two wickets against new zealand on monday \n",
      "실제 요약 : hardik pandya will get you some impossible catches sunil gavaskar \n",
      "예측 요약 :  pandya gavaskar cancels india for new india\n",
      "\n",
      "\n",
      "원문 : a delhi court on saturday dismissed the bail application of manoj prasad an alleged dubai based middleman arrested in connection with the bribery case involving cbi special director rakesh asthana the cbi had opposed his bail saying that the accused was an influential person and may tamper with the ongoing probe if released on bail \n",
      "실제 요약 : court denies bail to dubai based in cbi bribery case \n"
     ]
    },
    {
     "name": "stdout",
     "output_type": "stream",
     "text": [
      "예측 요약 :  hc dismisses bail plea in law case against cbi\n",
      "\n",
      "\n",
      "원문 : star india's video streaming service has denied reports claiming it is in talks with e commerce giant flipkart for a stake sale as as we are by the rumours the service is too valuable for such to be even entertained a spokesperson said no such conversation is happening with flipkart or any others the spokesperson added \n",
      "실제 요약 : denies reports claiming flipkart may buy a stake \n",
      "예측 요약 :  indian star denies reports of not making flipkart stake in flipkart\n",
      "\n",
      "\n",
      "원문 : chennai's jigsaw radha shekhar has written to pm narendra modi urging him to address issues of funding and transparent business models at earliest radha said it was needed to avoid any suffering to women entrepreneurs like her at the hands of startups notably jigsaw accused startup stayzilla of defrauding payments resulting in its co founder yogendra arrest \n",
      "실제 요약 : client with unpaid dues writes to pm modi \n",
      "예측 요약 :  pm modi asks pm modi to not afraid of\n",
      "\n",
      "\n",
      "원문 : bigg boss contestant zubair khan who claimed to be gangster dawood ibrahim's relative has alleged that salman khan has connections with the underworld zubair further claimed that the film he is making on dawood ibrahim where he shows how the underworld don became a terrorist could be why he is getting death threats he also called salman the \n",
      "실제 요약 : salman has connections claims bigg boss' \n",
      "예측 요약 :  salman khan is the producer of salman's brother\n",
      "\n",
      "\n",
      "원문 : congress has accused mehul choksi owned gitanjali gems of an additional ã¢ââ¹5 000 crore fraud calling it jan dhan loot it alleged that gitanjali floated three jewellery investment schemes and said that invested amount could be used for jewellery purchases with additional bonuses after the maturity however in most cases neither the jewellery was given nor the amount was returned \n",
      "실제 요약 : congress alleges additional ã¢ââ¹5 000 crore fraud by gitanjali \n",
      "예측 요약 :  cbi files ã¢ââ¹5 cr fraud accused of nirav choksi\n",
      "\n",
      "\n",
      "원문 : a video shows an empty tourist bus and a heavy truck getting washed away in himachal pradesh which has been witnessing rainfall the bus in manali was swept away when water from the river eroded the ground where it was parked while the truck in kullu similarly got washed away when the water entered the parking premises \n",
      "실제 요약 : video bus truck get washed away in rain in himachal \n",
      "예측 요약 :  bus accident in himachal pradesh bus dies\n",
      "\n",
      "\n",
      "원문 : addressing media about the recent unprovoked ceasefire violations by pakistan indian army brigadier ys on sunday said it showed their extreme and pakistan has been targeting civilians living along the border and damaging their houses with shelling he added the indian army evacuated all the villages and moved the civilians to a government school he said \n",
      "실제 요약 : indian army calls pakistan army \n",
      "예측 요약 :  pakistan army claims of loc along loc\n",
      "\n",
      "\n",
      "원문 : a 6 year old girl named has gifted wooden crafted by her deceased father to up cm yogi adityanath whose father died in 2018 said my father had told me that he wanted to gift to yogi ji yogi asked the girl who lives with her maternal relatives as her mother died in 2016 about school and family \n",
      "실제 요약 : 6 yr old gifts to yogi deceased father's wish \n",
      "예측 요약 :  father of up cm yogi gets married to death\n",
      "\n",
      "\n",
      "원문 : party workers of vishva hindu parishad vhp slammed the film ki shaadi mein deewana' while stating according to our hindu rituals a lady cannot get married when she is pregnant they protested outside producer office in mumbai aggarwal said they would release the film on april 7 as the censor board passed it without any cuts \n",
      "실제 요약 : vhp slams hindi film showing pregnant woman getting married \n",
      "예측 요약 :  rss leader who threatened to apologise for refusing metoo\n",
      "\n",
      "\n",
      "원문 : cheteshwar pujara has said that he does not watch ipl on television but not because he is not a part of the tournament pujara said that he only watches the tournament when someone else is watching it it's either practice or fitness training almost the entire day pujara said about the spare time he has got from missing the ipl \n",
      "실제 요약 : i don't watch ipl on tv pujara \n",
      "예측 요약 :  i am not just a ipl says pujara\n",
      "\n",
      "\n",
      "원문 : tinder co founder sean has backed us based startup little spoon which plans to deliver baby food little spoon also counts greek brand senior executive kyle o'brien as one of its early investors there are better options out there for your dog than there are for your baby said little spoon co founder michelle \n",
      "실제 요약 : dating app founder invests in baby food startup \n",
      "예측 요약 :  android co founder to make baby snapchat\n",
      "\n",
      "\n",
      "원문 : arrested a 57 year old man after he duped over 2 000 people of over ã¢ââ¹3 crore on the pretext of providing cheap houses under the pradhan mantri awas yojana the accused created a fake website and was using pictures of pm narendra modi to lure his victims police said he had also duped four advertising companies of ã¢ââ¹1 crore \n",
      "실제 요약 : man held for duping 2 000 people using pm modi's pics \n",
      "예측 요약 :  man arrested for ã¢ââ¹3 000 crore in ã¢ââ¹3 700 crore\n",
      "\n",
      "\n",
      "원문 : over 50 lingayat came together on wednesday in bengaluru to demand 12 15 reservation and not be given a separate religion status this comes after a different lingayat faction conducted a massive rally in belagavi seeking separate religion status they also urged the government to set up free hostels for poor lingayat students in every district \n",
      "실제 요약 : seek 12 15 quota for the community \n",
      "예측 요약 :  15 quota for not given to be given to reservation\n",
      "\n",
      "\n",
      "원문 : new york university student has shared his experience of working undercover in a chinese iphone factory for six weeks job inserting in iphones for as long as 12 hours daily sometimes they don't allow you to speak you just sit there and wait until the next phone comes in i consider it as torture he said \n",
      "실제 요약 : student works in china iphone factory for 6 weeks \n",
      "예측 요약 :  student in iphone x launch launch in delhi\n",
      "\n",
      "\n",
      "원문 : 20 year old girl was allegedly gangraped in front of her boyfriend by three tourists hailing from madhya pradesh on a beach in south goa district police said the accused had forcibly stripped the couple clicked their photographs demanded money and later raped the girl two of the accused have been arrested while a search is on for the third \n",
      "실제 요약 : tourists strip rape girl in front of boyfriend on goa beach \n",
      "예측 요약 :  minor girl raped by her mother in odisha temple\n",
      "\n",
      "\n",
      "원문 : salman khan is number at the jodhpur central jail where he is lodged after being sentenced to five years imprisonment in the 1998 blackbuck poaching case the actor will spend the night at the jail with the sessions court hearing his bail plea on friday rape accused self styled godman asaram bapu is also lodged in the same jail \n",
      "실제 요약 : salman khan is number at jodhpur jail \n",
      "예측 요약 :  salman khan salman khan granted bail in jail\n",
      "\n",
      "\n",
      "원문 : bjp's union minister giriraj singh shared a photo of congress chief rahul gandhi from his pilgrimage to kailash claiming the picture is photoshopped the picture shared earlier in the day by a news agency shows rahul posing with another person singh claimed the shadow of the stick rahul was holding was missing in the picture \n",
      "실제 요약 : ye to hai bjp minister on rahul gandhi's kailash pic \n",
      "예측 요약 :  bjp leader shares pic with rahul gandhi in mp\n",
      "\n",
      "\n",
      "원문 : feels that the man woman love is not destined to happen for her i'd rather accept this sad truth of my life rather than fall into the wrong relationship again added manisha she further said that she will not allow any man to bring her down while adding can't afford to make wrong moves god has given me second chance \n",
      "실제 요약 : maybe man woman love is not for me manisha \n",
      "예측 요약 :  don't know why not marrying a woman on fb\n",
      "\n",
      "\n",
      "원문 : the us government believes that the chemical agent sarin was used in the chemical attack in syria on tuesday which killed at least 100 and injured over 400 people according to reports sarin which is an extremely deadly and fast acting chemical agent was first developed by nazi scientists in 1938 and was banned in 1993 under international law \n",
      "실제 요약 : nazi nerve gas used in syria's chemical attack us \n",
      "예측 요약 :  us chemical attack on chemical attack on syria chemical attack\n",
      "\n",
      "\n",
      "원문 : italian football club has announced its training ground will be renamed after captain who died of a cardiac arrest aged 31 earlier this month we've made this decision because that was his home the training ground will be called said president earlier and retired the number 13 shirt worn by \n",
      "실제 요약 : club renames ground after late captain who died in sleep \n"
     ]
    },
    {
     "name": "stdout",
     "output_type": "stream",
     "text": [
      "예측 요약 :  football football club to be named after death\n",
      "\n",
      "\n",
      "원문 : while the opposition in india has raised doubts over the reliability of evms russia has sought india's evm technology for 2018 presidential elections a report has claimed during the uttarakhand assembly polls deputy chairman of the russian election commission had visited the state to closely monitor the functioning of evms and the process \n",
      "실제 요약 : russia seeks india's evm technology for 2018 polls report \n",
      "예측 요약 :  opposition to probe into russian presidential election\n",
      "\n",
      "\n",
      "원문 : a man who made ã¢ââ¹3 crore from selling his land was rescued from kidnappers after the sunglasses they made him wear at night reportedly the police's suspicion the sunglasses were being used to conceal the on the victim police were also suspicious when they noted the car being used in the crime was a taxi with white plates \n",
      "실제 요약 : cops rescue man as make him wear at night \n",
      "예측 요약 :  man finds ã¢ââ¹3 cr from stomach after stomach\n",
      "\n",
      "\n",
      "원문 : on sunday midnight began an indefinite strike called by transport wing against ola and uber across major cities in india the drivers' main demand is that the startups ensure ã¢ââ¹1 5 lakh salary per month that was promised earlier the other demands include shutting down of company owned cabs deciding fares as per the costs and stopping low fare bookings \n",
      "실제 요약 : ola uber drivers begin indefinite strike in major cities \n",
      "예측 요약 :  uber hikes nationwide strike on uber to pay funds\n",
      "\n",
      "\n",
      "원문 : the trials a series of trials of nazis responsible for crimes committed during the holocaust began on november 20 1945 judges from the allied powers britain france soviet union and the us presided over the hearings of 24 nazi criminals held in germany's the trials are regarded as a milestone toward the establishment of a permanent international court \n",
      "실제 요약 : trials of nazi war criminals began on this day in \n",
      "예측 요약 :  spain gets its first ever foreign referendum\n",
      "\n",
      "\n",
      "원문 : indian women's hockey team chief coach has been appointed coach of the men's national team sports minister rajyavardhan rathore announced on friday replaces who was sacked earlier this week notably hockey india had released an advertisement for the coach's post which was withdrawn before the deadline on september 15 following appointment \n",
      "실제 요약 : india women's hockey coach made coach of men's national team \n",
      "예측 요약 :  coach appointed coach of hockey coach\n",
      "\n",
      "\n",
      "원문 : online discussions platform reddit on monday announced that it has raised 200 million in funding which gives it a valuation of nearly 1 8 billion the capital will be used to redesign reddit's homepage ceo steve huffman said in a report the funding comes from a group led by andreessen and sequoia capital along with other investment firms \n",
      "실제 요약 : reddit valued at 1 8 bn after new funding of 200 mn \n",
      "예측 요약 :  co working startup raises 2 million in series b\n",
      "\n",
      "\n",
      "원문 : karan johar has said men should be about wearing jewellery while adding if you think to wear a chain a bracelet or a ring suits you one should go for it karan further said if he launches a men's collection ranveer singh would be his brand ambassador while adding you know he walks the talk when it comes to fashion \n",
      "실제 요약 : men should be about wearing jewellery karan \n",
      "예측 요약 :  karan johar slams johar for not wearing jeans\n",
      "\n",
      "\n",
      "원문 : eu nations including the uk germany france the netherlands and norway will send back refugees to greece who first sought refuge there greece the main gateway to europe had let many refugees pass through to other eu states following a major influx in 2015 we expect returns to begin over the next month greek migration minister said \n",
      "실제 요약 : eu nations to begin returning refugees to greece \n",
      "예측 요약 :  un adopts refugee council for allegedly refugees\n",
      "\n",
      "\n",
      "원문 : india's first ever grand slam victory was mahesh bhupathi and his japanese mixed doubles partner french open title on june 7 1997 earlier today indian tennis player rohan bopanna became the fourth indian to win a grand slam title after claiming his maiden grand slam trophy alongside his canadian mixed doubles partner gabriela dabrowski \n",
      "실제 요약 : india's 1st grand slam was a french open mixed doubles title \n",
      "예측 요약 :  india wins 1st grand slam title of grand slam title\n",
      "\n",
      "\n",
      "원문 : tamil nadu advanced to the u 23 col ck nayudu trophy semifinals after winning against hyderabad by of a coin toss the four day match was by rain with no play possible on the second and fourth days it was extended to the fifth day but no play was possible again leading to a coin toss to decide the outcome \n",
      "실제 요약 : team wins match by of coin toss as rain affects play \n",
      "예측 요약 :  tamil nadu cm meets captain of champions trophy final\n",
      "\n",
      "\n",
      "원문 : uk's vedanta resources will invest around 9 billion in india over the next few years to expand its metals and mining businesses billionaire chairman anil agarwal said agarwal said these investments will create over a million jobs directly and indirectly he added that a large part will be directed towards oil and gas to increase their production \n",
      "실제 요약 : vedanta to invest 9 billion in india anil agarwal \n",
      "예측 요약 :  uk to invest 1 billion in debt debt by tata steel\n",
      "\n",
      "\n",
      "원문 : a 47 year old british man was suspected to have cancer after doctors found a mass in his lungs only to realise it was a toy cone he swallowed 40 years ago he had visited doctors after up yellow experts said he probably didn't experience any symptoms for a long time as his airways would have around the toy \n",
      "실제 요약 : man thought to have cancer found to have toy as kid \n",
      "예측 요약 :  man who lost cancer cancer gets stuck in us\n",
      "\n",
      "\n"
     ]
    }
   ],
   "source": [
    "for i in range(50, 100):\n",
    "    print(\"원문 :\", seq2text(encoder_input_test[i]))\n",
    "    print(\"실제 요약 :\", seq2summary(decoder_input_test[i]))\n",
    "    print(\"예측 요약 :\", decode_sequence(encoder_input_test[i].reshape(1, text_max_len)))\n",
    "    print(\"\\n\")"
   ]
  },
  {
   "cell_type": "code",
   "execution_count": null,
   "metadata": {},
   "outputs": [],
   "source": []
  },
  {
   "cell_type": "markdown",
   "metadata": {},
   "source": [
    "# Summa을 이용해서 추출적 요약해보기"
   ]
  },
  {
   "cell_type": "code",
   "execution_count": 54,
   "metadata": {},
   "outputs": [],
   "source": [
    "import requests\n",
    "from summa.summarizer import summarize"
   ]
  },
  {
   "cell_type": "code",
   "execution_count": 64,
   "metadata": {},
   "outputs": [
    {
     "name": "stdout",
     "output_type": "stream",
     "text": [
      "1       Kunal Shah's credit card bill payment platform...\n",
      "2       New Zealand defeated India by 8 wickets in the...\n",
      "3       With Aegon Life iTerm Insurance plan, customer...\n",
      "5       Pakistani singer Rahat Fateh Ali Khan has deni...\n",
      "7       Weeks after ex-CBI Director Alok Verma told th...\n",
      "                              ...                        \n",
      "1600    France has triggered a plan for a no-deal Brex...\n",
      "1601    Chinese TV programmes appeared to be censoring...\n",
      "1603    Canada's 67-year-old poker player Scott Wellen...\n",
      "1606    Washington's 27-year-old Nick Naydev jumped st...\n",
      "1608    Citing an investigative news report, Congress ...\n",
      "Name: text, Length: 1500, dtype: object\n"
     ]
    }
   ],
   "source": [
    "input_text = data['text']\n",
    "print(input_text[:1500])"
   ]
  },
  {
   "cell_type": "code",
   "execution_count": 58,
   "metadata": {
    "scrolled": true
   },
   "outputs": [
    {
     "data": {
      "text/plain": [
       "\"Two minor cousins in Uttar Pradesh's Gorakhpur were allegedly repeatedly burnt with tongs and forced to eat human excreta by their family for being friends with two boys from the same school. The cousins revealed their ordeal to the police and Child Welfare Committee after being brought back to Gorakhpur from Nepal, where they had fled to escape the torture.\""
      ]
     },
     "execution_count": 58,
     "metadata": {},
     "output_type": "execute_result"
    }
   ],
   "source": [
    "input_text[10]"
   ]
  },
  {
   "cell_type": "code",
   "execution_count": 86,
   "metadata": {},
   "outputs": [
    {
     "name": "stdout",
     "output_type": "stream",
     "text": [
      "Original Sentence:\n",
      "The Deputy President of the UK Supreme Court, Brenda Hale, will be elevated to the position of the court's President in October, making her the first female to head UK's highest court. Hale, who joined the Supreme Court in 2009, will earn ÃÂ£225,000 a year as the President. She had earlier served as a counsel to Queen Elizabeth.\n",
      "\n",
      "Summary:\n",
      "The Deputy President of the UK Supreme Court, Brenda Hale, will be elevated to the position of the court's President in October, making her the first female to head UK's highest court.\n",
      "----------------------------------------------------------------------------------------------------\n",
      "\n",
      "\n",
      "Original Sentence:\n",
      "A 'tree wall' of nearly 31 lakh native trees will soon encircle Delhi to protect it from dust storms coming from Rajasthan, a senior official of Union Ministry of Forest, Environment and Climate Change said. The government has already begun work of planting saplings. The tree wall will come along Delhi border with Haryana, Rajasthan and Uttar Pradesh.\n",
      "\n",
      "Summary:\n",
      "A 'tree wall' of nearly 31 lakh native trees will soon encircle Delhi to protect it from dust storms coming from Rajasthan, a senior official of Union Ministry of Forest, Environment and Climate Change said.\n",
      "----------------------------------------------------------------------------------------------------\n",
      "\n",
      "\n",
      "Original Sentence:\n",
      "Reacting to Floyd Mayweather's $1,000-donation to a homeless man, a user tweeted, \"You're doing the right thing, but I feel like that dude isn't gonna spend it correctly.\" \"The guys not in a state to do anything with it. He'll either get robbed or blow it on more drugs. Pretty irresponsible of Floyd if you ask me,\" tweeted another user.\n",
      "\n",
      "Summary:\n",
      "Reacting to Floyd Mayweather's $1,000-donation to a homeless man, a user tweeted, \"You're doing the right thing, but I feel like that dude isn't gonna spend it correctly.\" \"The guys not in a state to do anything with it.\n",
      "----------------------------------------------------------------------------------------------------\n",
      "\n",
      "\n",
      "Original Sentence:\n",
      "While hosting the 2017 Emmy Awards, US comedian Stephen Colbert mocked President Donald Trump by saying if he would have won an Emmy for his show 'The Apprentice' then he wouldn't have run for President. Colbert further told the audience, \"This is all your fault\" as \"Emmys mean a lot to Trump\". Trump didn't win an Emmy despite multiple nominations.\n",
      "\n",
      "Summary:\n",
      "Colbert further told the audience, \"This is all your fault\" as \"Emmys mean a lot to Trump\".\n",
      "----------------------------------------------------------------------------------------------------\n",
      "\n",
      "\n",
      "Original Sentence:\n",
      "Following a review of Jammu and Kashmir's security situation, the government has directed security forces to eliminate those indulging in violence in the state, reports said. This comes in the wake of recent episodes of violence in Kashmir where several security personnel were killed by militants. The directive was given during a high-level meeting chaired by Home Minister Rajnath Singh.\n",
      "\n",
      "Summary:\n",
      "Following a review of Jammu and Kashmir's security situation, the government has directed security forces to eliminate those indulging in violence in the state, reports said.\n",
      "----------------------------------------------------------------------------------------------------\n",
      "\n",
      "\n",
      "Original Sentence:\n",
      "Facebook has been sued by users in the US over claims that it negligently allowed hackers to compromise as many as 50 million accounts. The class-action lawsuit was filed on Friday within hours of Facebook's statement saying it has fixed the data breach. The lawsuit accuses the social network of violating competition law, negligence, and concealing \"grossly inadequate\" security measures.\n",
      "\n",
      "Summary:\n",
      "Facebook has been sued by users in the US over claims that it negligently allowed hackers to compromise as many as 50 million accounts.\n",
      "----------------------------------------------------------------------------------------------------\n",
      "\n",
      "\n",
      "Original Sentence:\n",
      "Indian wrestler Sonam Malik bagged a gold medal in the 56kg category at the Cadet World Wrestling Championships in Athens, Greece, on Thursday. The 15-year-old defeated Japanese Sena Nagamoto 3-1 in the final. Another Indian Neelam bagged bronze in the 43kg category after defeating Romania's Roxana Alexandra 6-4. Wrestler Anshu will fight for gold medal in 60kg category on Friday.\n",
      "\n",
      "Summary:\n",
      "Indian wrestler Sonam Malik bagged a gold medal in the 56kg category at the Cadet World Wrestling Championships in Athens, Greece, on Thursday.\n",
      "----------------------------------------------------------------------------------------------------\n",
      "\n",
      "\n",
      "Original Sentence:\n",
      "Pacer RP Singh announced his retirement from cricket on Tuesday, exactly 13 years after making his international debut. The 32-year-old, who was a part of India's 2007 World T20-winning team, played 82 international matches between 2005 and 2011. \"I never thought I'd be able to say this - I've lived my dream,\" Singh wrote in his farewell note.\n",
      "\n",
      "Summary:\n",
      "Pacer RP Singh announced his retirement from cricket on Tuesday, exactly 13 years after making his international debut.\n",
      "----------------------------------------------------------------------------------------------------\n",
      "\n",
      "\n",
      "Original Sentence:\n",
      "American surfwear firm Boardriders' CEO Pierre Agnes has gone missing at sea in France on Tuesday. The 54-year-old had set sail early on the same day on a routine fishing trip but his boat was found washed up a beach empty in southwestern France. French authorities have deployed two vessels and three helicopters to search for him.\n",
      "\n",
      "Summary:\n",
      "American surfwear firm Boardriders' CEO Pierre Agnes has gone missing at sea in France on Tuesday.\n",
      "----------------------------------------------------------------------------------------------------\n",
      "\n",
      "\n",
      "Original Sentence:\n",
      "Sunrisers Hyderabad captain David Warner on Monday became the batsman with the most number of fifties in IPL after he smashed his 34th against Kings XI Punjab. Playing in his 105th match, Warner overtook Kolkata Knight Riders captain Gautam Gambhir's record of 33 fifties. Mumbai Indians' Rohit Sharma and Gujarat Lions' Suresh Raina have scored third-most fifties with 29 each.\n",
      "\n",
      "Summary:\n",
      "Playing in his 105th match, Warner overtook Kolkata Knight Riders captain Gautam Gambhir's record of 33 fifties.\n",
      "----------------------------------------------------------------------------------------------------\n",
      "\n",
      "\n"
     ]
    }
   ],
   "source": [
    "for _ in range(10) :\n",
    "    rnum = np.random.randint(len(input_text))\n",
    "    print(f'Original Sentence:\\n{input_text[rnum]}\\n')\n",
    "    print(f'Summary:\\n{summarize(input_text[rnum], ratio=0.4)}')\n",
    "    print('--'*50+'\\n\\n')"
   ]
  },
  {
   "cell_type": "code",
   "execution_count": null,
   "metadata": {},
   "outputs": [],
   "source": []
  }
 ],
 "metadata": {
  "kernelspec": {
   "display_name": "aiffel",
   "language": "python",
   "name": "aiffel"
  },
  "language_info": {
   "codemirror_mode": {
    "name": "ipython",
    "version": 3
   },
   "file_extension": ".py",
   "mimetype": "text/x-python",
   "name": "python",
   "nbconvert_exporter": "python",
   "pygments_lexer": "ipython3",
   "version": "3.7.9"
  }
 },
 "nbformat": 4,
 "nbformat_minor": 4
}