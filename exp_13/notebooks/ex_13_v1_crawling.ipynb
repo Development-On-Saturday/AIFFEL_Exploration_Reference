{
 "cells": [
  {
   "cell_type": "code",
   "execution_count": 4,
   "metadata": {},
   "outputs": [],
   "source": [
    "# pandas로 네이버 파이낸스에서 주가데이터 크롤링\n",
    "import time\n",
    "import pandas as pd"
   ]
  },
  {
   "cell_type": "code",
   "execution_count": 9,
   "metadata": {},
   "outputs": [],
   "source": [
    "def naver_juga_day(stock_number='005930', pages=1):\n",
    "    \"\"\"\n",
    "    1 page당 10일의 주가 데이터\n",
    "    \"\"\"\n",
    "    stock_price = pd.DataFrame()\n",
    "    if stock_number != ('KOSPI' or 'KOSDAQ'):\n",
    "        for page in range(pages):\n",
    "            time.sleep(0.05)\n",
    "            url = 'https://finance.naver.com/item/sise_day.nhn?code={}&page={}'.format(stock_number, page+1)\n",
    "            juga = pd.read_html(url)\n",
    "            juga = juga[0].dropna()\n",
    "            stock_price = pd.concat([stock_price,juga], axis=0)\n",
    "        stock_price.reset_index(drop=True, inplace=True)\n",
    "        return stock_price.sort_values('날짜').reset_index(drop=True)"
   ]
  },
  {
   "cell_type": "code",
   "execution_count": 5,
   "metadata": {},
   "outputs": [],
   "source": [
    "# data download\n",
    "kakao = naver_juga_day('035720',263)\n",
    "naver = naver_juga_day('035420',263)\n",
    "LG_chem = naver_juga_day('051910', 263)\n",
    "celltrion = naver_juga_day('068270', 263)"
   ]
  },
  {
   "cell_type": "code",
   "execution_count": 22,
   "metadata": {},
   "outputs": [],
   "source": [
    "# 2010년부터 시작하도록 만들기\n",
    "LG_chem = LG_chem.iloc[9:].reset_index(drop=True)\n",
    "naver = naver.iloc[9:].reset_index(drop=True)\n",
    "celltrion = celltrion.iloc[9:].reset_index(drop=True)\n",
    "kakao = kakao.iloc[9:].reset_index(drop=True)"
   ]
  },
  {
   "cell_type": "code",
   "execution_count": 24,
   "metadata": {},
   "outputs": [],
   "source": [
    "#  Data 저장\n",
    "naver.to_csv('/data/naver_juga_from_2010.csv',index=False)\n",
    "LG_chem.to_csv('./data/LG_chem_juga_from_2010.csv', index=False)\n",
    "celltrion.to_csv('./data/celltrion_juga_from_2010.csv', index=False)\n",
    "kakao.to_csv('./data/kakao_juga_from_2010.csv',index=False)"
   ]
  }
 ],
 "metadata": {
  "kernelspec": {
   "display_name": "aiffel",
   "language": "python",
   "name": "aiffel"
  },
  "language_info": {
   "codemirror_mode": {
    "name": "ipython",
    "version": 3
   },
   "file_extension": ".py",
   "mimetype": "text/x-python",
   "name": "python",
   "nbconvert_exporter": "python",
   "pygments_lexer": "ipython3",
   "version": "3.7.6"
  }
 },
 "nbformat": 4,
 "nbformat_minor": 4
}
