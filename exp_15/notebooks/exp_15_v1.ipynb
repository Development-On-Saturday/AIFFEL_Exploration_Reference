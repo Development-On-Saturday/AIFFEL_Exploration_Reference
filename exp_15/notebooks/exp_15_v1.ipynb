{
 "cells": [
  {
   "cell_type": "markdown",
   "metadata": {},
   "source": [
    "### Step 1. 데이터 수집하기\n",
    "---\n",
    "한국어 챗봇 데이터는 송영숙님이 공개한 챗봇 데이터를 사용한다."
   ]
  },
  {
   "cell_type": "markdown",
   "metadata": {},
   "source": [
    "### Step 2. 데이터 전처리하기\n",
    "---\n",
    ">영어 데이터와는 전혀 다른 데이터인만큼 영어 데이터에 사용했던 전처리와 일부 동일한 전처리도 필요하겠지만 전체적으로는 다른 전처리를 수행해야 할 수도 있습니다.\n"
   ]
  },
  {
   "cell_type": "code",
   "execution_count": 1,
   "metadata": {},
   "outputs": [],
   "source": [
    "import os\n",
    "import re\n",
    "import tensorflow as tf\n",
    "import tensorflow_datasets as tfds\n",
    "import pandas as pd\n",
    "import numpy as np\n",
    "from model import Transformer\n",
    "import matplotlib.pyplot as plt"
   ]
  },
  {
   "cell_type": "code",
   "execution_count": 2,
   "metadata": {},
   "outputs": [],
   "source": [
    "path = os.getenv(\"HOME\") + \"/project/E21_Transformer/data/ChatbotData.csv\"\n",
    "data = pd.read_csv(path)"
   ]
  },
  {
   "cell_type": "code",
   "execution_count": 3,
   "metadata": {},
   "outputs": [
    {
     "data": {
      "text/html": [
       "<div>\n",
       "<style scoped>\n",
       "    .dataframe tbody tr th:only-of-type {\n",
       "        vertical-align: middle;\n",
       "    }\n",
       "\n",
       "    .dataframe tbody tr th {\n",
       "        vertical-align: top;\n",
       "    }\n",
       "\n",
       "    .dataframe thead th {\n",
       "        text-align: right;\n",
       "    }\n",
       "</style>\n",
       "<table border=\"1\" class=\"dataframe\">\n",
       "  <thead>\n",
       "    <tr style=\"text-align: right;\">\n",
       "      <th></th>\n",
       "      <th>Q</th>\n",
       "      <th>A</th>\n",
       "      <th>label</th>\n",
       "    </tr>\n",
       "  </thead>\n",
       "  <tbody>\n",
       "    <tr>\n",
       "      <th>10934</th>\n",
       "      <td>이제 내 짝남 못봐. 군대 가거든.</td>\n",
       "      <td>서운하겠어요.</td>\n",
       "      <td>2</td>\n",
       "    </tr>\n",
       "    <tr>\n",
       "      <th>7491</th>\n",
       "      <td>이별극복후 새로운 설렘</td>\n",
       "      <td>좋은 소식이네요.</td>\n",
       "      <td>1</td>\n",
       "    </tr>\n",
       "    <tr>\n",
       "      <th>8827</th>\n",
       "      <td>희망고문</td>\n",
       "      <td>아예 생각을 하지 말아요.</td>\n",
       "      <td>1</td>\n",
       "    </tr>\n",
       "    <tr>\n",
       "      <th>2328</th>\n",
       "      <td>삼겹살 구워야지</td>\n",
       "      <td>맛있겠네요.</td>\n",
       "      <td>0</td>\n",
       "    </tr>\n",
       "    <tr>\n",
       "      <th>865</th>\n",
       "      <td>내가 좋아하는 사람과 나를 좋아해주는 사람</td>\n",
       "      <td>그런 사람들이 있어 부러워요.</td>\n",
       "      <td>0</td>\n",
       "    </tr>\n",
       "  </tbody>\n",
       "</table>\n",
       "</div>"
      ],
      "text/plain": [
       "                             Q                 A  label\n",
       "10934      이제 내 짝남 못봐. 군대 가거든.           서운하겠어요.      2\n",
       "7491              이별극복후 새로운 설렘         좋은 소식이네요.      1\n",
       "8827                      희망고문    아예 생각을 하지 말아요.      1\n",
       "2328                  삼겹살 구워야지            맛있겠네요.      0\n",
       "865    내가 좋아하는 사람과 나를 좋아해주는 사람  그런 사람들이 있어 부러워요.      0"
      ]
     },
     "execution_count": 3,
     "metadata": {},
     "output_type": "execute_result"
    }
   ],
   "source": [
    "data.sample(5)"
   ]
  },
  {
   "cell_type": "code",
   "execution_count": 4,
   "metadata": {},
   "outputs": [
    {
     "name": "stdout",
     "output_type": "stream",
     "text": [
      "<class 'pandas.core.frame.DataFrame'>\n",
      "RangeIndex: 11823 entries, 0 to 11822\n",
      "Data columns (total 3 columns):\n",
      " #   Column  Non-Null Count  Dtype \n",
      "---  ------  --------------  ----- \n",
      " 0   Q       11823 non-null  object\n",
      " 1   A       11823 non-null  object\n",
      " 2   label   11823 non-null  int64 \n",
      "dtypes: int64(1), object(2)\n",
      "memory usage: 277.2+ KB\n"
     ]
    }
   ],
   "source": [
    "data.info()"
   ]
  },
  {
   "cell_type": "code",
   "execution_count": 5,
   "metadata": {},
   "outputs": [
    {
     "data": {
      "text/plain": [
       "11823"
      ]
     },
     "execution_count": 5,
     "metadata": {},
     "output_type": "execute_result"
    }
   ],
   "source": [
    "len(data)"
   ]
  },
  {
   "cell_type": "code",
   "execution_count": 6,
   "metadata": {},
   "outputs": [
    {
     "data": {
      "text/plain": [
       "'다크서클 턱밑에 있다.'"
      ]
     },
     "execution_count": 6,
     "metadata": {},
     "output_type": "execute_result"
    }
   ],
   "source": [
    "data['Q'][1149]"
   ]
  },
  {
   "cell_type": "code",
   "execution_count": 7,
   "metadata": {},
   "outputs": [],
   "source": [
    "def preprocess_sentence(sentence):\n",
    "    #구두점과 단어 사이에 공백 만들기\n",
    "    sentence = re.sub(r\"([?.!,])\", r\" \\1 \", sentence)\n",
    "    sentence = re.sub(r'[\" \"]+', \" \", sentence)\n",
    "    \n",
    "    #지정한 문자 외 제거\n",
    "    sentence = re.sub(r\"[^0-9ㄱ-ㅎㅏ-ㅣ가-힣a-zA-Z?.!,]+\", r\" \", sentence)\n",
    "    sentence = sentence.strip()\n",
    "    return sentence"
   ]
  },
  {
   "cell_type": "code",
   "execution_count": 8,
   "metadata": {
    "scrolled": true
   },
   "outputs": [
    {
     "name": "stdout",
     "output_type": "stream",
     "text": [
      "Youtube 보고 싶은데 , 123모여서 같이봐도 돼 ? ?\n"
     ]
    }
   ],
   "source": [
    "#Test preprocess_sentence function.\n",
    "print(preprocess_sentence(\"Youtube 보고 싶은데, 123모여서 같이봐도 돼??^^\"))"
   ]
  },
  {
   "cell_type": "code",
   "execution_count": 9,
   "metadata": {},
   "outputs": [],
   "source": [
    "def load_conversations(data):\n",
    "    inputs, outputs = [], []\n",
    "    for i in range(len(data)):\n",
    "        inputs.append(preprocess_sentence(data['Q'][i]))\n",
    "        outputs.append(preprocess_sentence(data['A'][i]))\n",
    "    assert len(inputs) == len(outputs) and len(inputs) == len(data)\n",
    "    return inputs, outputs"
   ]
  },
  {
   "cell_type": "code",
   "execution_count": 10,
   "metadata": {},
   "outputs": [],
   "source": [
    "questions, answers = load_conversations(data)"
   ]
  },
  {
   "cell_type": "code",
   "execution_count": 11,
   "metadata": {},
   "outputs": [
    {
     "name": "stdout",
     "output_type": "stream",
     "text": [
      "전체 샘플 수 : 11823\n",
      "전체 샘플 수 : 11823\n"
     ]
    }
   ],
   "source": [
    "print('전체 샘플 수 :', len(questions))\n",
    "print('전체 샘플 수 :', len(answers))"
   ]
  },
  {
   "cell_type": "code",
   "execution_count": 12,
   "metadata": {
    "scrolled": true
   },
   "outputs": [
    {
     "name": "stdout",
     "output_type": "stream",
     "text": [
      "전처리 후의 22번째 질문 샘플: 가스비 장난 아님\n",
      "전처리 후의 22번째 답변 샘플: 다음 달에는 더 절약해봐요 .\n"
     ]
    }
   ],
   "source": [
    "print('전처리 후의 22번째 질문 샘플: {}'.format(questions[21]))\n",
    "print('전처리 후의 22번째 답변 샘플: {}'.format(answers[21]))"
   ]
  },
  {
   "cell_type": "markdown",
   "metadata": {},
   "source": [
    "### Step 3. SubwordTextEncoder 사용하기\n",
    "\n",
    "#### 병렬 데이터 전처리"
   ]
  },
  {
   "cell_type": "code",
   "execution_count": 13,
   "metadata": {},
   "outputs": [],
   "source": [
    "tokenizer = tfds.features.text.SubwordTextEncoder.build_from_corpus(questions+answers,target_vocab_size=2**13)"
   ]
  },
  {
   "cell_type": "code",
   "execution_count": 14,
   "metadata": {},
   "outputs": [],
   "source": [
    "START_TOKEN,END_TOKEN = [tokenizer.vocab_size], [tokenizer.vocab_size + 1]"
   ]
  },
  {
   "cell_type": "code",
   "execution_count": 15,
   "metadata": {},
   "outputs": [
    {
     "name": "stdout",
     "output_type": "stream",
     "text": [
      "START_TOKEN의 번호 :  [8170]\n",
      "END_TOKEN의 번호 :  [8171]\n"
     ]
    }
   ],
   "source": [
    "print(\"START_TOKEN의 번호 : \", [tokenizer.vocab_size])\n",
    "print(\"END_TOKEN의 번호 : \", [tokenizer.vocab_size + 1])"
   ]
  },
  {
   "cell_type": "code",
   "execution_count": 16,
   "metadata": {},
   "outputs": [
    {
     "name": "stdout",
     "output_type": "stream",
     "text": [
      "8172\n"
     ]
    }
   ],
   "source": [
    "VOCAB_SIZE = tokenizer.vocab_size + 2\n",
    "print(VOCAB_SIZE)"
   ]
  },
  {
   "cell_type": "code",
   "execution_count": 17,
   "metadata": {},
   "outputs": [
    {
     "name": "stdout",
     "output_type": "stream",
     "text": [
      "원래 질문 문장 샘플 : 가스비 장난 아님\n",
      "원래 답변 문장 샘플 : 다음 달에는 더 절약해봐요 .\n",
      "정수 인코딩 후의 21번째 질문 샘플: [5762, 610, 2490, 4163]\n",
      "정수 인코딩 후의 21번째 답변 샘플: [2356, 7510, 7, 6273, 97, 1]\n"
     ]
    }
   ],
   "source": [
    "# 임의의 22번째 샘플에 대해서 정수 인코딩 작업을 수행.\n",
    "# 각 토큰을 고유한 정수로 변환\n",
    "print('원래 질문 문장 샘플 : {}'.format(questions[21]))\n",
    "print('원래 답변 문장 샘플 : {}'.format(answers[21]))\n",
    "print('정수 인코딩 후의 21번째 질문 샘플: {}'.format(tokenizer.encode(questions[21])))\n",
    "print('정수 인코딩 후의 21번째 답변 샘플: {}'.format(tokenizer.encode(answers[21])))"
   ]
  },
  {
   "cell_type": "code",
   "execution_count": 18,
   "metadata": {},
   "outputs": [
    {
     "data": {
      "text/plain": [
       "[8170, 5762, 610, 2490, 4163, 8171]"
      ]
     },
     "execution_count": 18,
     "metadata": {},
     "output_type": "execute_result"
    }
   ],
   "source": [
    "START_TOKEN + tokenizer.encode(questions[21]) + END_TOKEN"
   ]
  },
  {
   "cell_type": "markdown",
   "metadata": {},
   "source": [
    "각 단어에 정수가 부여된 Vocabulay를 기준으로  \n",
    "`단어 시퀀스` => `정수 시퀀스`  \n",
    "로 인코딩 된 결과를 확인할 수 있다. 위의 결과와 마찬가지로 모든 질문과 답변 셋에 대해서 `정수 인코딩`을 수행한다.  \n",
    "\\+ 문장의 최대길이 정하기 + Padding 하기"
   ]
  },
  {
   "cell_type": "code",
   "execution_count": 19,
   "metadata": {
    "scrolled": false
   },
   "outputs": [
    {
     "name": "stdout",
     "output_type": "stream",
     "text": [
      "30\n"
     ]
    }
   ],
   "source": [
    "MAX_LENGTH = 30\n",
    "print(MAX_LENGTH)"
   ]
  },
  {
   "cell_type": "code",
   "execution_count": 20,
   "metadata": {},
   "outputs": [],
   "source": [
    "def tokenize_and_filter(inputs, outputs):\n",
    "    #정수화된 인풋과, 정수화된 아웃풋을 담을 그릇\n",
    "    tokenized_inputs, tokenized_outputs = [], []\n",
    "    \n",
    "    for (sentence1, sentence2) in zip(inputs, outputs):\n",
    "        sentence1 = START_TOKEN + tokenizer.encode(sentence1) + END_TOKEN\n",
    "        sentence2 = START_TOKEN + tokenizer.encode(sentence2) + END_TOKEN\n",
    "        \n",
    "        #최대 길이 이하인 데이터만 사용\n",
    "        if len(sentence1) <= MAX_LENGTH and len(sentence2) <= MAX_LENGTH:\n",
    "            tokenized_inputs.append(sentence1)\n",
    "            tokenized_outputs.append(sentence2)\n",
    "    \n",
    "    #최대 길이로 모든 데이터셋 패딩\n",
    "    tokenized_inputs = tf.keras.preprocessing.sequence.pad_sequences(\n",
    "        tokenized_inputs, maxlen=MAX_LENGTH, padding = 'post')\n",
    "    tokenized_outputs = tf.keras.preprocessing.sequence.pad_sequences(\n",
    "        tokenized_outputs, maxlen=MAX_LENGTH, padding='post')\n",
    "    \n",
    "    return tokenized_inputs, tokenized_outputs"
   ]
  },
  {
   "cell_type": "code",
   "execution_count": 21,
   "metadata": {
    "scrolled": true
   },
   "outputs": [
    {
     "name": "stdout",
     "output_type": "stream",
     "text": [
      "단어장의 크기 : 8172\n",
      "필터링 후의 샘플 개수: 11822\n",
      "필터링 후의 샘플 개수: 11822\n"
     ]
    }
   ],
   "source": [
    "questions, answers = tokenize_and_filter(questions, answers)\n",
    "print('단어장의 크기 :',(VOCAB_SIZE))\n",
    "print('필터링 후의 샘플 개수: {}'.format(len(questions)))\n",
    "print('필터링 후의 샘플 개수: {}'.format(len(answers)))"
   ]
  },
  {
   "cell_type": "markdown",
   "metadata": {},
   "source": [
    "#### Teacher Forcing\n",
    "창의적이고 데이터로 부터 독립적인 문장을 생성하기에는 힘들겠지만,  \n",
    "적어도 입력된 문장에 가까운 문장을 생성하게 유도함으로써  \n",
    "생성 문장의 질을 높인다."
   ]
  },
  {
   "cell_type": "code",
   "execution_count": 22,
   "metadata": {},
   "outputs": [],
   "source": [
    "BATCH_SIZE = 64\n",
    "BUFFER_SIZE = 20000"
   ]
  },
  {
   "cell_type": "code",
   "execution_count": 23,
   "metadata": {},
   "outputs": [],
   "source": [
    "dataset = tf.data.Dataset.from_tensor_slices((\n",
    "    {\n",
    "        'inputs' : questions,\n",
    "        'dec_inputs': answers[:, :-1]\n",
    "    },\n",
    "    {\n",
    "        'outputs': answers[:, 1:]\n",
    "    },\n",
    "))"
   ]
  },
  {
   "cell_type": "code",
   "execution_count": 24,
   "metadata": {},
   "outputs": [],
   "source": [
    "dataset = dataset.cache()\n",
    "dataset = dataset.shuffle(BUFFER_SIZE)\n",
    "dataset = dataset.batch(BATCH_SIZE)\n",
    "dataset = dataset.prefetch(tf.data.experimental.AUTOTUNE)"
   ]
  },
  {
   "cell_type": "markdown",
   "metadata": {},
   "source": [
    "### Step 4. 모델 구성하기"
   ]
  },
  {
   "cell_type": "code",
   "execution_count": 45,
   "metadata": {},
   "outputs": [],
   "source": [
    "tf.keras.backend.clear_session()\n",
    "\n",
    "# 하이퍼파라미터\n",
    "NUM_LAYERS = 2 # 인코더와 디코더의 층의 개수\n",
    "D_MODEL = 256 # 인코더와 디코더 내부의 입, 출력의 고정 차원\n",
    "NUM_HEADS = 8 # 멀티 헤드 어텐션에서의 헤드 수 \n",
    "UNITS = 256 # 피드 포워드 신경망의 은닉층의 크기\n",
    "DROPOUT = 0.1 # 드롭아웃의 비율"
   ]
  },
  {
   "cell_type": "code",
   "execution_count": 46,
   "metadata": {},
   "outputs": [
    {
     "name": "stdout",
     "output_type": "stream",
     "text": [
      "Model: \"transformer\"\n",
      "__________________________________________________________________________________________________\n",
      "Layer (type)                    Output Shape         Param #     Connected to                     \n",
      "==================================================================================================\n",
      "inputs (InputLayer)             [(None, None)]       0                                            \n",
      "__________________________________________________________________________________________________\n",
      "dec_inputs (InputLayer)         [(None, None)]       0                                            \n",
      "__________________________________________________________________________________________________\n",
      "enc_padding_mask (Lambda)       (None, 1, 1, None)   0           inputs[0][0]                     \n",
      "__________________________________________________________________________________________________\n",
      "encoder (Functional)            (None, None, 256)    2092032     inputs[0][0]                     \n",
      "                                                                 enc_padding_mask[0][0]           \n",
      "__________________________________________________________________________________________________\n",
      "look_ahead_mask (Lambda)        (None, 1, None, None 0           dec_inputs[0][0]                 \n",
      "__________________________________________________________________________________________________\n",
      "dec_padding_mask (Lambda)       (None, 1, 1, None)   0           inputs[0][0]                     \n",
      "__________________________________________________________________________________________________\n",
      "decoder (Functional)            (None, None, 256)    3410944     dec_inputs[0][0]                 \n",
      "                                                                 encoder[0][0]                    \n",
      "                                                                 look_ahead_mask[0][0]            \n",
      "                                                                 dec_padding_mask[0][0]           \n",
      "__________________________________________________________________________________________________\n",
      "outputs (Dense)                 (None, None, 8172)   2100204     decoder[0][0]                    \n",
      "==================================================================================================\n",
      "Total params: 7,603,180\n",
      "Trainable params: 7,603,180\n",
      "Non-trainable params: 0\n",
      "__________________________________________________________________________________________________\n"
     ]
    }
   ],
   "source": [
    "transformers = Transformer()\n",
    "model = transformers.transformer(vocab_size=VOCAB_SIZE,\n",
    "                                num_layers=NUM_LAYERS,\n",
    "                                units=UNITS,\n",
    "                                d_model=D_MODEL,\n",
    "                                num_heads=NUM_HEADS,\n",
    "                                dropout=DROPOUT)\n",
    "model.summary()"
   ]
  },
  {
   "cell_type": "markdown",
   "metadata": {},
   "source": [
    "### Step 5. 모델 평가하기\n",
    "  \n",
    "#### Loss function"
   ]
  },
  {
   "cell_type": "code",
   "execution_count": 47,
   "metadata": {},
   "outputs": [],
   "source": [
    "def loss_function(y_true, y_pred):\n",
    "    y_true = tf.reshape(y_true, shape=(-1, MAX_LENGTH - 1))\n",
    "  \n",
    "    loss = tf.keras.losses.SparseCategoricalCrossentropy(\n",
    "      from_logits=True, reduction='none')(y_true, y_pred)\n",
    "\n",
    "    mask = tf.cast(tf.not_equal(y_true, 0), tf.float32)\n",
    "    loss = tf.multiply(loss, mask)\n",
    "\n",
    "    return tf.reduce_mean(loss)"
   ]
  },
  {
   "cell_type": "markdown",
   "metadata": {},
   "source": [
    "#### Learning rate"
   ]
  },
  {
   "cell_type": "code",
   "execution_count": 48,
   "metadata": {},
   "outputs": [],
   "source": [
    "class CustomSchedule(tf.keras.optimizers.schedules.LearningRateSchedule):\n",
    "\n",
    "    def __init__(self, d_model, warmup_steps=4000):\n",
    "        super(CustomSchedule, self).__init__()\n",
    "\n",
    "        self.d_model = d_model\n",
    "        self.d_model = tf.cast(self.d_model, tf.float32)\n",
    "\n",
    "        self.warmup_steps = warmup_steps\n",
    "\n",
    "    def __call__(self, step):\n",
    "        arg1 = tf.math.rsqrt(step)\n",
    "        arg2 = step * (self.warmup_steps**-1.5)\n",
    "\n",
    "        return tf.math.rsqrt(self.d_model) * tf.math.minimum(arg1, arg2)"
   ]
  },
  {
   "cell_type": "markdown",
   "metadata": {},
   "source": [
    "#### 모델 컴바인"
   ]
  },
  {
   "cell_type": "code",
   "execution_count": 50,
   "metadata": {},
   "outputs": [],
   "source": [
    "learning_rate = CustomSchedule(D_MODEL)\n",
    "\n",
    "optimizer = tf.keras.optimizers.Adam(\n",
    "    learning_rate, beta_1=0.9, beta_2=0.98, epsilon=1e-9)\n",
    "\n",
    "def accuracy(y_true, y_pred):\n",
    "    y_true = tf.reshape(y_true, shape=(-1, MAX_LENGTH - 1))\n",
    "    return tf.keras.metrics.sparse_categorical_accuracy(y_true, y_pred)\n",
    "\n",
    "model.compile(optimizer=optimizer, loss=loss_function, metrics=[accuracy])"
   ]
  },
  {
   "cell_type": "code",
   "execution_count": 51,
   "metadata": {
    "scrolled": false
   },
   "outputs": [
    {
     "name": "stdout",
     "output_type": "stream",
     "text": [
      "Epoch 1/50\n",
      "185/185 [==============================] - 8s 42ms/step - loss: 1.9790 - accuracy: 0.0332\n",
      "Epoch 2/50\n",
      "185/185 [==============================] - 8s 42ms/step - loss: 1.6023 - accuracy: 0.0663\n",
      "Epoch 3/50\n",
      "185/185 [==============================] - 8s 42ms/step - loss: 1.3521 - accuracy: 0.0679\n",
      "Epoch 4/50\n",
      "185/185 [==============================] - 8s 42ms/step - loss: 1.2507 - accuracy: 0.0728\n",
      "Epoch 5/50\n",
      "185/185 [==============================] - 8s 42ms/step - loss: 1.1724 - accuracy: 0.0769\n",
      "Epoch 6/50\n",
      "185/185 [==============================] - 8s 43ms/step - loss: 1.0902 - accuracy: 0.0825\n",
      "Epoch 7/50\n",
      "185/185 [==============================] - 8s 43ms/step - loss: 0.9959 - accuracy: 0.0907\n",
      "Epoch 8/50\n",
      "185/185 [==============================] - 8s 43ms/step - loss: 0.8886 - accuracy: 0.1018\n",
      "Epoch 9/50\n",
      "185/185 [==============================] - 8s 43ms/step - loss: 0.7686 - accuracy: 0.1161\n",
      "Epoch 10/50\n",
      "185/185 [==============================] - 8s 43ms/step - loss: 0.6438 - accuracy: 0.1320\n",
      "Epoch 11/50\n",
      "185/185 [==============================] - 8s 43ms/step - loss: 0.5168 - accuracy: 0.1502\n",
      "Epoch 12/50\n",
      "185/185 [==============================] - 8s 43ms/step - loss: 0.3960 - accuracy: 0.1683\n",
      "Epoch 13/50\n",
      "185/185 [==============================] - 8s 43ms/step - loss: 0.2877 - accuracy: 0.1857\n",
      "Epoch 14/50\n",
      "185/185 [==============================] - 8s 43ms/step - loss: 0.1966 - accuracy: 0.2010\n",
      "Epoch 15/50\n",
      "185/185 [==============================] - 8s 43ms/step - loss: 0.1272 - accuracy: 0.2137\n",
      "Epoch 16/50\n",
      "185/185 [==============================] - 8s 43ms/step - loss: 0.0804 - accuracy: 0.2220\n",
      "Epoch 17/50\n",
      "185/185 [==============================] - 9s 47ms/step - loss: 0.0539 - accuracy: 0.2256\n",
      "Epoch 18/50\n",
      "185/185 [==============================] - 8s 43ms/step - loss: 0.0423 - accuracy: 0.2271\n",
      "Epoch 19/50\n",
      "185/185 [==============================] - 8s 44ms/step - loss: 0.0372 - accuracy: 0.2274\n",
      "Epoch 20/50\n",
      "185/185 [==============================] - 9s 46ms/step - loss: 0.0329 - accuracy: 0.2282\n",
      "Epoch 21/50\n",
      "185/185 [==============================] - 8s 45ms/step - loss: 0.0329 - accuracy: 0.2277\n",
      "Epoch 22/50\n",
      "185/185 [==============================] - 8s 46ms/step - loss: 0.0323 - accuracy: 0.2277\n",
      "Epoch 23/50\n",
      "185/185 [==============================] - 8s 45ms/step - loss: 0.0292 - accuracy: 0.2285\n",
      "Epoch 24/50\n",
      "185/185 [==============================] - 8s 46ms/step - loss: 0.0256 - accuracy: 0.2294\n",
      "Epoch 25/50\n",
      "185/185 [==============================] - 8s 45ms/step - loss: 0.0231 - accuracy: 0.2300\n",
      "Epoch 26/50\n",
      "185/185 [==============================] - 9s 46ms/step - loss: 0.0210 - accuracy: 0.2304\n",
      "Epoch 27/50\n",
      "185/185 [==============================] - 8s 44ms/step - loss: 0.0183 - accuracy: 0.2312\n",
      "Epoch 28/50\n",
      "185/185 [==============================] - 8s 43ms/step - loss: 0.0171 - accuracy: 0.2315\n",
      "Epoch 29/50\n",
      "185/185 [==============================] - 8s 43ms/step - loss: 0.0152 - accuracy: 0.2320\n",
      "Epoch 30/50\n",
      "185/185 [==============================] - 8s 43ms/step - loss: 0.0148 - accuracy: 0.2318\n",
      "Epoch 31/50\n",
      "185/185 [==============================] - 8s 43ms/step - loss: 0.0138 - accuracy: 0.2321\n",
      "Epoch 32/50\n",
      "185/185 [==============================] - 8s 44ms/step - loss: 0.0118 - accuracy: 0.2327\n",
      "Epoch 33/50\n",
      "185/185 [==============================] - 8s 43ms/step - loss: 0.0114 - accuracy: 0.2328\n",
      "Epoch 34/50\n",
      "185/185 [==============================] - 8s 43ms/step - loss: 0.0113 - accuracy: 0.2327\n",
      "Epoch 35/50\n",
      "185/185 [==============================] - 8s 43ms/step - loss: 0.0102 - accuracy: 0.2329\n",
      "Epoch 36/50\n",
      "185/185 [==============================] - 8s 43ms/step - loss: 0.0095 - accuracy: 0.2331\n",
      "Epoch 37/50\n",
      "185/185 [==============================] - 8s 42ms/step - loss: 0.0089 - accuracy: 0.2333\n",
      "Epoch 38/50\n",
      "185/185 [==============================] - 8s 42ms/step - loss: 0.0089 - accuracy: 0.2334\n",
      "Epoch 39/50\n",
      "185/185 [==============================] - 8s 42ms/step - loss: 0.0081 - accuracy: 0.2335\n",
      "Epoch 40/50\n",
      "185/185 [==============================] - 8s 43ms/step - loss: 0.0078 - accuracy: 0.2336\n",
      "Epoch 41/50\n",
      "185/185 [==============================] - 8s 44ms/step - loss: 0.0077 - accuracy: 0.2336\n",
      "Epoch 42/50\n",
      "185/185 [==============================] - 8s 43ms/step - loss: 0.0072 - accuracy: 0.2337\n",
      "Epoch 43/50\n",
      "185/185 [==============================] - 8s 45ms/step - loss: 0.0067 - accuracy: 0.2337\n",
      "Epoch 44/50\n",
      "185/185 [==============================] - 8s 43ms/step - loss: 0.0069 - accuracy: 0.2338\n",
      "Epoch 45/50\n",
      "185/185 [==============================] - 8s 42ms/step - loss: 0.0061 - accuracy: 0.2340\n",
      "Epoch 46/50\n",
      "185/185 [==============================] - 8s 43ms/step - loss: 0.0061 - accuracy: 0.2339\n",
      "Epoch 47/50\n",
      "185/185 [==============================] - 8s 43ms/step - loss: 0.0060 - accuracy: 0.2339\n",
      "Epoch 48/50\n",
      "185/185 [==============================] - 8s 41ms/step - loss: 0.0057 - accuracy: 0.2340\n",
      "Epoch 49/50\n",
      "185/185 [==============================] - 8s 42ms/step - loss: 0.0058 - accuracy: 0.2340\n",
      "Epoch 50/50\n",
      "185/185 [==============================] - 8s 42ms/step - loss: 0.0054 - accuracy: 0.2341\n"
     ]
    },
    {
     "data": {
      "text/plain": [
       "<tensorflow.python.keras.callbacks.History at 0x7f9b69c13090>"
      ]
     },
     "execution_count": 51,
     "metadata": {},
     "output_type": "execute_result"
    }
   ],
   "source": [
    "EPOCHS = 50\n",
    "\n",
    "model.fit(dataset, epochs=EPOCHS,validation_batch_size=12, verbose=1)"
   ]
  },
  {
   "cell_type": "code",
   "execution_count": 52,
   "metadata": {},
   "outputs": [
    {
     "data": {
      "text/plain": [
       "[<matplotlib.lines.Line2D at 0x7f9b6893b710>]"
      ]
     },
     "execution_count": 52,
     "metadata": {},
     "output_type": "execute_result"
    },
    {
     "data": {
      "image/png": "[encoded data removed]",
      "text/plain": [
       "<Figure size 720x360 with 2 Axes>"
      ]
     },
     "metadata": {
      "needs_background": "light"
     },
     "output_type": "display_data"
    }
   ],
   "source": [
    "plt.figure(figsize=(10, 5))\n",
    "plt.subplot(121)\n",
    "plt.xlabel('EPOCHS')\n",
    "plt.ylabel('ACCURACY')\n",
    "plt.plot(model.history.history['accuracy'])\n",
    "\n",
    "plt.subplot(122)\n",
    "plt.xlabel('EPOCHS')\n",
    "plt.ylabel('LOSS')\n",
    "plt.plot(model.history.history['loss'])"
   ]
  },
  {
   "cell_type": "markdown",
   "metadata": {},
   "source": [
    "#### 챗봇 테스트하기"
   ]
  },
  {
   "cell_type": "code",
   "execution_count": 53,
   "metadata": {},
   "outputs": [],
   "source": [
    "def decoder_inference(sentence):\n",
    "    sentence = preprocess_sentence(sentence)\n",
    "\n",
    "    # 입력된 문장을 정수 인코딩 후, 시작 토큰과 종료 토큰을 앞 뒤로 추가.\n",
    "    # ex) Where have you been? → [[8331   86   30    5 1059    7 8332]]\n",
    "    sentence = tf.expand_dims(\n",
    "        START_TOKEN + tokenizer.encode(sentence) + END_TOKEN, axis=0)\n",
    "\n",
    "    # 디코더의 현재까지의 예측한 출력 시퀀스가 지속적으로 저장되는 변수.\n",
    "    # 처음에는 예측한 내용이 없으므로 시작 토큰만 별도 저장. ex) 8331\n",
    "    output_sequence = tf.expand_dims(START_TOKEN, 0)\n",
    "\n",
    "    # 디코더의 인퍼런스 단계\n",
    "    for i in range(MAX_LENGTH):\n",
    "        # 디코더는 최대 MAX_LENGTH의 길이만큼 다음 단어 예측을 반복합니다.\n",
    "        predictions = model(inputs=[sentence, output_sequence], training=False)\n",
    "        predictions = predictions[:, -1:, :]\n",
    "\n",
    "        # 현재 예측한 단어의 정수\n",
    "        predicted_id = tf.cast(tf.argmax(predictions, axis=-1), tf.int32)\n",
    "\n",
    "        # 만약 현재 예측한 단어가 종료 토큰이라면 for문을 종료\n",
    "        if tf.equal(predicted_id, END_TOKEN[0]):\n",
    "            break\n",
    "\n",
    "    # 예측한 단어들은 지속적으로 output_sequence에 추가됩니다.\n",
    "    # 이 output_sequence는 다시 디코더의 입력이 됩니다.\n",
    "    output_sequence = tf.concat([output_sequence, predicted_id], axis=-1)\n",
    "\n",
    "    return tf.squeeze(output_sequence, axis=0)"
   ]
  },
  {
   "cell_type": "code",
   "execution_count": 54,
   "metadata": {},
   "outputs": [],
   "source": [
    "def sentence_generation(sentence):\n",
    "    # 입력 문장에 대해서 디코더를 동작시켜 예측된 정수 시퀀스를 리턴받습니다.\n",
    "    prediction = decoder_inference(sentence)\n",
    "\n",
    "    # 정수 시퀀스를 다시 텍스트 시퀀스로 변환합니다.\n",
    "    predicted_sentence = tokenizer.decode(\n",
    "        [i for i in prediction if i < tokenizer.vocab_size])\n",
    "\n",
    "    print('입력 : {}'.format(sentence))\n",
    "    print('출력 : {}'.format(predicted_sentence))\n",
    "\n",
    "    return predicted_sentence"
   ]
  },
  {
   "cell_type": "code",
   "execution_count": 55,
   "metadata": {},
   "outputs": [
    {
     "name": "stdout",
     "output_type": "stream",
     "text": [
      "입력 : 안녕?\n",
      "출력 : 안녕하세요\n"
     ]
    },
    {
     "data": {
      "text/plain": [
       "'안녕하세요'"
      ]
     },
     "execution_count": 55,
     "metadata": {},
     "output_type": "execute_result"
    }
   ],
   "source": [
    "sentence_generation(\"안녕?\")"
   ]
  },
  {
   "cell_type": "code",
   "execution_count": 74,
   "metadata": {},
   "outputs": [
    {
     "name": "stdout",
     "output_type": "stream",
     "text": [
      "입력 : 누구세요?\n",
      "출력 : 저는 \n"
     ]
    },
    {
     "data": {
      "text/plain": [
       "'저는 '"
      ]
     },
     "execution_count": 74,
     "metadata": {},
     "output_type": "execute_result"
    }
   ],
   "source": [
    "sentence_generation(\"누구세요?\")"
   ]
  },
  {
   "cell_type": "code",
   "execution_count": 57,
   "metadata": {},
   "outputs": [
    {
     "name": "stdout",
     "output_type": "stream",
     "text": [
      "입력 : 할 수 있어?\n",
      "출력 : 그럼요\n"
     ]
    },
    {
     "data": {
      "text/plain": [
       "'그럼요'"
      ]
     },
     "execution_count": 57,
     "metadata": {},
     "output_type": "execute_result"
    }
   ],
   "source": [
    "sentence_generation(\"할 수 있어?\")"
   ]
  },
  {
   "cell_type": "code",
   "execution_count": 78,
   "metadata": {},
   "outputs": [
    {
     "name": "stdout",
     "output_type": "stream",
     "text": [
      "입력 : 밖에 먼지가 너무 많아\n",
      "출력 : 얼른 \n"
     ]
    },
    {
     "data": {
      "text/plain": [
       "'얼른 '"
      ]
     },
     "execution_count": 78,
     "metadata": {},
     "output_type": "execute_result"
    }
   ],
   "source": [
    "sentence_generation(\"밖에 먼지가 너무 많아\")"
   ]
  }
 ],
 "metadata": {
  "kernelspec": {
   "display_name": "Python 3",
   "language": "python",
   "name": "python3"
  },
  "language_info": {
   "codemirror_mode": {
    "name": "ipython",
    "version": 3
   },
   "file_extension": ".py",
   "mimetype": "text/x-python",
   "name": "python",
   "nbconvert_exporter": "python",
   "pygments_lexer": "ipython3",
   "version": "3.8.5"
  }
 },
 "nbformat": 4,
 "nbformat_minor": 4
}
